{
 "cells": [
  {
   "cell_type": "markdown",
   "metadata": {},
   "source": [
    "# Football Object Detection with Tactical Map Position Estimation"
   ]
  },
  {
   "cell_type": "code",
   "execution_count": 1,
   "metadata": {},
   "outputs": [],
   "source": [
    "# Import libraries\n",
    "import numpy as np\n",
    "import pandas as pd\n",
    "\n",
    "import cv2\n",
    "import skimage\n",
    "from PIL import Image\n",
    "from ultralytics import YOLO\n",
    "from sklearn.metrics import mean_squared_error\n",
    "from yolox.tracker.byte_tracker import BYTETracker, STrack\n",
    "from onemetric.cv.utils.iou import box_iou_batch\n",
    "import torch\n",
    "\n",
    "import json\n",
    "import yaml\n",
    "import time"
   ]
  },
  {
   "cell_type": "code",
   "execution_count": 2,
   "metadata": {},
   "outputs": [
    {
     "name": "stdout",
     "output_type": "stream",
     "text": [
      "Known coordinates of each keypoint on the tactical map:\n"
     ]
    },
    {
     "data": {
      "text/html": [
       "<div>\n",
       "<style scoped>\n",
       "    .dataframe tbody tr th:only-of-type {\n",
       "        vertical-align: middle;\n",
       "    }\n",
       "\n",
       "    .dataframe tbody tr th {\n",
       "        vertical-align: top;\n",
       "    }\n",
       "\n",
       "    .dataframe thead th {\n",
       "        text-align: right;\n",
       "    }\n",
       "</style>\n",
       "<table border=\"1\" class=\"dataframe\">\n",
       "  <thead>\n",
       "    <tr style=\"text-align: right;\">\n",
       "      <th></th>\n",
       "      <th>TLC</th>\n",
       "      <th>TRC</th>\n",
       "      <th>TR6MC</th>\n",
       "      <th>TL6MC</th>\n",
       "      <th>TR6ML</th>\n",
       "      <th>TL6ML</th>\n",
       "      <th>TR18MC</th>\n",
       "      <th>TL18MC</th>\n",
       "      <th>TR18ML</th>\n",
       "      <th>TL18ML</th>\n",
       "      <th>...</th>\n",
       "      <th>BR6MC</th>\n",
       "      <th>BL6MC</th>\n",
       "      <th>BR6ML</th>\n",
       "      <th>BL6ML</th>\n",
       "      <th>BR18MC</th>\n",
       "      <th>BL18MC</th>\n",
       "      <th>BR18ML</th>\n",
       "      <th>BL18ML</th>\n",
       "      <th>BRArc</th>\n",
       "      <th>BLArc</th>\n",
       "    </tr>\n",
       "  </thead>\n",
       "  <tbody>\n",
       "    <tr>\n",
       "      <th>x</th>\n",
       "      <td>15</td>\n",
       "      <td>291</td>\n",
       "      <td>188</td>\n",
       "      <td>116</td>\n",
       "      <td>189</td>\n",
       "      <td>116</td>\n",
       "      <td>221</td>\n",
       "      <td>84</td>\n",
       "      <td>221</td>\n",
       "      <td>84</td>\n",
       "      <td>...</td>\n",
       "      <td>189</td>\n",
       "      <td>117</td>\n",
       "      <td>189</td>\n",
       "      <td>117</td>\n",
       "      <td>221</td>\n",
       "      <td>84</td>\n",
       "      <td>221</td>\n",
       "      <td>84</td>\n",
       "      <td>182</td>\n",
       "      <td>121</td>\n",
       "    </tr>\n",
       "    <tr>\n",
       "      <th>y</th>\n",
       "      <td>15</td>\n",
       "      <td>15</td>\n",
       "      <td>35</td>\n",
       "      <td>35</td>\n",
       "      <td>15</td>\n",
       "      <td>15</td>\n",
       "      <td>73</td>\n",
       "      <td>73</td>\n",
       "      <td>15</td>\n",
       "      <td>15</td>\n",
       "      <td>...</td>\n",
       "      <td>501</td>\n",
       "      <td>501</td>\n",
       "      <td>521</td>\n",
       "      <td>521</td>\n",
       "      <td>463</td>\n",
       "      <td>463</td>\n",
       "      <td>521</td>\n",
       "      <td>521</td>\n",
       "      <td>463</td>\n",
       "      <td>463</td>\n",
       "    </tr>\n",
       "  </tbody>\n",
       "</table>\n",
       "<p>2 rows × 28 columns</p>\n",
       "</div>"
      ],
      "text/plain": [
       "   TLC  TRC  TR6MC  TL6MC  TR6ML  TL6ML  TR18MC  TL18MC  TR18ML  TL18ML  ...  \\\n",
       "x   15  291    188    116    189    116     221      84     221      84  ...   \n",
       "y   15   15     35     35     15     15      73      73      15      15  ...   \n",
       "\n",
       "   BR6MC  BL6MC  BR6ML  BL6ML  BR18MC  BL18MC  BR18ML  BL18ML  BRArc  BLArc  \n",
       "x    189    117    189    117     221      84     221      84    182    121  \n",
       "y    501    501    521    521     463     463     521     521    463    463  \n",
       "\n",
       "[2 rows x 28 columns]"
      ]
     },
     "metadata": {},
     "output_type": "display_data"
    },
    {
     "name": "stdout",
     "output_type": "stream",
     "text": [
      "Numerical label of field keypoints (as defined when training the Yolo model):\n"
     ]
    },
    {
     "data": {
      "text/html": [
       "<div>\n",
       "<style scoped>\n",
       "    .dataframe tbody tr th:only-of-type {\n",
       "        vertical-align: middle;\n",
       "    }\n",
       "\n",
       "    .dataframe tbody tr th {\n",
       "        vertical-align: top;\n",
       "    }\n",
       "\n",
       "    .dataframe thead th {\n",
       "        text-align: right;\n",
       "    }\n",
       "</style>\n",
       "<table border=\"1\" class=\"dataframe\">\n",
       "  <thead>\n",
       "    <tr style=\"text-align: right;\">\n",
       "      <th>alpha_label</th>\n",
       "      <th>TLC</th>\n",
       "      <th>TRC</th>\n",
       "      <th>TR6MC</th>\n",
       "      <th>TL6MC</th>\n",
       "      <th>TR6ML</th>\n",
       "      <th>TL6ML</th>\n",
       "      <th>TR18MC</th>\n",
       "      <th>TL18MC</th>\n",
       "      <th>TR18ML</th>\n",
       "      <th>TL18ML</th>\n",
       "      <th>...</th>\n",
       "      <th>BR6MC</th>\n",
       "      <th>BL6MC</th>\n",
       "      <th>BR6ML</th>\n",
       "      <th>BL6ML</th>\n",
       "      <th>BR18MC</th>\n",
       "      <th>BL18MC</th>\n",
       "      <th>BR18ML</th>\n",
       "      <th>BL18ML</th>\n",
       "      <th>BRArc</th>\n",
       "      <th>BLArc</th>\n",
       "    </tr>\n",
       "  </thead>\n",
       "  <tbody>\n",
       "    <tr>\n",
       "      <th>num_label</th>\n",
       "      <td>0</td>\n",
       "      <td>1</td>\n",
       "      <td>2</td>\n",
       "      <td>3</td>\n",
       "      <td>4</td>\n",
       "      <td>5</td>\n",
       "      <td>6</td>\n",
       "      <td>7</td>\n",
       "      <td>8</td>\n",
       "      <td>9</td>\n",
       "      <td>...</td>\n",
       "      <td>18</td>\n",
       "      <td>19</td>\n",
       "      <td>20</td>\n",
       "      <td>21</td>\n",
       "      <td>22</td>\n",
       "      <td>23</td>\n",
       "      <td>24</td>\n",
       "      <td>25</td>\n",
       "      <td>26</td>\n",
       "      <td>27</td>\n",
       "    </tr>\n",
       "  </tbody>\n",
       "</table>\n",
       "<p>1 rows × 28 columns</p>\n",
       "</div>"
      ],
      "text/plain": [
       "alpha_label  TLC  TRC  TR6MC  TL6MC  TR6ML  TL6ML  TR18MC  TL18MC  TR18ML  \\\n",
       "num_label      0    1      2      3      4      5       6       7       8   \n",
       "\n",
       "alpha_label  TL18ML  ...  BR6MC  BL6MC  BR6ML  BL6ML  BR18MC  BL18MC  BR18ML  \\\n",
       "num_label         9  ...     18     19     20     21      22      23      24   \n",
       "\n",
       "alpha_label  BL18ML  BRArc  BLArc  \n",
       "num_label        25     26     27  \n",
       "\n",
       "[1 rows x 28 columns]"
      ]
     },
     "metadata": {},
     "output_type": "display_data"
    },
    {
     "name": "stdout",
     "output_type": "stream",
     "text": [
      "Numerical label of the player, referee, and ball objects (as defined when training the Yolo model):\n"
     ]
    },
    {
     "data": {
      "text/html": [
       "<div>\n",
       "<style scoped>\n",
       "    .dataframe tbody tr th:only-of-type {\n",
       "        vertical-align: middle;\n",
       "    }\n",
       "\n",
       "    .dataframe tbody tr th {\n",
       "        vertical-align: top;\n",
       "    }\n",
       "\n",
       "    .dataframe thead th {\n",
       "        text-align: right;\n",
       "    }\n",
       "</style>\n",
       "<table border=\"1\" class=\"dataframe\">\n",
       "  <thead>\n",
       "    <tr style=\"text-align: right;\">\n",
       "      <th>alpha_label</th>\n",
       "      <th>player</th>\n",
       "      <th>referee</th>\n",
       "      <th>ball</th>\n",
       "    </tr>\n",
       "  </thead>\n",
       "  <tbody>\n",
       "    <tr>\n",
       "      <th>num_label</th>\n",
       "      <td>0</td>\n",
       "      <td>1</td>\n",
       "      <td>2</td>\n",
       "    </tr>\n",
       "  </tbody>\n",
       "</table>\n",
       "</div>"
      ],
      "text/plain": [
       "alpha_label  player  referee  ball\n",
       "num_label         0        1     2"
      ]
     },
     "metadata": {},
     "output_type": "display_data"
    },
    {
     "name": "stdout",
     "output_type": "stream",
     "text": [
      "\u001b[1mThe dataframe representation are not used in what follows (original dictionary will be used)\n"
     ]
    }
   ],
   "source": [
    "# Get tactical map keypoints positions dictionary\n",
    "json_path = \"configs/pitch map labels position.json\"\n",
    "with open(json_path, 'r') as f:\n",
    "    keypoints_map_pos = json.load(f)\n",
    "\n",
    "# Get football field keypoints numerical to alphabetical mapping\n",
    "yaml_path = \"configs/config pitch dataset.yaml\"\n",
    "with open(yaml_path, 'r') as file:\n",
    "    classes_names_dic = yaml.safe_load(file)\n",
    "classes_names_dic = classes_names_dic['names']\n",
    "\n",
    "# Get football field keypoints numerical to alphabetical mapping\n",
    "yaml_path = \"configs/config players dataset.yaml\"\n",
    "with open(yaml_path, 'r') as file:\n",
    "    labels_dic = yaml.safe_load(file)\n",
    "labels_dic = labels_dic['names']\n",
    "\n",
    "print(\"Known coordinates of each keypoint on the tactical map:\")\n",
    "display(pd.DataFrame(keypoints_map_pos, index=['x','y']))\n",
    "print(\"Numerical label of field keypoints (as defined when training the Yolo model):\")\n",
    "display(pd.Series(classes_names_dic, name='alpha_label').reset_index().rename({\"index\":\"num_label\"}, axis=1).set_index(\"alpha_label\").transpose())\n",
    "print(\"Numerical label of the player, referee, and ball objects (as defined when training the Yolo model):\")\n",
    "display(pd.Series(labels_dic, name='alpha_label').reset_index().rename({\"index\":\"num_label\"}, axis=1).set_index(\"alpha_label\").transpose())\n",
    "print('\\033[1mThe dataframe representation are not used in what follows (original dictionary will be used)')"
   ]
  },
  {
   "cell_type": "code",
   "execution_count": 3,
   "metadata": {},
   "outputs": [],
   "source": [
    "# Set video path\n",
    "video_path = 'test vid.mp4'\n",
    "\n",
    "# Read tactical map image\n",
    "tac_map = cv2.imread('tactical map.jpg')\n",
    "\n",
    "# Define team colors (based on chosen video)\n",
    "nbr_team_colors = 2\n",
    "colors_dic = {\n",
    "    \"Chelsea\":[(41,71,138), (220,98,88)], # Chelsea colors (Players kit color, GK kit color)\n",
    "    \"Man City\":[(144,200,255), (188,199,3)] # Man City colors (Players kit color, GK kit color)\n",
    "}\n",
    "\n",
    "colors_list = colors_dic[\"Chelsea\"]+colors_dic[\"Man City\"] # Define color list to be used for detected player team prediction\n",
    "color_list_lab = [skimage.color.rgb2lab([i/255 for i in c]) for c in colors_list] # Converting color_list to L*a*b* space"
   ]
  },
  {
   "cell_type": "code",
   "execution_count": 4,
   "metadata": {},
   "outputs": [],
   "source": [
    "# Load the YOLOv8 players detection model\n",
    "model_players = YOLO(\"models/players.pt\")\n",
    "\n",
    "# Load the YOLOv8 field keypoints detection model\n",
    "model_keypoints = YOLO(\"models/field_keypoints.pt\")"
   ]
  },
  {
   "cell_type": "code",
   "execution_count": 5,
   "metadata": {},
   "outputs": [],
   "source": [
    "def filter_detections_by_class(detections, class_name):\n",
    "    if class_name == 'player':\n",
    "        class_number = 0\n",
    "    elif class_name == 'referee':\n",
    "        class_number = 1\n",
    "    elif class_name == 'ball':\n",
    "        class_number = 2\n",
    "    list = []\n",
    "    for detection in detections:\n",
    "        if detection.boxes.cls == class_number:\n",
    "            list.append(detection)\n",
    "    return list\n",
    "\n",
    "\n",
    "def get_player_in_possession(player_detections, ball_detections):\n",
    "    if len(ball_detections) != 1:\n",
    "        print(ball_detections)\n",
    "        return None,None\n",
    "    ball_x = ball_detections[0].boxes.xywh[0][0]\n",
    "    ball_y = ball_detections[0].boxes.xywh[0][1]\n",
    "    min_distance = 100\n",
    "    idx = -100\n",
    "    i = 0\n",
    "    for player_detection in player_detections:\n",
    "        player_x = player_detection.boxes.xywh[0][0]\n",
    "        player_y = player_detection.boxes.xywh[0][1]\n",
    "        distance = (player_x-ball_x) + abs(player_y-ball_y)\n",
    "        if distance < min_distance :\n",
    "            min_distance = distance\n",
    "            idx = i\n",
    "        i += 1\n",
    "    print(player_detections[idx].tracker_id,idx)\n",
    "    return player_detections[idx].tracker_id,idx\n",
    "\n",
    "def detections2boxes(detections, confidence = True):\n",
    "    list_of_boxes = []\n",
    "    for detection in detections:\n",
    "        list = detection.boxes.xyxy.tolist()\n",
    "        if confidence:\n",
    "            list[0].append(detection.boxes.conf.item())\n",
    "        # list to tensor\n",
    "        list_of_boxes.append(list)\n",
    "    return np.squeeze(np.array(list_of_boxes ,dtype = float))\n",
    "\n",
    "\n",
    "def tracks2boxes(tracks):\n",
    "    return np.array([\n",
    "        track.tlbr\n",
    "        for track\n",
    "        in tracks\n",
    "    ], dtype=float)\n",
    "\n",
    "\n",
    "def match_detections_with_tracks(detections, tracks):\n",
    "    # list of detections\n",
    "    # np.array of boxes\n",
    "    detection_boxes = detections2boxes(detections=detections, confidence=False)\n",
    "    tracks_boxes = tracks2boxes(tracks=tracks)\n",
    "    iou = box_iou_batch(tracks_boxes, detection_boxes)\n",
    "    track2detection = np.argmax(iou, axis=1)\n",
    "    \n",
    "    for tracker_index, detection_index in enumerate(track2detection):\n",
    "        if iou[tracker_index, detection_index] != 0:\n",
    "            detections[detection_index].tracker_id = tracks[tracker_index].track_id\n",
    "        else :\n",
    "            del detections[detection_index]\n",
    "    for idx,obj in enumerate(detections):\n",
    "        if not hasattr(obj,'tracker_id') :\n",
    "           del detections[idx] \n",
    "    return detections"
   ]
  },
  {
   "cell_type": "code",
   "execution_count": 6,
   "metadata": {},
   "outputs": [],
   "source": [
    "from dataclasses import dataclass\n",
    "\n",
    "\n",
    "@dataclass(frozen=True)\n",
    "class BYTETrackerArgs:\n",
    "    track_thresh: float = 0.25\n",
    "    track_buffer: int = 30\n",
    "    match_thresh: float = 0.8\n",
    "    aspect_ratio_thresh: float = 3.0\n",
    "    min_box_area: float = 1.0\n",
    "    mot20: bool = False\n"
   ]
  },
  {
   "cell_type": "code",
   "execution_count": 7,
   "metadata": {},
   "outputs": [],
   "source": [
    "# e7na ma3ana el id beta3 kol object wel ball holder\n",
    "# ama te7aded el team color assign it\n",
    "# the you say the ball now is with player with id x and in the y team \n",
    "# when the prev ball holder changes \n",
    "# if the ball "
   ]
  },
  {
   "cell_type": "code",
   "execution_count": 8,
   "metadata": {},
   "outputs": [],
   "source": [
    "# around the first box in the tracks plot id 1 and the second plot id 2 and so on \n",
    "# awel frame assign ids for each player or ref detected\n",
    "# then ball posession\n",
    "# then detect passes\n",
    "# when ball possesor is changed:\n",
    "# if different teams then steal\n",
    "# if same team then pass\n",
    "# array of colors each item corresponds to the id of a team\n",
    "# el tabdeel"
   ]
  },
  {
   "cell_type": "code",
   "execution_count": 9,
   "metadata": {},
   "outputs": [],
   "source": [
    "# 3awzeen neddy each player detected an id \n",
    "# we variable the ball holder to be an id of a player of these players"
   ]
  },
  {
   "cell_type": "code",
   "execution_count": 10,
   "metadata": {},
   "outputs": [],
   "source": [
    "# in the first we assign an id to each player detected\n",
    "# matching based on position and being being similar"
   ]
  },
  {
   "cell_type": "code",
   "execution_count": 11,
   "metadata": {},
   "outputs": [],
   "source": [
    "from deep_sort_realtime.deepsort_tracker import DeepSort\n",
    "\n",
    "object_tracker = DeepSort(max_age=5,\n",
    "                n_init=2,\n",
    "                nms_max_overlap=1.0,\n",
    "                max_cosine_distance=0.3,\n",
    "                nn_budget=None,\n",
    "                override_track_class=None,\n",
    "                embedder=\"mobilenet\",\n",
    "                half=True,\n",
    "                bgr=True,\n",
    "                embedder_gpu=True,\n",
    "                embedder_model_name=None,\n",
    "                embedder_wts=None,\n",
    "                polygon=False,\n",
    "                today=None)\n"
   ]
  },
  {
   "cell_type": "code",
   "execution_count": 13,
   "metadata": {},
   "outputs": [],
   "source": [
    "# remove the color part and associate the id with the color ,,, donee\n",
    "# we need to link player names with ids : dict with dict[id] = name ,,, hard code it\n",
    "# we need to put the scores in the app when we complete "
   ]
  },
  {
   "cell_type": "code",
   "execution_count": 12,
   "metadata": {},
   "outputs": [],
   "source": [
    "def predict_team(player,frame_rgb):\n",
    "    bbox = player.boxes.xyxy.cpu().numpy()[0]\n",
    "    obj_img = frame_rgb[int(bbox[1]):int(bbox[3]), int(bbox[0]):int(bbox[2])]\n",
    "    obj_img_w, obj_img_h = obj_img.shape[1], obj_img.shape[0]\n",
    "    center_filter_x1 = np.max([(obj_img_w//3), 1])\n",
    "    center_filter_x2 = (2*obj_img_w//3)\n",
    "    center_filter_y1 = np.max([(obj_img_h//6), 1])\n",
    "    center_filter_y2 = (obj_img_h//3)\n",
    "    center_filter = obj_img[center_filter_y1:center_filter_y2, \n",
    "                            center_filter_x1:center_filter_x2]\n",
    "\n",
    "    rgb_avg = np.sum(np.sum(center_filter,axis=1),axis=0)/(center_filter.shape[0]*center_filter.shape[1]) \n",
    "    lab_avg = skimage.color.rgb2lab(rgb_avg/255)\n",
    "    team_idx = np.argmin(np.sum(np.abs(color_list_lab - lab_avg),axis=1))\n",
    "    return team_idx"
   ]
  },
  {
   "cell_type": "code",
   "execution_count": null,
   "metadata": {},
   "outputs": [
    {
     "name": "stderr",
     "output_type": "stream",
     "text": [
      "\n",
      "0: 384x640 19 players, 1 referee, 1 ball, 273.6ms\n",
      "Speed: 2.6ms preprocess, 273.6ms inference, 8.0ms postprocess per image at shape (1, 3, 384, 640)\n",
      "\n",
      "0: 384x640 1 TLC, 1 TL6MC, 1 TL6ML, 1 TL18MC, 1 TL18ML, 1 TLArc, 1 BL18MC, 143.5ms\n",
      "Speed: 1.2ms preprocess, 143.5ms inference, 0.5ms postprocess per image at shape (1, 3, 384, 640)\n"
     ]
    },
    {
     "name": "stdout",
     "output_type": "stream",
     "text": [
      "(19, 5)\n",
      "19 18\n"
     ]
    },
    {
     "name": "stderr",
     "output_type": "stream",
     "text": [
      "\n",
      "0: 384x640 19 players, 1 referee, 268.9ms\n",
      "Speed: 1.3ms preprocess, 268.9ms inference, 0.5ms postprocess per image at shape (1, 3, 384, 640)\n",
      "\n",
      "0: 384x640 1 TLC, 1 TL6MC, 1 TL6ML, 1 TL18MC, 1 TL18ML, 1 TLArc, 1 BL18MC, 149.0ms\n",
      "Speed: 1.3ms preprocess, 149.0ms inference, 0.4ms postprocess per image at shape (1, 3, 384, 640)\n",
      "\n"
     ]
    },
    {
     "name": "stdout",
     "output_type": "stream",
     "text": [
      "(19, 5)\n"
     ]
    },
    {
     "name": "stderr",
     "output_type": "stream",
     "text": [
      "0: 384x640 18 players, 1 referee, 1 ball, 240.7ms\n",
      "Speed: 1.2ms preprocess, 240.7ms inference, 0.4ms postprocess per image at shape (1, 3, 384, 640)\n",
      "\n",
      "0: 384x640 1 TLC, 1 TL6MC, 1 TL6ML, 1 TL18MC, 1 TL18ML, 1 TLArc, 1 BL18MC, 132.5ms\n",
      "Speed: 1.1ms preprocess, 132.5ms inference, 0.4ms postprocess per image at shape (1, 3, 384, 640)\n",
      "\n"
     ]
    },
    {
     "name": "stdout",
     "output_type": "stream",
     "text": [
      "(18, 5)\n",
      "3 3\n"
     ]
    },
    {
     "name": "stderr",
     "output_type": "stream",
     "text": [
      "0: 384x640 17 players, 1 referee, 1 ball, 238.3ms\n",
      "Speed: 1.0ms preprocess, 238.3ms inference, 0.4ms postprocess per image at shape (1, 3, 384, 640)\n",
      "\n",
      "0: 384x640 1 TLC, 1 TL6MC, 1 TL6ML, 1 TL18MC, 1 TL18ML, 1 TLArc, 1 BL18MC, 135.4ms\n",
      "Speed: 1.3ms preprocess, 135.4ms inference, 0.4ms postprocess per image at shape (1, 3, 384, 640)\n",
      "\n"
     ]
    },
    {
     "name": "stdout",
     "output_type": "stream",
     "text": [
      "(17, 5)\n",
      "3 6\n"
     ]
    },
    {
     "name": "stderr",
     "output_type": "stream",
     "text": [
      "0: 384x640 18 players, 1 referee, 1 ball, 241.3ms\n",
      "Speed: 1.5ms preprocess, 241.3ms inference, 0.4ms postprocess per image at shape (1, 3, 384, 640)\n",
      "\n",
      "0: 384x640 1 TLC, 1 TL6MC, 1 TL6ML, 1 TL18MC, 1 TL18ML, 1 TLArc, 1 BL18MC, 136.8ms\n",
      "Speed: 1.1ms preprocess, 136.8ms inference, 0.4ms postprocess per image at shape (1, 3, 384, 640)\n",
      "\n"
     ]
    },
    {
     "name": "stdout",
     "output_type": "stream",
     "text": [
      "(18, 5)\n",
      "3 5\n"
     ]
    },
    {
     "name": "stderr",
     "output_type": "stream",
     "text": [
      "0: 384x640 18 players, 1 referee, 1 ball, 242.9ms\n",
      "Speed: 1.2ms preprocess, 242.9ms inference, 0.3ms postprocess per image at shape (1, 3, 384, 640)\n",
      "\n",
      "0: 384x640 1 TLC, 1 TL6MC, 1 TL6ML, 1 TL18MC, 1 TL18ML, 1 TLArc, 1 BL18MC, 138.4ms\n",
      "Speed: 1.2ms preprocess, 138.4ms inference, 0.4ms postprocess per image at shape (1, 3, 384, 640)\n",
      "\n"
     ]
    },
    {
     "name": "stdout",
     "output_type": "stream",
     "text": [
      "(18, 5)\n",
      "3 5\n"
     ]
    },
    {
     "name": "stderr",
     "output_type": "stream",
     "text": [
      "0: 384x640 18 players, 1 referee, 1 ball, 239.3ms\n",
      "Speed: 1.0ms preprocess, 239.3ms inference, 0.5ms postprocess per image at shape (1, 3, 384, 640)\n",
      "\n",
      "0: 384x640 1 TLC, 1 TL6MC, 1 TL6ML, 1 TL18MC, 1 TL18ML, 1 TLArc, 1 BL18MC, 136.2ms\n",
      "Speed: 1.1ms preprocess, 136.2ms inference, 0.5ms postprocess per image at shape (1, 3, 384, 640)\n",
      "\n"
     ]
    },
    {
     "name": "stdout",
     "output_type": "stream",
     "text": [
      "(18, 5)\n",
      "19 2\n"
     ]
    },
    {
     "name": "stderr",
     "output_type": "stream",
     "text": [
      "0: 384x640 18 players, 1 referee, 240.8ms\n",
      "Speed: 1.0ms preprocess, 240.8ms inference, 0.5ms postprocess per image at shape (1, 3, 384, 640)\n",
      "\n",
      "0: 384x640 1 TLC, 1 TL6MC, 1 TL6ML, 1 TL18MC, 1 TL18ML, 1 TLArc, 1 BL18MC, 137.5ms\n",
      "Speed: 1.1ms preprocess, 137.5ms inference, 0.7ms postprocess per image at shape (1, 3, 384, 640)\n",
      "\n"
     ]
    },
    {
     "name": "stdout",
     "output_type": "stream",
     "text": [
      "(18, 5)\n"
     ]
    },
    {
     "name": "stderr",
     "output_type": "stream",
     "text": [
      "0: 384x640 18 players, 1 referee, 243.6ms\n",
      "Speed: 1.0ms preprocess, 243.6ms inference, 0.3ms postprocess per image at shape (1, 3, 384, 640)\n",
      "\n",
      "0: 384x640 1 TLC, 1 TL6MC, 1 TL6ML, 1 TL18MC, 1 TL18ML, 1 TLArc, 1 LMC, 1 BL18MC, 138.4ms\n",
      "Speed: 1.1ms preprocess, 138.4ms inference, 0.4ms postprocess per image at shape (1, 3, 384, 640)\n",
      "\n"
     ]
    },
    {
     "name": "stdout",
     "output_type": "stream",
     "text": [
      "(18, 5)\n"
     ]
    },
    {
     "name": "stderr",
     "output_type": "stream",
     "text": [
      "0: 384x640 18 players, 1 referee, 1 ball, 239.9ms\n",
      "Speed: 1.2ms preprocess, 239.9ms inference, 0.4ms postprocess per image at shape (1, 3, 384, 640)\n",
      "\n",
      "0: 384x640 1 TLC, 1 TL6MC, 1 TL6ML, 1 TL18MC, 1 TL18ML, 1 TLArc, 1 LMC, 1 BL18MC, 135.6ms\n",
      "Speed: 1.0ms preprocess, 135.6ms inference, 0.4ms postprocess per image at shape (1, 3, 384, 640)\n",
      "\n"
     ]
    },
    {
     "name": "stdout",
     "output_type": "stream",
     "text": [
      "(18, 5)\n",
      "19 2\n"
     ]
    },
    {
     "name": "stderr",
     "output_type": "stream",
     "text": [
      "0: 384x640 18 players, 1 referee, 1 ball, 239.5ms\n",
      "Speed: 1.1ms preprocess, 239.5ms inference, 0.4ms postprocess per image at shape (1, 3, 384, 640)\n",
      "\n",
      "0: 384x640 1 TLC, 1 TL6MC, 1 TL6ML, 1 TL18MC, 1 TL18ML, 1 TLArc, 1 LMC, 1 BL18MC, 136.3ms\n",
      "Speed: 1.1ms preprocess, 136.3ms inference, 0.4ms postprocess per image at shape (1, 3, 384, 640)\n",
      "\n"
     ]
    },
    {
     "name": "stdout",
     "output_type": "stream",
     "text": [
      "(18, 5)\n",
      "19 6\n"
     ]
    },
    {
     "name": "stderr",
     "output_type": "stream",
     "text": [
      "0: 384x640 18 players, 1 referee, 1 ball, 242.6ms\n",
      "Speed: 1.0ms preprocess, 242.6ms inference, 0.5ms postprocess per image at shape (1, 3, 384, 640)\n",
      "\n",
      "0: 384x640 1 TLC, 1 TL6MC, 1 TL6ML, 1 TL18MC, 1 TL18ML, 1 TLArc, 1 LMC, 1 BL18MC, 139.0ms\n",
      "Speed: 1.1ms preprocess, 139.0ms inference, 0.4ms postprocess per image at shape (1, 3, 384, 640)\n",
      "\n"
     ]
    },
    {
     "name": "stdout",
     "output_type": "stream",
     "text": [
      "(18, 5)\n",
      "19 6\n"
     ]
    },
    {
     "name": "stderr",
     "output_type": "stream",
     "text": [
      "0: 384x640 18 players, 1 referee, 1 ball, 239.2ms\n",
      "Speed: 1.2ms preprocess, 239.2ms inference, 0.4ms postprocess per image at shape (1, 3, 384, 640)\n",
      "\n",
      "0: 384x640 1 TLC, 1 TL6MC, 1 TL6ML, 1 TL18MC, 1 TL18ML, 1 TLArc, 1 LMC, 1 BL18MC, 134.8ms\n",
      "Speed: 1.0ms preprocess, 134.8ms inference, 0.7ms postprocess per image at shape (1, 3, 384, 640)\n",
      "\n"
     ]
    },
    {
     "name": "stdout",
     "output_type": "stream",
     "text": [
      "(18, 5)\n",
      "19 3\n"
     ]
    },
    {
     "name": "stderr",
     "output_type": "stream",
     "text": [
      "0: 384x640 18 players, 1 referee, 249.1ms\n",
      "Speed: 1.0ms preprocess, 249.1ms inference, 0.4ms postprocess per image at shape (1, 3, 384, 640)\n",
      "\n",
      "0: 384x640 1 TLC, 1 TL6MC, 1 TL6ML, 1 TL18MC, 1 TL18ML, 1 TLArc, 1 LMC, 1 BL18MC, 156.5ms\n",
      "Speed: 1.2ms preprocess, 156.5ms inference, 0.4ms postprocess per image at shape (1, 3, 384, 640)\n",
      "\n"
     ]
    },
    {
     "name": "stdout",
     "output_type": "stream",
     "text": [
      "(18, 5)\n"
     ]
    },
    {
     "name": "stderr",
     "output_type": "stream",
     "text": [
      "0: 384x640 18 players, 1 referee, 1 ball, 284.0ms\n",
      "Speed: 1.1ms preprocess, 284.0ms inference, 0.8ms postprocess per image at shape (1, 3, 384, 640)\n",
      "\n",
      "0: 384x640 1 TLC, 1 TL6MC, 1 TL6ML, 1 TL18MC, 1 TL18ML, 1 TLArc, 1 LMC, 1 BL18MC, 143.5ms\n",
      "Speed: 1.1ms preprocess, 143.5ms inference, 0.4ms postprocess per image at shape (1, 3, 384, 640)\n",
      "\n"
     ]
    },
    {
     "name": "stdout",
     "output_type": "stream",
     "text": [
      "(18, 5)\n",
      "19 0\n"
     ]
    },
    {
     "name": "stderr",
     "output_type": "stream",
     "text": [
      "0: 384x640 18 players, 1 referee, 276.4ms\n",
      "Speed: 1.3ms preprocess, 276.4ms inference, 0.4ms postprocess per image at shape (1, 3, 384, 640)\n",
      "\n",
      "0: 384x640 1 TLC, 1 TL6MC, 1 TL6ML, 1 TL18MC, 1 TL18ML, 1 TLArc, 1 LMC, 1 BL18MC, 151.7ms\n",
      "Speed: 1.3ms preprocess, 151.7ms inference, 0.5ms postprocess per image at shape (1, 3, 384, 640)\n",
      "\n"
     ]
    },
    {
     "name": "stdout",
     "output_type": "stream",
     "text": [
      "(18, 5)\n"
     ]
    },
    {
     "name": "stderr",
     "output_type": "stream",
     "text": [
      "0: 384x640 18 players, 1 referee, 1 ball, 265.5ms\n",
      "Speed: 1.1ms preprocess, 265.5ms inference, 0.3ms postprocess per image at shape (1, 3, 384, 640)\n",
      "\n",
      "0: 384x640 1 TLC, 1 TL6MC, 1 TL6ML, 1 TL18MC, 1 TL18ML, 1 TLArc, 1 LMC, 1 BL18MC, 148.7ms\n",
      "Speed: 1.1ms preprocess, 148.7ms inference, 0.5ms postprocess per image at shape (1, 3, 384, 640)\n",
      "\n"
     ]
    },
    {
     "name": "stdout",
     "output_type": "stream",
     "text": [
      "(18, 5)\n",
      "19 0\n"
     ]
    },
    {
     "name": "stderr",
     "output_type": "stream",
     "text": [
      "0: 384x640 18 players, 1 referee, 1 ball, 264.7ms\n",
      "Speed: 1.2ms preprocess, 264.7ms inference, 0.4ms postprocess per image at shape (1, 3, 384, 640)\n",
      "\n",
      "0: 384x640 1 TLC, 1 TL6MC, 1 TL6ML, 1 TL18MC, 1 TL18ML, 1 TLArc, 1 LMC, 1 BL18MC, 138.6ms\n",
      "Speed: 1.4ms preprocess, 138.6ms inference, 0.7ms postprocess per image at shape (1, 3, 384, 640)\n",
      "\n"
     ]
    },
    {
     "name": "stdout",
     "output_type": "stream",
     "text": [
      "(18, 5)\n",
      "19 0\n"
     ]
    },
    {
     "name": "stderr",
     "output_type": "stream",
     "text": [
      "0: 384x640 18 players, 1 referee, 1 ball, 250.9ms\n",
      "Speed: 1.1ms preprocess, 250.9ms inference, 0.4ms postprocess per image at shape (1, 3, 384, 640)\n",
      "\n",
      "0: 384x640 1 TL6MC, 1 TL6ML, 1 TL18MC, 1 TL18ML, 1 TLArc, 1 LMC, 1 BL18MC, 143.4ms\n",
      "Speed: 1.5ms preprocess, 143.4ms inference, 0.4ms postprocess per image at shape (1, 3, 384, 640)\n",
      "\n"
     ]
    },
    {
     "name": "stdout",
     "output_type": "stream",
     "text": [
      "(18, 5)\n",
      "19 13\n"
     ]
    },
    {
     "name": "stderr",
     "output_type": "stream",
     "text": [
      "0: 384x640 18 players, 1 referee, 1 ball, 269.5ms\n",
      "Speed: 1.2ms preprocess, 269.5ms inference, 0.4ms postprocess per image at shape (1, 3, 384, 640)\n",
      "\n",
      "0: 384x640 1 TLC, 1 TL6MC, 1 TL6ML, 1 TL18MC, 1 TL18ML, 1 TLArc, 1 LMC, 1 BL18MC, 1 BLArc, 136.5ms\n",
      "Speed: 1.0ms preprocess, 136.5ms inference, 0.4ms postprocess per image at shape (1, 3, 384, 640)\n",
      "\n"
     ]
    },
    {
     "name": "stdout",
     "output_type": "stream",
     "text": [
      "(18, 5)\n",
      "19 3\n",
      "19 19\n"
     ]
    },
    {
     "name": "stderr",
     "output_type": "stream",
     "text": [
      "0: 384x640 18 players, 1 referee, 239.4ms\n",
      "Speed: 1.2ms preprocess, 239.4ms inference, 0.5ms postprocess per image at shape (1, 3, 384, 640)\n",
      "\n",
      "0: 384x640 1 TLC, 1 TL6MC, 1 TL6ML, 1 TL18MC, 1 TL18ML, 1 TLArc, 1 LMC, 1 BL18MC, 137.7ms\n",
      "Speed: 0.9ms preprocess, 137.7ms inference, 0.4ms postprocess per image at shape (1, 3, 384, 640)\n",
      "\n"
     ]
    },
    {
     "name": "stdout",
     "output_type": "stream",
     "text": [
      "(18, 5)\n"
     ]
    },
    {
     "name": "stderr",
     "output_type": "stream",
     "text": [
      "0: 384x640 18 players, 1 referee, 244.9ms\n",
      "Speed: 1.0ms preprocess, 244.9ms inference, 0.8ms postprocess per image at shape (1, 3, 384, 640)\n",
      "\n",
      "0: 384x640 1 TLC, 1 TL6MC, 1 TL6ML, 1 TL18MC, 1 TL18ML, 1 TLArc, 1 LMC, 1 BL18MC, 1 BLArc, 145.8ms\n",
      "Speed: 1.1ms preprocess, 145.8ms inference, 0.4ms postprocess per image at shape (1, 3, 384, 640)\n",
      "\n"
     ]
    },
    {
     "name": "stdout",
     "output_type": "stream",
     "text": [
      "(18, 5)\n"
     ]
    },
    {
     "name": "stderr",
     "output_type": "stream",
     "text": [
      "0: 384x640 18 players, 1 referee, 1 ball, 266.0ms\n",
      "Speed: 1.0ms preprocess, 266.0ms inference, 0.4ms postprocess per image at shape (1, 3, 384, 640)\n",
      "\n",
      "0: 384x640 1 TLC, 1 TL6ML, 1 TL18MC, 1 TL18ML, 1 TLArc, 1 LMC, 1 BL18MC, 1 BLArc, 132.2ms\n",
      "Speed: 1.0ms preprocess, 132.2ms inference, 0.7ms postprocess per image at shape (1, 3, 384, 640)\n",
      "\n"
     ]
    },
    {
     "name": "stdout",
     "output_type": "stream",
     "text": [
      "(18, 5)\n",
      "19 13\n"
     ]
    },
    {
     "name": "stderr",
     "output_type": "stream",
     "text": [
      "0: 384x640 18 players, 1 referee, 1 ball, 243.9ms\n",
      "Speed: 1.2ms preprocess, 243.9ms inference, 0.4ms postprocess per image at shape (1, 3, 384, 640)\n",
      "\n",
      "0: 384x640 1 TLC, 1 TL6ML, 1 TL18MC, 1 TL18ML, 1 TLArc, 1 LMC, 1 BL18MC, 1 BLArc, 137.8ms\n",
      "Speed: 1.3ms preprocess, 137.8ms inference, 0.4ms postprocess per image at shape (1, 3, 384, 640)\n",
      "\n"
     ]
    },
    {
     "name": "stdout",
     "output_type": "stream",
     "text": [
      "(18, 5)\n",
      "19 13\n"
     ]
    },
    {
     "name": "stderr",
     "output_type": "stream",
     "text": [
      "0: 384x640 18 players, 1 referee, 242.2ms\n",
      "Speed: 1.0ms preprocess, 242.2ms inference, 0.4ms postprocess per image at shape (1, 3, 384, 640)\n",
      "\n",
      "0: 384x640 1 TLC, 1 TL6MC, 1 TL6ML, 1 TL18MC, 1 TL18ML, 1 TLArc, 1 LMC, 1 BL18MC, 1 BLArc, 134.9ms\n",
      "Speed: 1.4ms preprocess, 134.9ms inference, 0.4ms postprocess per image at shape (1, 3, 384, 640)\n",
      "\n"
     ]
    },
    {
     "name": "stdout",
     "output_type": "stream",
     "text": [
      "(18, 5)\n"
     ]
    },
    {
     "name": "stderr",
     "output_type": "stream",
     "text": [
      "0: 384x640 18 players, 1 referee, 1 ball, 243.2ms\n",
      "Speed: 1.2ms preprocess, 243.2ms inference, 0.5ms postprocess per image at shape (1, 3, 384, 640)\n",
      "\n",
      "0: 384x640 1 TLC, 1 TL6MC, 1 TL6ML, 1 TL18MC, 1 TL18ML, 1 TLArc, 1 LMC, 1 BL18MC, 1 BLArc, 135.2ms\n",
      "Speed: 1.1ms preprocess, 135.2ms inference, 0.4ms postprocess per image at shape (1, 3, 384, 640)\n",
      "\n"
     ]
    },
    {
     "name": "stdout",
     "output_type": "stream",
     "text": [
      "(18, 5)\n",
      "19 3\n"
     ]
    },
    {
     "name": "stderr",
     "output_type": "stream",
     "text": [
      "0: 384x640 18 players, 1 referee, 1 ball, 243.0ms\n",
      "Speed: 1.2ms preprocess, 243.0ms inference, 0.4ms postprocess per image at shape (1, 3, 384, 640)\n",
      "\n",
      "0: 384x640 1 TLC, 1 TL6MC, 1 TL6ML, 1 TL18MC, 1 TL18ML, 1 TLArc, 1 LMC, 1 BLArc, 135.4ms\n",
      "Speed: 1.0ms preprocess, 135.4ms inference, 0.4ms postprocess per image at shape (1, 3, 384, 640)\n",
      "\n"
     ]
    },
    {
     "name": "stdout",
     "output_type": "stream",
     "text": [
      "(18, 5)\n",
      "19 0\n"
     ]
    },
    {
     "name": "stderr",
     "output_type": "stream",
     "text": [
      "0: 384x640 17 players, 1 referee, 1 ball, 244.8ms\n",
      "Speed: 1.1ms preprocess, 244.8ms inference, 0.3ms postprocess per image at shape (1, 3, 384, 640)\n",
      "\n",
      "0: 384x640 1 TLC, 1 TL6MC, 1 TL6ML, 1 TL18MC, 1 TL18ML, 1 LMC, 1 BLArc, 136.5ms\n",
      "Speed: 1.0ms preprocess, 136.5ms inference, 0.4ms postprocess per image at shape (1, 3, 384, 640)\n",
      "\n"
     ]
    },
    {
     "name": "stdout",
     "output_type": "stream",
     "text": [
      "(17, 5)\n",
      "19 0\n"
     ]
    },
    {
     "name": "stderr",
     "output_type": "stream",
     "text": [
      "0: 384x640 17 players, 1 referee, 1 ball, 245.1ms\n",
      "Speed: 1.1ms preprocess, 245.1ms inference, 0.3ms postprocess per image at shape (1, 3, 384, 640)\n",
      "\n",
      "0: 384x640 1 TLC, 1 TL6MC, 1 TL6ML, 1 TL18MC, 1 TL18ML, 1 LMC, 1 BL18MC, 1 BLArc, 138.9ms\n",
      "Speed: 1.0ms preprocess, 138.9ms inference, 0.6ms postprocess per image at shape (1, 3, 384, 640)\n",
      "\n"
     ]
    },
    {
     "name": "stdout",
     "output_type": "stream",
     "text": [
      "(17, 5)\n",
      "19 4\n"
     ]
    },
    {
     "name": "stderr",
     "output_type": "stream",
     "text": [
      "0: 384x640 17 players, 1 referee, 1 ball, 243.4ms\n",
      "Speed: 1.1ms preprocess, 243.4ms inference, 0.4ms postprocess per image at shape (1, 3, 384, 640)\n",
      "\n",
      "0: 384x640 1 TLC, 1 TL6MC, 1 TL6ML, 1 TL18MC, 1 TL18ML, 1 LMC, 1 BL18MC, 1 BLArc, 136.3ms\n",
      "Speed: 1.1ms preprocess, 136.3ms inference, 0.4ms postprocess per image at shape (1, 3, 384, 640)\n",
      "\n"
     ]
    },
    {
     "name": "stdout",
     "output_type": "stream",
     "text": [
      "(17, 5)\n",
      "19 3\n"
     ]
    },
    {
     "name": "stderr",
     "output_type": "stream",
     "text": [
      "0: 384x640 18 players, 1 referee, 1 ball, 241.4ms\n",
      "Speed: 1.0ms preprocess, 241.4ms inference, 0.4ms postprocess per image at shape (1, 3, 384, 640)\n",
      "\n",
      "0: 384x640 1 TLC, 1 TL6MC, 1 TL6ML, 1 TL18MC, 1 TL18ML, 1 TLArc, 1 LMC, 1 BL18MC, 1 BLArc, 136.7ms\n",
      "Speed: 1.0ms preprocess, 136.7ms inference, 0.4ms postprocess per image at shape (1, 3, 384, 640)\n",
      "\n"
     ]
    },
    {
     "name": "stdout",
     "output_type": "stream",
     "text": [
      "(18, 5)\n",
      "19 6\n"
     ]
    },
    {
     "name": "stderr",
     "output_type": "stream",
     "text": [
      "0: 384x640 18 players, 1 referee, 1 ball, 241.2ms\n",
      "Speed: 1.0ms preprocess, 241.2ms inference, 0.3ms postprocess per image at shape (1, 3, 384, 640)\n",
      "\n",
      "0: 384x640 1 TLC, 1 TL6MC, 1 TL18MC, 1 TL18ML, 1 TLArc, 1 LMC, 1 BL18MC, 1 BLArc, 146.8ms\n",
      "Speed: 1.3ms preprocess, 146.8ms inference, 0.4ms postprocess per image at shape (1, 3, 384, 640)\n",
      "\n"
     ]
    },
    {
     "name": "stdout",
     "output_type": "stream",
     "text": [
      "(18, 5)\n",
      "19 10\n"
     ]
    },
    {
     "name": "stderr",
     "output_type": "stream",
     "text": [
      "0: 384x640 18 players, 1 referee, 1 ball, 243.2ms\n",
      "Speed: 1.1ms preprocess, 243.2ms inference, 0.4ms postprocess per image at shape (1, 3, 384, 640)\n",
      "\n",
      "0: 384x640 1 TLC, 1 TL18MC, 1 TL18ML, 1 TRArc, 1 TLArc, 1 LMC, 1 BL18MC, 1 BLArc, 135.4ms\n",
      "Speed: 1.4ms preprocess, 135.4ms inference, 0.4ms postprocess per image at shape (1, 3, 384, 640)\n",
      "\n"
     ]
    },
    {
     "name": "stdout",
     "output_type": "stream",
     "text": [
      "(18, 5)\n",
      "19 5\n"
     ]
    },
    {
     "name": "stderr",
     "output_type": "stream",
     "text": [
      "0: 384x640 19 players, 1 referee, 1 ball, 237.6ms\n",
      "Speed: 1.0ms preprocess, 237.6ms inference, 0.6ms postprocess per image at shape (1, 3, 384, 640)\n",
      "\n",
      "0: 384x640 1 TLC, 1 TL6MC, 1 TR6ML, 1 TL6ML, 1 TL18MC, 1 TL18ML, 1 TRArc, 1 TLArc, 1 LMC, 1 BL18MC, 1 BLArc, 134.1ms\n",
      "Speed: 1.0ms preprocess, 134.1ms inference, 0.4ms postprocess per image at shape (1, 3, 384, 640)\n",
      "\n"
     ]
    },
    {
     "name": "stdout",
     "output_type": "stream",
     "text": [
      "(19, 5)\n",
      "19 2\n"
     ]
    },
    {
     "name": "stderr",
     "output_type": "stream",
     "text": [
      "0: 384x640 19 players, 1 referee, 1 ball, 266.9ms\n",
      "Speed: 0.9ms preprocess, 266.9ms inference, 0.4ms postprocess per image at shape (1, 3, 384, 640)\n",
      "\n",
      "0: 384x640 1 TLC, 1 TR6MC, 1 TL6MC, 1 TR6ML, 1 TL6ML, 1 TL18MC, 1 TL18ML, 1 TLArc, 1 LMC, 1 BL18MC, 1 BLArc, 141.1ms\n",
      "Speed: 1.1ms preprocess, 141.1ms inference, 0.4ms postprocess per image at shape (1, 3, 384, 640)\n",
      "\n"
     ]
    },
    {
     "name": "stdout",
     "output_type": "stream",
     "text": [
      "(19, 5)\n",
      "19 3\n"
     ]
    },
    {
     "name": "stderr",
     "output_type": "stream",
     "text": [
      "0: 384x640 19 players, 1 referee, 1 ball, 244.3ms\n",
      "Speed: 1.0ms preprocess, 244.3ms inference, 0.4ms postprocess per image at shape (1, 3, 384, 640)\n",
      "\n",
      "0: 384x640 1 TLC, 1 TR6MC, 1 TL6MC, 1 TR6ML, 1 TL6ML, 1 TL18MC, 1 TL18ML, 1 TLArc, 1 LMC, 1 BL18MC, 1 BLArc, 138.2ms\n",
      "Speed: 1.0ms preprocess, 138.2ms inference, 0.4ms postprocess per image at shape (1, 3, 384, 640)\n",
      "\n"
     ]
    },
    {
     "name": "stdout",
     "output_type": "stream",
     "text": [
      "(19, 5)\n",
      "19 3\n"
     ]
    },
    {
     "name": "stderr",
     "output_type": "stream",
     "text": [
      "0: 384x640 18 players, 1 referee, 244.0ms\n",
      "Speed: 1.1ms preprocess, 244.0ms inference, 0.3ms postprocess per image at shape (1, 3, 384, 640)\n",
      "\n",
      "0: 384x640 1 TLC, 1 TR6MC, 1 TL6MC, 1 TR6ML, 1 TL6ML, 1 TL18MC, 1 TL18ML, 1 TRArc, 1 TLArc, 1 LMC, 1 BL18MC, 1 BLArc, 138.6ms\n",
      "Speed: 0.9ms preprocess, 138.6ms inference, 0.4ms postprocess per image at shape (1, 3, 384, 640)\n",
      "\n"
     ]
    },
    {
     "name": "stdout",
     "output_type": "stream",
     "text": [
      "(18, 5)\n"
     ]
    },
    {
     "name": "stderr",
     "output_type": "stream",
     "text": [
      "0: 384x640 20 players, 1 ball, 244.7ms\n",
      "Speed: 1.1ms preprocess, 244.7ms inference, 0.4ms postprocess per image at shape (1, 3, 384, 640)\n",
      "\n",
      "0: 384x640 1 TLC, 1 TR6MC, 1 TL6MC, 1 TR6ML, 1 TL6ML, 1 TL18MC, 1 TL18ML, 1 TRArc, 1 TLArc, 1 LMC, 1 BL18MC, 1 BLArc, 139.6ms\n",
      "Speed: 1.0ms preprocess, 139.6ms inference, 0.4ms postprocess per image at shape (1, 3, 384, 640)\n",
      "\n"
     ]
    },
    {
     "name": "stdout",
     "output_type": "stream",
     "text": [
      "(20, 5)\n",
      "19 10\n"
     ]
    },
    {
     "name": "stderr",
     "output_type": "stream",
     "text": [
      "0: 384x640 20 players, 1 referee, 1 ball, 243.1ms\n",
      "Speed: 0.9ms preprocess, 243.1ms inference, 0.4ms postprocess per image at shape (1, 3, 384, 640)\n",
      "\n",
      "0: 384x640 1 TLC, 1 TR6MC, 1 TL6MC, 1 TR6ML, 1 TL6ML, 1 TL18MC, 1 TL18ML, 1 TLArc, 1 LMC, 1 BL18MC, 1 BLArc, 136.9ms\n",
      "Speed: 1.0ms preprocess, 136.9ms inference, 0.4ms postprocess per image at shape (1, 3, 384, 640)\n",
      "\n"
     ]
    },
    {
     "name": "stdout",
     "output_type": "stream",
     "text": [
      "(20, 5)\n",
      "19 5\n"
     ]
    },
    {
     "name": "stderr",
     "output_type": "stream",
     "text": [
      "0: 384x640 20 players, 1 referee, 1 ball, 246.3ms\n",
      "Speed: 0.9ms preprocess, 246.3ms inference, 0.3ms postprocess per image at shape (1, 3, 384, 640)\n",
      "\n",
      "0: 384x640 1 TLC, 1 TL6MC, 1 TR6ML, 1 TL18MC, 1 TL18ML, 1 TRArc, 1 TLArc, 1 LMC, 1 BL18MC, 1 BLArc, 137.9ms\n",
      "Speed: 1.0ms preprocess, 137.9ms inference, 0.4ms postprocess per image at shape (1, 3, 384, 640)\n",
      "\n"
     ]
    },
    {
     "name": "stdout",
     "output_type": "stream",
     "text": [
      "(20, 5)\n",
      "19 11\n"
     ]
    },
    {
     "name": "stderr",
     "output_type": "stream",
     "text": [
      "0: 384x640 20 players, 1 referee, 246.0ms\n",
      "Speed: 1.0ms preprocess, 246.0ms inference, 0.3ms postprocess per image at shape (1, 3, 384, 640)\n",
      "\n",
      "0: 384x640 1 TLC, 1 TR6MC, 1 TL6MC, 1 TR6ML, 1 TL6ML, 1 TL18MC, 1 TL18ML, 1 TRArc, 1 TLArc, 1 LMC, 1 BL18MC, 1 BLArc, 135.6ms\n",
      "Speed: 1.0ms preprocess, 135.6ms inference, 0.4ms postprocess per image at shape (1, 3, 384, 640)\n",
      "\n"
     ]
    },
    {
     "name": "stdout",
     "output_type": "stream",
     "text": [
      "(20, 5)\n",
      "19 19\n"
     ]
    },
    {
     "name": "stderr",
     "output_type": "stream",
     "text": [
      "0: 384x640 20 players, 1 referee, 238.1ms\n",
      "Speed: 1.2ms preprocess, 238.1ms inference, 0.4ms postprocess per image at shape (1, 3, 384, 640)\n",
      "\n",
      "0: 384x640 1 TLC, 1 TR6MC, 1 TL6MC, 1 TR6ML, 1 TL6ML, 1 TL18MC, 1 TL18ML, 1 TRArc, 1 TLArc, 1 LMC, 1 BL18MC, 1 BLArc, 135.6ms\n",
      "Speed: 1.3ms preprocess, 135.6ms inference, 0.4ms postprocess per image at shape (1, 3, 384, 640)\n",
      "\n"
     ]
    },
    {
     "name": "stdout",
     "output_type": "stream",
     "text": [
      "(20, 5)\n"
     ]
    },
    {
     "name": "stderr",
     "output_type": "stream",
     "text": [
      "0: 384x640 20 players, 1 referee, 245.1ms\n",
      "Speed: 1.1ms preprocess, 245.1ms inference, 0.3ms postprocess per image at shape (1, 3, 384, 640)\n",
      "\n",
      "0: 384x640 1 TLC, 1 TR6MC, 1 TL6MC, 1 TR6ML, 1 TL18MC, 1 TL18ML, 1 TRArc, 1 TLArc, 1 LMC, 1 BL18MC, 1 BLArc, 137.6ms\n",
      "Speed: 1.1ms preprocess, 137.6ms inference, 0.4ms postprocess per image at shape (1, 3, 384, 640)\n",
      "\n"
     ]
    },
    {
     "name": "stdout",
     "output_type": "stream",
     "text": [
      "(20, 5)\n"
     ]
    },
    {
     "name": "stderr",
     "output_type": "stream",
     "text": [
      "0: 384x640 20 players, 246.0ms\n",
      "Speed: 0.9ms preprocess, 246.0ms inference, 0.3ms postprocess per image at shape (1, 3, 384, 640)\n",
      "\n",
      "0: 384x640 1 TLC, 1 TR6MC, 1 TL6MC, 1 TR6ML, 1 TL18MC, 1 TL18ML, 1 TRArc, 1 TLArc, 1 RMC, 1 LMC, 1 BL18MC, 1 BLArc, 138.8ms\n",
      "Speed: 1.4ms preprocess, 138.8ms inference, 0.4ms postprocess per image at shape (1, 3, 384, 640)\n",
      "\n"
     ]
    },
    {
     "name": "stdout",
     "output_type": "stream",
     "text": [
      "(20, 5)\n"
     ]
    },
    {
     "name": "stderr",
     "output_type": "stream",
     "text": [
      "0: 384x640 20 players, 1 ball, 245.1ms\n",
      "Speed: 0.9ms preprocess, 245.1ms inference, 0.3ms postprocess per image at shape (1, 3, 384, 640)\n",
      "\n",
      "0: 384x640 1 TLC, 1 TR6MC, 1 TR6ML, 1 TL18MC, 1 TL18ML, 1 TRArc, 1 TLArc, 1 RMC, 1 LMC, 1 BL18MC, 1 BLArc, 134.0ms\n",
      "Speed: 1.0ms preprocess, 134.0ms inference, 0.7ms postprocess per image at shape (1, 3, 384, 640)\n",
      "\n"
     ]
    },
    {
     "name": "stdout",
     "output_type": "stream",
     "text": [
      "(20, 5)\n",
      "19 8\n"
     ]
    },
    {
     "name": "stderr",
     "output_type": "stream",
     "text": [
      "0: 384x640 19 players, 1 ball, 246.0ms\n",
      "Speed: 0.9ms preprocess, 246.0ms inference, 0.4ms postprocess per image at shape (1, 3, 384, 640)\n",
      "\n",
      "0: 384x640 1 TLC, 1 TR6MC, 1 TR6ML, 1 TL18MC, 1 TL18ML, 1 TRArc, 1 TLArc, 1 RMC, 1 LMC, 1 BL18MC, 1 BLArc, 134.3ms\n",
      "Speed: 0.9ms preprocess, 134.3ms inference, 0.4ms postprocess per image at shape (1, 3, 384, 640)\n",
      "\n"
     ]
    },
    {
     "name": "stdout",
     "output_type": "stream",
     "text": [
      "(19, 5)\n",
      "19 10\n"
     ]
    },
    {
     "name": "stderr",
     "output_type": "stream",
     "text": [
      "0: 384x640 19 players, 245.8ms\n",
      "Speed: 1.0ms preprocess, 245.8ms inference, 0.6ms postprocess per image at shape (1, 3, 384, 640)\n",
      "\n",
      "0: 384x640 1 TLC, 1 TR6MC, 1 TL6MC, 1 TL6ML, 1 TL18MC, 1 TL18ML, 1 TRArc, 1 TLArc, 1 RMC, 1 LMC, 1 BL18MC, 1 BLArc, 139.0ms\n",
      "Speed: 1.0ms preprocess, 139.0ms inference, 0.4ms postprocess per image at shape (1, 3, 384, 640)\n",
      "\n"
     ]
    },
    {
     "name": "stdout",
     "output_type": "stream",
     "text": [
      "(19, 5)\n"
     ]
    },
    {
     "name": "stderr",
     "output_type": "stream",
     "text": [
      "0: 384x640 19 players, 1 ball, 244.3ms\n",
      "Speed: 1.1ms preprocess, 244.3ms inference, 0.3ms postprocess per image at shape (1, 3, 384, 640)\n",
      "\n",
      "0: 384x640 1 TLC, 1 TR6MC, 1 TL6MC, 1 TL6ML, 1 TL18MC, 1 TL18ML, 1 TRArc, 1 TLArc, 1 RMC, 1 LMC, 1 BL18MC, 1 BLArc, 138.7ms\n",
      "Speed: 1.1ms preprocess, 138.7ms inference, 0.4ms postprocess per image at shape (1, 3, 384, 640)\n",
      "\n"
     ]
    },
    {
     "name": "stdout",
     "output_type": "stream",
     "text": [
      "(19, 5)\n",
      "19 3\n"
     ]
    },
    {
     "name": "stderr",
     "output_type": "stream",
     "text": [
      "0: 384x640 19 players, 247.5ms\n",
      "Speed: 1.1ms preprocess, 247.5ms inference, 0.3ms postprocess per image at shape (1, 3, 384, 640)\n",
      "\n",
      "0: 384x640 1 TLC, 1 TL6MC, 1 TL6ML, 1 TL18MC, 1 TL18ML, 1 TRArc, 1 TLArc, 1 RMC, 1 LMC, 1 BL18MC, 1 BLArc, 139.4ms\n",
      "Speed: 1.0ms preprocess, 139.4ms inference, 0.4ms postprocess per image at shape (1, 3, 384, 640)\n",
      "\n"
     ]
    },
    {
     "name": "stdout",
     "output_type": "stream",
     "text": [
      "(19, 5)\n"
     ]
    },
    {
     "name": "stderr",
     "output_type": "stream",
     "text": [
      "0: 384x640 20 players, 247.7ms\n",
      "Speed: 1.0ms preprocess, 247.7ms inference, 0.3ms postprocess per image at shape (1, 3, 384, 640)\n",
      "\n",
      "0: 384x640 1 TLC, 1 TR6MC, 1 TL6MC, 1 TL6ML, 1 TL18MC, 1 TL18ML, 1 TLArc, 1 RMC, 1 LMC, 1 BL18MC, 1 BLArc, 139.7ms\n",
      "Speed: 1.0ms preprocess, 139.7ms inference, 0.4ms postprocess per image at shape (1, 3, 384, 640)\n",
      "\n"
     ]
    },
    {
     "name": "stdout",
     "output_type": "stream",
     "text": [
      "(20, 5)\n"
     ]
    },
    {
     "name": "stderr",
     "output_type": "stream",
     "text": [
      "0: 384x640 20 players, 246.1ms\n",
      "Speed: 0.9ms preprocess, 246.1ms inference, 0.3ms postprocess per image at shape (1, 3, 384, 640)\n",
      "\n",
      "0: 384x640 1 TLC, 1 TR6MC, 1 TR6ML, 1 TL18MC, 1 TL18ML, 1 TRArc, 1 TLArc, 1 LMC, 1 BL18MC, 1 BLArc, 137.6ms\n",
      "Speed: 1.1ms preprocess, 137.6ms inference, 0.4ms postprocess per image at shape (1, 3, 384, 640)\n",
      "\n"
     ]
    },
    {
     "name": "stdout",
     "output_type": "stream",
     "text": [
      "(20, 5)\n"
     ]
    },
    {
     "name": "stderr",
     "output_type": "stream",
     "text": [
      "0: 384x640 19 players, 246.5ms\n",
      "Speed: 1.1ms preprocess, 246.5ms inference, 0.4ms postprocess per image at shape (1, 3, 384, 640)\n",
      "\n",
      "0: 384x640 1 TLC, 1 TL6MC, 1 TL6ML, 1 TL18MC, 1 TL18ML, 1 TRArc, 1 TLArc, 1 RMC, 1 LMC, 1 BL18MC, 1 BLArc, 140.5ms\n",
      "Speed: 0.9ms preprocess, 140.5ms inference, 0.4ms postprocess per image at shape (1, 3, 384, 640)\n",
      "\n"
     ]
    },
    {
     "name": "stdout",
     "output_type": "stream",
     "text": [
      "(19, 5)\n"
     ]
    },
    {
     "name": "stderr",
     "output_type": "stream",
     "text": [
      "0: 384x640 20 players, 248.9ms\n",
      "Speed: 0.9ms preprocess, 248.9ms inference, 0.3ms postprocess per image at shape (1, 3, 384, 640)\n",
      "\n",
      "0: 384x640 1 TLC, 1 TR6MC, 1 TL6MC, 1 TL6ML, 1 TL18MC, 1 TL18ML, 1 TLArc, 1 RMC, 1 LMC, 1 BL18MC, 1 BLArc, 142.4ms\n",
      "Speed: 1.0ms preprocess, 142.4ms inference, 0.4ms postprocess per image at shape (1, 3, 384, 640)\n",
      "\n"
     ]
    },
    {
     "name": "stdout",
     "output_type": "stream",
     "text": [
      "(20, 5)\n"
     ]
    },
    {
     "name": "stderr",
     "output_type": "stream",
     "text": [
      "0: 384x640 20 players, 244.9ms\n",
      "Speed: 1.1ms preprocess, 244.9ms inference, 0.3ms postprocess per image at shape (1, 3, 384, 640)\n",
      "\n",
      "0: 384x640 1 TLC, 1 TR6MC, 1 TL6MC, 1 TL6ML, 1 TL18MC, 1 TL18ML, 1 TLArc, 1 RMC, 1 LMC, 1 BL18MC, 1 BLArc, 139.5ms\n",
      "Speed: 0.9ms preprocess, 139.5ms inference, 0.4ms postprocess per image at shape (1, 3, 384, 640)\n",
      "\n"
     ]
    },
    {
     "name": "stdout",
     "output_type": "stream",
     "text": [
      "(20, 5)\n"
     ]
    },
    {
     "name": "stderr",
     "output_type": "stream",
     "text": [
      "0: 384x640 19 players, 1 referee, 250.6ms\n",
      "Speed: 1.0ms preprocess, 250.6ms inference, 0.4ms postprocess per image at shape (1, 3, 384, 640)\n",
      "\n",
      "0: 384x640 1 TR6MC, 1 TL6MC, 1 TR6ML, 1 TL6ML, 1 TL18MC, 1 TL18ML, 1 TRArc, 1 TLArc, 1 RMC, 1 LMC, 1 BL18MC, 1 BLArc, 141.3ms\n",
      "Speed: 1.0ms preprocess, 141.3ms inference, 0.4ms postprocess per image at shape (1, 3, 384, 640)\n",
      "\n"
     ]
    },
    {
     "name": "stdout",
     "output_type": "stream",
     "text": [
      "(19, 5)\n"
     ]
    },
    {
     "name": "stderr",
     "output_type": "stream",
     "text": [
      "0: 384x640 18 players, 1 referee, 246.6ms\n",
      "Speed: 1.1ms preprocess, 246.6ms inference, 0.3ms postprocess per image at shape (1, 3, 384, 640)\n",
      "\n",
      "0: 384x640 1 TLC, 1 TL6MC, 1 TR6ML, 1 TL18MC, 1 TL18ML, 1 TLArc, 1 RMC, 1 LMC, 1 BL18MC, 1 BRArc, 1 BLArc, 138.8ms\n",
      "Speed: 1.0ms preprocess, 138.8ms inference, 0.4ms postprocess per image at shape (1, 3, 384, 640)\n",
      "\n"
     ]
    },
    {
     "name": "stdout",
     "output_type": "stream",
     "text": [
      "(18, 5)\n"
     ]
    },
    {
     "name": "stderr",
     "output_type": "stream",
     "text": [
      "0: 384x640 19 players, 246.7ms\n",
      "Speed: 0.9ms preprocess, 246.7ms inference, 0.3ms postprocess per image at shape (1, 3, 384, 640)\n",
      "\n",
      "0: 384x640 1 TLC, 1 TR6MC, 1 TL6MC, 1 TR6ML, 1 TL18MC, 1 TL18ML, 1 LMC, 1 BL18MC, 1 BRArc, 1 BLArc, 138.9ms\n",
      "Speed: 1.1ms preprocess, 138.9ms inference, 0.6ms postprocess per image at shape (1, 3, 384, 640)\n",
      "\n"
     ]
    },
    {
     "name": "stdout",
     "output_type": "stream",
     "text": [
      "(19, 5)\n"
     ]
    },
    {
     "name": "stderr",
     "output_type": "stream",
     "text": [
      "0: 384x640 19 players, 248.6ms\n",
      "Speed: 1.0ms preprocess, 248.6ms inference, 0.3ms postprocess per image at shape (1, 3, 384, 640)\n",
      "\n",
      "0: 384x640 1 TLC, 1 TR6MC, 1 TL6MC, 1 TR6ML, 1 TL18MC, 1 TL18ML, 1 TRArc, 1 TLArc, 1 LMC, 1 BL18MC, 1 BRArc, 1 BLArc, 139.2ms\n",
      "Speed: 0.9ms preprocess, 139.2ms inference, 0.4ms postprocess per image at shape (1, 3, 384, 640)\n",
      "\n"
     ]
    },
    {
     "name": "stdout",
     "output_type": "stream",
     "text": [
      "(19, 5)\n"
     ]
    },
    {
     "name": "stderr",
     "output_type": "stream",
     "text": [
      "0: 384x640 20 players, 1 referee, 244.9ms\n",
      "Speed: 1.1ms preprocess, 244.9ms inference, 0.4ms postprocess per image at shape (1, 3, 384, 640)\n",
      "\n",
      "0: 384x640 1 TLC, 1 TR6MC, 1 TL6MC, 1 TR6ML, 1 TL18MC, 1 TRArc, 1 TLArc, 1 RMC, 1 LMC, 1 BL18MC, 1 BRArc, 1 BLArc, 140.3ms\n",
      "Speed: 1.3ms preprocess, 140.3ms inference, 0.4ms postprocess per image at shape (1, 3, 384, 640)\n",
      "\n"
     ]
    },
    {
     "name": "stdout",
     "output_type": "stream",
     "text": [
      "(20, 5)\n"
     ]
    },
    {
     "name": "stderr",
     "output_type": "stream",
     "text": [
      "0: 384x640 20 players, 1 referee, 247.1ms\n",
      "Speed: 0.9ms preprocess, 247.1ms inference, 0.3ms postprocess per image at shape (1, 3, 384, 640)\n",
      "\n",
      "0: 384x640 1 TLC, 1 TR6MC, 1 TL6MC, 1 TR6ML, 1 TL18MC, 1 TRArc, 1 TLArc, 1 RMC, 1 LMC, 1 BL18MC, 1 BRArc, 1 BLArc, 138.6ms\n",
      "Speed: 1.4ms preprocess, 138.6ms inference, 0.4ms postprocess per image at shape (1, 3, 384, 640)\n",
      "\n"
     ]
    },
    {
     "name": "stdout",
     "output_type": "stream",
     "text": [
      "(20, 5)\n"
     ]
    },
    {
     "name": "stderr",
     "output_type": "stream",
     "text": [
      "0: 384x640 20 players, 1 referee, 246.9ms\n",
      "Speed: 1.4ms preprocess, 246.9ms inference, 0.4ms postprocess per image at shape (1, 3, 384, 640)\n",
      "\n",
      "0: 384x640 1 TLC, 1 TR6ML, 1 TL18MC, 1 TL18ML, 1 TLArc, 1 RMC, 1 LMC, 1 BL18MC, 1 BRArc, 1 BLArc, 140.8ms\n",
      "Speed: 1.0ms preprocess, 140.8ms inference, 0.4ms postprocess per image at shape (1, 3, 384, 640)\n",
      "\n"
     ]
    },
    {
     "name": "stdout",
     "output_type": "stream",
     "text": [
      "(20, 5)\n"
     ]
    },
    {
     "name": "stderr",
     "output_type": "stream",
     "text": [
      "0: 384x640 19 players, 1 referee, 244.8ms\n",
      "Speed: 1.2ms preprocess, 244.8ms inference, 0.4ms postprocess per image at shape (1, 3, 384, 640)\n",
      "\n",
      "0: 384x640 1 TLC, 1 TR6ML, 1 TL18MC, 1 TL18ML, 1 TRArc, 1 TLArc, 1 RMC, 1 LMC, 1 BL18MC, 1 BRArc, 1 BLArc, 137.6ms\n",
      "Speed: 1.1ms preprocess, 137.6ms inference, 0.4ms postprocess per image at shape (1, 3, 384, 640)\n",
      "\n"
     ]
    },
    {
     "name": "stdout",
     "output_type": "stream",
     "text": [
      "(19, 5)\n",
      "19 19\n"
     ]
    },
    {
     "name": "stderr",
     "output_type": "stream",
     "text": [
      "0: 384x640 18 players, 1 referee, 245.7ms\n",
      "Speed: 0.9ms preprocess, 245.7ms inference, 0.3ms postprocess per image at shape (1, 3, 384, 640)\n",
      "\n",
      "0: 384x640 1 TLC, 1 TR6MC, 1 TL6MC, 1 TL18MC, 1 TL18ML, 1 TLArc, 1 RMC, 1 LMC, 1 BL18MC, 1 BRArc, 1 BLArc, 133.9ms\n",
      "Speed: 0.9ms preprocess, 133.9ms inference, 0.4ms postprocess per image at shape (1, 3, 384, 640)\n",
      "\n"
     ]
    },
    {
     "name": "stdout",
     "output_type": "stream",
     "text": [
      "(18, 5)\n"
     ]
    },
    {
     "name": "stderr",
     "output_type": "stream",
     "text": [
      "0: 384x640 19 players, 1 referee, 246.7ms\n",
      "Speed: 1.0ms preprocess, 246.7ms inference, 0.3ms postprocess per image at shape (1, 3, 384, 640)\n",
      "\n",
      "0: 384x640 1 TLC, 1 TR6MC, 1 TL6MC, 1 TR6ML, 1 TL18MC, 1 TL18ML, 1 TRArc, 1 TLArc, 1 RMC, 1 LMC, 1 BL18MC, 1 BRArc, 1 BLArc, 141.5ms\n",
      "Speed: 1.2ms preprocess, 141.5ms inference, 0.4ms postprocess per image at shape (1, 3, 384, 640)\n",
      "\n"
     ]
    },
    {
     "name": "stdout",
     "output_type": "stream",
     "text": [
      "(19, 5)\n"
     ]
    },
    {
     "name": "stderr",
     "output_type": "stream",
     "text": [
      "0: 384x640 19 players, 1 referee, 244.9ms\n",
      "Speed: 1.0ms preprocess, 244.9ms inference, 0.3ms postprocess per image at shape (1, 3, 384, 640)\n",
      "\n",
      "0: 384x640 1 TLC, 1 TL6MC, 1 TR6ML, 1 TL18MC, 1 TL18ML, 1 TLArc, 1 RMC, 1 LMC, 1 BL18MC, 1 BRArc, 1 BLArc, 137.3ms\n",
      "Speed: 1.0ms preprocess, 137.3ms inference, 0.4ms postprocess per image at shape (1, 3, 384, 640)\n",
      "\n"
     ]
    },
    {
     "name": "stdout",
     "output_type": "stream",
     "text": [
      "(19, 5)\n"
     ]
    },
    {
     "name": "stderr",
     "output_type": "stream",
     "text": [
      "0: 384x640 19 players, 1 referee, 244.0ms\n",
      "Speed: 1.1ms preprocess, 244.0ms inference, 0.3ms postprocess per image at shape (1, 3, 384, 640)\n",
      "\n",
      "0: 384x640 1 TLC, 1 TL6MC, 1 TR6ML, 1 TL18MC, 1 TL18ML, 1 TLArc, 1 RMC, 1 LMC, 1 BL18MC, 1 BRArc, 1 BLArc, 134.8ms\n",
      "Speed: 1.3ms preprocess, 134.8ms inference, 0.6ms postprocess per image at shape (1, 3, 384, 640)\n",
      "\n"
     ]
    },
    {
     "name": "stdout",
     "output_type": "stream",
     "text": [
      "(19, 5)\n"
     ]
    },
    {
     "name": "stderr",
     "output_type": "stream",
     "text": [
      "0: 384x640 19 players, 1 referee, 247.3ms\n",
      "Speed: 1.2ms preprocess, 247.3ms inference, 0.4ms postprocess per image at shape (1, 3, 384, 640)\n",
      "\n",
      "0: 384x640 1 TLC, 1 TR6MC, 1 TL6MC, 1 TR6ML, 1 TL18MC, 1 TL18ML, 1 TRArc, 1 TLArc, 1 RMC, 1 LMC, 1 BL18MC, 1 BRArc, 1 BLArc, 141.8ms\n",
      "Speed: 1.1ms preprocess, 141.8ms inference, 0.4ms postprocess per image at shape (1, 3, 384, 640)\n",
      "\n"
     ]
    },
    {
     "name": "stdout",
     "output_type": "stream",
     "text": [
      "(19, 5)\n"
     ]
    },
    {
     "name": "stderr",
     "output_type": "stream",
     "text": [
      "0: 384x640 17 players, 1 referee, 247.4ms\n",
      "Speed: 1.1ms preprocess, 247.4ms inference, 0.3ms postprocess per image at shape (1, 3, 384, 640)\n",
      "\n",
      "0: 384x640 1 TLC, 1 TR6MC, 1 TL6MC, 1 TR6ML, 1 TL18MC, 1 TL18ML, 1 TRArc, 1 TLArc, 1 RMC, 1 LMC, 1 BL18MC, 1 BRArc, 1 BLArc, 137.9ms\n",
      "Speed: 1.1ms preprocess, 137.9ms inference, 0.4ms postprocess per image at shape (1, 3, 384, 640)\n",
      "\n"
     ]
    },
    {
     "name": "stdout",
     "output_type": "stream",
     "text": [
      "(17, 5)\n"
     ]
    },
    {
     "name": "stderr",
     "output_type": "stream",
     "text": [
      "0: 384x640 20 players, 243.5ms\n",
      "Speed: 1.0ms preprocess, 243.5ms inference, 0.6ms postprocess per image at shape (1, 3, 384, 640)\n",
      "\n",
      "0: 384x640 1 TR6MC, 1 TL6MC, 1 TR6ML, 1 TL18MC, 1 TL18ML, 1 TRArc, 1 TLArc, 1 RMC, 1 LMC, 1 BL18MC, 1 BRArc, 1 BLArc, 139.2ms\n",
      "Speed: 1.3ms preprocess, 139.2ms inference, 0.5ms postprocess per image at shape (1, 3, 384, 640)\n",
      "\n"
     ]
    },
    {
     "name": "stdout",
     "output_type": "stream",
     "text": [
      "(20, 5)\n"
     ]
    },
    {
     "name": "stderr",
     "output_type": "stream",
     "text": [
      "0: 384x640 19 players, 1 referee, 249.4ms\n",
      "Speed: 1.1ms preprocess, 249.4ms inference, 0.5ms postprocess per image at shape (1, 3, 384, 640)\n",
      "\n",
      "0: 384x640 1 TL6MC, 1 TR6ML, 1 TL18MC, 1 TL18ML, 1 TRArc, 1 TLArc, 1 RMC, 1 LMC, 1 BL18MC, 1 BRArc, 1 BLArc, 140.5ms\n",
      "Speed: 1.1ms preprocess, 140.5ms inference, 0.7ms postprocess per image at shape (1, 3, 384, 640)\n",
      "\n"
     ]
    },
    {
     "name": "stdout",
     "output_type": "stream",
     "text": [
      "(19, 5)\n"
     ]
    },
    {
     "name": "stderr",
     "output_type": "stream",
     "text": [
      "0: 384x640 19 players, 1 referee, 235.5ms\n",
      "Speed: 1.1ms preprocess, 235.5ms inference, 0.3ms postprocess per image at shape (1, 3, 384, 640)\n",
      "\n",
      "0: 384x640 1 TLC, 1 TR6MC, 1 TR6ML, 1 TL18MC, 1 TL18ML, 1 TRArc, 1 TLArc, 1 RMC, 1 LMC, 1 BL18MC, 1 BRArc, 1 BLArc, 139.0ms\n",
      "Speed: 1.0ms preprocess, 139.0ms inference, 0.4ms postprocess per image at shape (1, 3, 384, 640)\n",
      "\n"
     ]
    },
    {
     "name": "stdout",
     "output_type": "stream",
     "text": [
      "(19, 5)\n"
     ]
    },
    {
     "name": "stderr",
     "output_type": "stream",
     "text": [
      "0: 384x640 19 players, 1 referee, 244.4ms\n",
      "Speed: 1.0ms preprocess, 244.4ms inference, 0.3ms postprocess per image at shape (1, 3, 384, 640)\n",
      "\n",
      "0: 384x640 1 TLC, 1 TR6MC, 1 TR6ML, 1 TL18MC, 1 TL18ML, 1 TRArc, 1 TLArc, 1 RMC, 1 LMC, 1 BL18MC, 1 BRArc, 1 BLArc, 137.9ms\n",
      "Speed: 1.0ms preprocess, 137.9ms inference, 0.4ms postprocess per image at shape (1, 3, 384, 640)\n",
      "\n"
     ]
    },
    {
     "name": "stdout",
     "output_type": "stream",
     "text": [
      "(19, 5)\n"
     ]
    },
    {
     "name": "stderr",
     "output_type": "stream",
     "text": [
      "0: 384x640 20 players, 1 referee, 248.1ms\n",
      "Speed: 1.1ms preprocess, 248.1ms inference, 0.3ms postprocess per image at shape (1, 3, 384, 640)\n",
      "\n",
      "0: 384x640 1 TLC, 1 TR6MC, 1 TL6MC, 1 TR6ML, 1 TL18MC, 1 TL18ML, 1 TRArc, 1 TLArc, 1 RMC, 1 LMC, 1 BL18MC, 1 BRArc, 1 BLArc, 140.6ms\n",
      "Speed: 0.9ms preprocess, 140.6ms inference, 0.6ms postprocess per image at shape (1, 3, 384, 640)\n",
      "\n"
     ]
    },
    {
     "name": "stdout",
     "output_type": "stream",
     "text": [
      "(20, 5)\n"
     ]
    },
    {
     "name": "stderr",
     "output_type": "stream",
     "text": [
      "0: 384x640 19 players, 1 referee, 245.2ms\n",
      "Speed: 1.1ms preprocess, 245.2ms inference, 0.3ms postprocess per image at shape (1, 3, 384, 640)\n",
      "\n",
      "0: 384x640 1 TR6ML, 1 TL18MC, 1 TR18ML, 1 TL18ML, 1 TRArc, 1 TLArc, 1 RMC, 1 LMC, 1 BL18MC, 1 BRArc, 1 BLArc, 138.7ms\n",
      "Speed: 1.0ms preprocess, 138.7ms inference, 0.4ms postprocess per image at shape (1, 3, 384, 640)\n",
      "\n"
     ]
    },
    {
     "name": "stdout",
     "output_type": "stream",
     "text": [
      "(19, 5)\n"
     ]
    },
    {
     "name": "stderr",
     "output_type": "stream",
     "text": [
      "0: 384x640 20 players, 1 referee, 246.8ms\n",
      "Speed: 1.0ms preprocess, 246.8ms inference, 0.3ms postprocess per image at shape (1, 3, 384, 640)\n",
      "\n",
      "0: 384x640 1 TR6MC, 1 TR6ML, 1 TL18MC, 1 TR18ML, 1 TL18ML, 1 TRArc, 1 TLArc, 1 RMC, 1 LMC, 1 BL18MC, 1 BRArc, 1 BLArc, 137.8ms\n",
      "Speed: 1.1ms preprocess, 137.8ms inference, 0.4ms postprocess per image at shape (1, 3, 384, 640)\n",
      "\n"
     ]
    },
    {
     "name": "stdout",
     "output_type": "stream",
     "text": [
      "(20, 5)\n"
     ]
    },
    {
     "name": "stderr",
     "output_type": "stream",
     "text": [
      "0: 384x640 20 players, 1 referee, 244.8ms\n",
      "Speed: 0.9ms preprocess, 244.8ms inference, 0.3ms postprocess per image at shape (1, 3, 384, 640)\n",
      "\n",
      "0: 384x640 1 TR6MC, 1 TR6ML, 1 TL18MC, 1 TR18ML, 1 TL18ML, 1 TRArc, 1 TLArc, 1 RMC, 1 LMC, 1 BRArc, 1 BLArc, 139.3ms\n",
      "Speed: 1.1ms preprocess, 139.3ms inference, 0.4ms postprocess per image at shape (1, 3, 384, 640)\n",
      "\n"
     ]
    },
    {
     "name": "stdout",
     "output_type": "stream",
     "text": [
      "(20, 5)\n"
     ]
    },
    {
     "name": "stderr",
     "output_type": "stream",
     "text": [
      "0: 384x640 20 players, 1 referee, 246.0ms\n",
      "Speed: 0.9ms preprocess, 246.0ms inference, 0.4ms postprocess per image at shape (1, 3, 384, 640)\n",
      "\n",
      "0: 384x640 1 TR6MC, 1 TL18MC, 1 TL18ML, 1 TRArc, 1 TLArc, 1 RMC, 1 LMC, 1 BL18MC, 1 BRArc, 1 BLArc, 141.0ms\n",
      "Speed: 1.0ms preprocess, 141.0ms inference, 0.7ms postprocess per image at shape (1, 3, 384, 640)\n",
      "\n"
     ]
    },
    {
     "name": "stdout",
     "output_type": "stream",
     "text": [
      "(20, 5)\n"
     ]
    },
    {
     "name": "stderr",
     "output_type": "stream",
     "text": [
      "0: 384x640 20 players, 1 referee, 245.7ms\n",
      "Speed: 1.0ms preprocess, 245.7ms inference, 0.3ms postprocess per image at shape (1, 3, 384, 640)\n",
      "\n",
      "0: 384x640 1 TR6MC, 1 TL18MC, 1 TL18ML, 1 TRArc, 1 TLArc, 1 RMC, 1 LMC, 1 BL18MC, 1 BRArc, 1 BLArc, 139.4ms\n",
      "Speed: 1.0ms preprocess, 139.4ms inference, 0.4ms postprocess per image at shape (1, 3, 384, 640)\n",
      "\n"
     ]
    },
    {
     "name": "stdout",
     "output_type": "stream",
     "text": [
      "(20, 5)\n"
     ]
    },
    {
     "name": "stderr",
     "output_type": "stream",
     "text": [
      "0: 384x640 20 players, 1 referee, 245.9ms\n",
      "Speed: 1.1ms preprocess, 245.9ms inference, 0.4ms postprocess per image at shape (1, 3, 384, 640)\n",
      "\n",
      "0: 384x640 1 TR6MC, 1 TL18MC, 1 TL18ML, 1 TRArc, 1 TLArc, 1 RMC, 1 LMC, 1 BL18MC, 1 BRArc, 1 BLArc, 138.3ms\n",
      "Speed: 1.1ms preprocess, 138.3ms inference, 0.4ms postprocess per image at shape (1, 3, 384, 640)\n",
      "\n"
     ]
    },
    {
     "name": "stdout",
     "output_type": "stream",
     "text": [
      "(20, 5)\n"
     ]
    },
    {
     "name": "stderr",
     "output_type": "stream",
     "text": [
      "0: 384x640 20 players, 1 referee, 243.5ms\n",
      "Speed: 1.0ms preprocess, 243.5ms inference, 0.6ms postprocess per image at shape (1, 3, 384, 640)\n",
      "\n",
      "0: 384x640 1 TR6MC, 1 TR6ML, 1 TL18MC, 1 TL18ML, 1 TRArc, 1 TLArc, 1 RMC, 1 LMC, 1 BL18MC, 1 BRArc, 1 BLArc, 140.1ms\n",
      "Speed: 1.1ms preprocess, 140.1ms inference, 0.4ms postprocess per image at shape (1, 3, 384, 640)\n",
      "\n"
     ]
    },
    {
     "name": "stdout",
     "output_type": "stream",
     "text": [
      "(20, 5)\n"
     ]
    },
    {
     "name": "stderr",
     "output_type": "stream",
     "text": [
      "0: 384x640 20 players, 1 referee, 247.2ms\n",
      "Speed: 0.9ms preprocess, 247.2ms inference, 0.3ms postprocess per image at shape (1, 3, 384, 640)\n",
      "\n",
      "0: 384x640 1 TR6MC, 1 TR6ML, 1 TL6ML, 1 TL18MC, 1 TL18ML, 1 TRArc, 1 RMC, 1 LMC, 1 BL18MC, 1 BRArc, 1 BLArc, 139.8ms\n",
      "Speed: 1.0ms preprocess, 139.8ms inference, 0.4ms postprocess per image at shape (1, 3, 384, 640)\n",
      "\n"
     ]
    },
    {
     "name": "stdout",
     "output_type": "stream",
     "text": [
      "(20, 5)\n"
     ]
    },
    {
     "name": "stderr",
     "output_type": "stream",
     "text": [
      "0: 384x640 19 players, 1 referee, 246.8ms\n",
      "Speed: 0.9ms preprocess, 246.8ms inference, 0.4ms postprocess per image at shape (1, 3, 384, 640)\n",
      "\n",
      "0: 384x640 1 TR6MC, 1 TR6ML, 1 TL6ML, 1 TL18MC, 1 TL18ML, 1 TRArc, 1 RMC, 1 LMC, 1 BL18MC, 1 BRArc, 1 BLArc, 139.8ms\n",
      "Speed: 1.1ms preprocess, 139.8ms inference, 0.5ms postprocess per image at shape (1, 3, 384, 640)\n",
      "\n"
     ]
    },
    {
     "name": "stdout",
     "output_type": "stream",
     "text": [
      "(19, 5)\n"
     ]
    },
    {
     "name": "stderr",
     "output_type": "stream",
     "text": [
      "0: 384x640 19 players, 1 referee, 244.9ms\n",
      "Speed: 1.0ms preprocess, 244.9ms inference, 0.3ms postprocess per image at shape (1, 3, 384, 640)\n",
      "\n",
      "0: 384x640 1 TR6MC, 1 TR6ML, 1 TL6ML, 1 TL18MC, 1 TL18ML, 1 TRArc, 1 RMC, 1 LMC, 1 BL18MC, 1 BRArc, 1 BLArc, 138.1ms\n",
      "Speed: 1.0ms preprocess, 138.1ms inference, 0.4ms postprocess per image at shape (1, 3, 384, 640)\n",
      "\n"
     ]
    },
    {
     "name": "stdout",
     "output_type": "stream",
     "text": [
      "(19, 5)\n",
      "19 19\n"
     ]
    },
    {
     "name": "stderr",
     "output_type": "stream",
     "text": [
      "0: 384x640 19 players, 1 referee, 247.9ms\n",
      "Speed: 1.0ms preprocess, 247.9ms inference, 0.3ms postprocess per image at shape (1, 3, 384, 640)\n",
      "\n",
      "0: 384x640 1 TR6MC, 1 TR6ML, 1 TL6ML, 1 TL18MC, 1 TL18ML, 1 TRArc, 1 RMC, 1 LMC, 1 BL18MC, 1 BRArc, 1 BLArc, 140.3ms\n",
      "Speed: 1.0ms preprocess, 140.3ms inference, 0.7ms postprocess per image at shape (1, 3, 384, 640)\n",
      "\n"
     ]
    },
    {
     "name": "stdout",
     "output_type": "stream",
     "text": [
      "(19, 5)\n"
     ]
    },
    {
     "name": "stderr",
     "output_type": "stream",
     "text": [
      "0: 384x640 18 players, 1 referee, 248.3ms\n",
      "Speed: 1.1ms preprocess, 248.3ms inference, 0.4ms postprocess per image at shape (1, 3, 384, 640)\n",
      "\n",
      "0: 384x640 1 TR6MC, 1 TR6ML, 1 TL6ML, 1 TL18MC, 1 TL18ML, 1 TRArc, 1 RMC, 1 LMC, 1 BL18MC, 1 BRArc, 1 BLArc, 139.0ms\n",
      "Speed: 0.9ms preprocess, 139.0ms inference, 0.4ms postprocess per image at shape (1, 3, 384, 640)\n",
      "\n"
     ]
    },
    {
     "name": "stdout",
     "output_type": "stream",
     "text": [
      "(18, 5)\n"
     ]
    },
    {
     "name": "stderr",
     "output_type": "stream",
     "text": [
      "0: 384x640 18 players, 1 referee, 248.1ms\n",
      "Speed: 1.1ms preprocess, 248.1ms inference, 0.3ms postprocess per image at shape (1, 3, 384, 640)\n",
      "\n",
      "0: 384x640 1 TR6MC, 1 TR6ML, 1 TL6ML, 1 TL18MC, 1 TL18ML, 1 TRArc, 1 RMC, 1 LMC, 1 BL18MC, 1 BRArc, 1 BLArc, 141.8ms\n",
      "Speed: 1.0ms preprocess, 141.8ms inference, 0.4ms postprocess per image at shape (1, 3, 384, 640)\n",
      "\n"
     ]
    },
    {
     "name": "stdout",
     "output_type": "stream",
     "text": [
      "(18, 5)\n"
     ]
    },
    {
     "name": "stderr",
     "output_type": "stream",
     "text": [
      "0: 384x640 19 players, 1 referee, 247.1ms\n",
      "Speed: 1.1ms preprocess, 247.1ms inference, 0.4ms postprocess per image at shape (1, 3, 384, 640)\n",
      "\n",
      "0: 384x640 1 TR6MC, 1 TR6ML, 1 TL6ML, 1 TL18MC, 1 TL18ML, 1 TRArc, 1 RMC, 1 LMC, 1 BL18MC, 1 BRArc, 1 BLArc, 142.3ms\n",
      "Speed: 1.0ms preprocess, 142.3ms inference, 0.4ms postprocess per image at shape (1, 3, 384, 640)\n",
      "\n"
     ]
    },
    {
     "name": "stdout",
     "output_type": "stream",
     "text": [
      "(19, 5)\n"
     ]
    },
    {
     "name": "stderr",
     "output_type": "stream",
     "text": [
      "0: 384x640 20 players, 1 referee, 245.1ms\n",
      "Speed: 0.9ms preprocess, 245.1ms inference, 0.3ms postprocess per image at shape (1, 3, 384, 640)\n",
      "\n",
      "0: 384x640 1 TR6MC, 1 TR6ML, 1 TL6ML, 1 TL18MC, 1 TL18ML, 1 TRArc, 1 RMC, 1 LMC, 1 BL18MC, 1 BRArc, 1 BLArc, 140.7ms\n",
      "Speed: 1.1ms preprocess, 140.7ms inference, 0.4ms postprocess per image at shape (1, 3, 384, 640)\n",
      "\n"
     ]
    },
    {
     "name": "stdout",
     "output_type": "stream",
     "text": [
      "(20, 5)\n"
     ]
    },
    {
     "name": "stderr",
     "output_type": "stream",
     "text": [
      "0: 384x640 20 players, 1 referee, 249.9ms\n",
      "Speed: 1.0ms preprocess, 249.9ms inference, 0.4ms postprocess per image at shape (1, 3, 384, 640)\n",
      "\n",
      "0: 384x640 1 TR6MC, 1 TR6ML, 1 TL6ML, 1 TL18MC, 1 TL18ML, 1 TRArc, 1 RMC, 1 LMC, 1 BL18MC, 1 BRArc, 1 BLArc, 142.1ms\n",
      "Speed: 1.1ms preprocess, 142.1ms inference, 0.4ms postprocess per image at shape (1, 3, 384, 640)\n",
      "\n"
     ]
    },
    {
     "name": "stdout",
     "output_type": "stream",
     "text": [
      "(20, 5)\n"
     ]
    },
    {
     "name": "stderr",
     "output_type": "stream",
     "text": [
      "0: 384x640 20 players, 1 referee, 249.6ms\n",
      "Speed: 1.0ms preprocess, 249.6ms inference, 0.6ms postprocess per image at shape (1, 3, 384, 640)\n",
      "\n",
      "0: 384x640 1 TR6MC, 1 TR6ML, 1 TL6ML, 1 TL18MC, 1 TL18ML, 1 TRArc, 1 RMC, 1 LMC, 1 BL18MC, 1 BRArc, 1 BLArc, 133.1ms\n",
      "Speed: 1.5ms preprocess, 133.1ms inference, 0.4ms postprocess per image at shape (1, 3, 384, 640)\n",
      "\n"
     ]
    },
    {
     "name": "stdout",
     "output_type": "stream",
     "text": [
      "(20, 5)\n"
     ]
    },
    {
     "name": "stderr",
     "output_type": "stream",
     "text": [
      "0: 384x640 20 players, 1 referee, 247.0ms\n",
      "Speed: 1.0ms preprocess, 247.0ms inference, 0.3ms postprocess per image at shape (1, 3, 384, 640)\n",
      "\n",
      "0: 384x640 1 TR6MC, 1 TR6ML, 1 TL6ML, 1 TL18MC, 1 TL18ML, 1 TRArc, 1 RMC, 1 LMC, 1 BL18MC, 1 BRArc, 1 BLArc, 141.3ms\n",
      "Speed: 0.9ms preprocess, 141.3ms inference, 0.4ms postprocess per image at shape (1, 3, 384, 640)\n",
      "\n"
     ]
    },
    {
     "name": "stdout",
     "output_type": "stream",
     "text": [
      "(20, 5)\n"
     ]
    },
    {
     "name": "stderr",
     "output_type": "stream",
     "text": [
      "0: 384x640 20 players, 1 referee, 1 ball, 248.9ms\n",
      "Speed: 1.1ms preprocess, 248.9ms inference, 0.3ms postprocess per image at shape (1, 3, 384, 640)\n",
      "\n",
      "0: 384x640 1 TR6MC, 1 TR6ML, 1 TL6ML, 1 TL18MC, 1 TL18ML, 1 TRArc, 1 RMC, 1 LMC, 1 BL18MC, 1 BRArc, 1 BLArc, 139.8ms\n",
      "Speed: 1.2ms preprocess, 139.8ms inference, 0.4ms postprocess per image at shape (1, 3, 384, 640)\n",
      "\n"
     ]
    },
    {
     "name": "stdout",
     "output_type": "stream",
     "text": [
      "(20, 5)\n",
      "19 4\n"
     ]
    },
    {
     "name": "stderr",
     "output_type": "stream",
     "text": [
      "0: 384x640 20 players, 1 referee, 1 ball, 244.9ms\n",
      "Speed: 1.2ms preprocess, 244.9ms inference, 0.4ms postprocess per image at shape (1, 3, 384, 640)\n",
      "\n",
      "0: 384x640 1 TR6MC, 1 TR6ML, 1 TL6ML, 1 TL18MC, 1 TL18ML, 1 TRArc, 1 RMC, 1 LMC, 1 BL18MC, 1 BRArc, 1 BLArc, 141.5ms\n",
      "Speed: 1.0ms preprocess, 141.5ms inference, 0.4ms postprocess per image at shape (1, 3, 384, 640)\n",
      "\n"
     ]
    },
    {
     "name": "stdout",
     "output_type": "stream",
     "text": [
      "(20, 5)\n",
      "19 4\n"
     ]
    },
    {
     "name": "stderr",
     "output_type": "stream",
     "text": [
      "0: 384x640 20 players, 1 referee, 244.7ms\n",
      "Speed: 0.9ms preprocess, 244.7ms inference, 0.3ms postprocess per image at shape (1, 3, 384, 640)\n",
      "\n",
      "0: 384x640 1 TR6MC, 1 TR6ML, 1 TL6ML, 1 TL18MC, 1 TL18ML, 1 TRArc, 1 RMC, 1 LMC, 1 BL18MC, 1 BRArc, 1 BLArc, 142.0ms\n",
      "Speed: 1.0ms preprocess, 142.0ms inference, 0.4ms postprocess per image at shape (1, 3, 384, 640)\n",
      "\n"
     ]
    },
    {
     "name": "stdout",
     "output_type": "stream",
     "text": [
      "(20, 5)\n"
     ]
    },
    {
     "name": "stderr",
     "output_type": "stream",
     "text": [
      "0: 384x640 20 players, 1 referee, 1 ball, 246.7ms\n",
      "Speed: 1.2ms preprocess, 246.7ms inference, 0.3ms postprocess per image at shape (1, 3, 384, 640)\n",
      "\n",
      "0: 384x640 1 TR6MC, 1 TR6ML, 1 TL6ML, 1 TL18MC, 1 TL18ML, 1 TRArc, 1 RMC, 1 LMC, 1 BL18MC, 1 BRArc, 1 BLArc, 139.3ms\n",
      "Speed: 1.3ms preprocess, 139.3ms inference, 0.4ms postprocess per image at shape (1, 3, 384, 640)\n",
      "\n"
     ]
    },
    {
     "name": "stdout",
     "output_type": "stream",
     "text": [
      "(20, 5)\n",
      "19 11\n"
     ]
    },
    {
     "name": "stderr",
     "output_type": "stream",
     "text": [
      "0: 384x640 20 players, 1 referee, 1 ball, 246.4ms\n",
      "Speed: 1.0ms preprocess, 246.4ms inference, 0.4ms postprocess per image at shape (1, 3, 384, 640)\n",
      "\n",
      "0: 384x640 1 TR6MC, 1 TR6ML, 1 TL6ML, 1 TL18MC, 1 TL18ML, 1 TRArc, 1 RMC, 1 LMC, 1 BL18MC, 1 BRArc, 1 BLArc, 138.0ms\n",
      "Speed: 1.0ms preprocess, 138.0ms inference, 0.4ms postprocess per image at shape (1, 3, 384, 640)\n",
      "\n"
     ]
    },
    {
     "name": "stdout",
     "output_type": "stream",
     "text": [
      "(20, 5)\n",
      "19 11\n"
     ]
    },
    {
     "name": "stderr",
     "output_type": "stream",
     "text": [
      "0: 384x640 20 players, 1 referee, 1 ball, 248.9ms\n",
      "Speed: 1.1ms preprocess, 248.9ms inference, 0.4ms postprocess per image at shape (1, 3, 384, 640)\n",
      "\n",
      "0: 384x640 1 TR6MC, 1 TR6ML, 1 TL6ML, 1 TL18MC, 1 TL18ML, 1 TRArc, 1 RMC, 1 LMC, 1 LML, 1 BL18MC, 1 BRArc, 1 BLArc, 142.3ms\n",
      "Speed: 1.1ms preprocess, 142.3ms inference, 0.4ms postprocess per image at shape (1, 3, 384, 640)\n",
      "\n"
     ]
    },
    {
     "name": "stdout",
     "output_type": "stream",
     "text": [
      "(20, 5)\n",
      "19 9\n"
     ]
    },
    {
     "name": "stderr",
     "output_type": "stream",
     "text": [
      "0: 384x640 20 players, 1 referee, 247.0ms\n",
      "Speed: 1.2ms preprocess, 247.0ms inference, 0.4ms postprocess per image at shape (1, 3, 384, 640)\n",
      "\n",
      "0: 384x640 1 TR6MC, 1 TR6ML, 1 TL6ML, 1 TL18MC, 1 TL18ML, 1 TRArc, 1 RMC, 1 LMC, 1 LML, 1 BL18MC, 1 BRArc, 1 BLArc, 138.4ms\n",
      "Speed: 1.3ms preprocess, 138.4ms inference, 0.4ms postprocess per image at shape (1, 3, 384, 640)\n",
      "\n"
     ]
    },
    {
     "name": "stdout",
     "output_type": "stream",
     "text": [
      "(20, 5)\n"
     ]
    },
    {
     "name": "stderr",
     "output_type": "stream",
     "text": [
      "0: 384x640 20 players, 1 referee, 1 ball, 246.5ms\n",
      "Speed: 1.2ms preprocess, 246.5ms inference, 0.3ms postprocess per image at shape (1, 3, 384, 640)\n",
      "\n",
      "0: 384x640 1 TR6MC, 1 TL6ML, 1 TL18MC, 1 TL18ML, 1 TRArc, 1 TLArc, 1 RMC, 1 LMC, 1 LML, 1 BL18MC, 1 BRArc, 1 BLArc, 136.3ms\n",
      "Speed: 1.1ms preprocess, 136.3ms inference, 0.4ms postprocess per image at shape (1, 3, 384, 640)\n",
      "\n"
     ]
    },
    {
     "name": "stdout",
     "output_type": "stream",
     "text": [
      "(20, 5)\n",
      "19 4\n"
     ]
    },
    {
     "name": "stderr",
     "output_type": "stream",
     "text": [
      "0: 384x640 21 players, 1 referee, 248.2ms\n",
      "Speed: 1.1ms preprocess, 248.2ms inference, 0.4ms postprocess per image at shape (1, 3, 384, 640)\n",
      "\n",
      "0: 384x640 1 TR6MC, 1 TR6ML, 1 TL18MC, 1 TL18ML, 1 TRArc, 1 RMC, 1 LMC, 1 LML, 1 BL18MC, 1 BRArc, 1 BLArc, 140.9ms\n",
      "Speed: 1.3ms preprocess, 140.9ms inference, 0.4ms postprocess per image at shape (1, 3, 384, 640)\n",
      "\n"
     ]
    },
    {
     "name": "stdout",
     "output_type": "stream",
     "text": [
      "(21, 5)\n"
     ]
    },
    {
     "name": "stderr",
     "output_type": "stream",
     "text": [
      "0: 384x640 20 players, 1 referee, 246.6ms\n",
      "Speed: 1.0ms preprocess, 246.6ms inference, 0.4ms postprocess per image at shape (1, 3, 384, 640)\n",
      "\n",
      "0: 384x640 1 TR6MC, 1 TL6ML, 1 TL18MC, 1 TL18ML, 1 TRArc, 1 TLArc, 1 RMC, 1 LML, 1 BL18MC, 1 BRArc, 1 BLArc, 141.8ms\n",
      "Speed: 0.9ms preprocess, 141.8ms inference, 0.4ms postprocess per image at shape (1, 3, 384, 640)\n",
      "\n"
     ]
    },
    {
     "name": "stdout",
     "output_type": "stream",
     "text": [
      "(20, 5)\n"
     ]
    },
    {
     "name": "stderr",
     "output_type": "stream",
     "text": [
      "0: 384x640 20 players, 1 referee, 248.0ms\n",
      "Speed: 1.1ms preprocess, 248.0ms inference, 0.3ms postprocess per image at shape (1, 3, 384, 640)\n",
      "\n",
      "0: 384x640 1 TR6MC, 1 TL6ML, 1 TL18MC, 1 TL18ML, 1 TRArc, 1 TLArc, 1 RMC, 1 LML, 1 BL18MC, 1 BRArc, 1 BLArc, 141.9ms\n",
      "Speed: 1.0ms preprocess, 141.9ms inference, 0.4ms postprocess per image at shape (1, 3, 384, 640)\n",
      "\n"
     ]
    },
    {
     "name": "stdout",
     "output_type": "stream",
     "text": [
      "(20, 5)\n"
     ]
    },
    {
     "name": "stderr",
     "output_type": "stream",
     "text": [
      "0: 384x640 19 players, 1 referee, 1 ball, 245.4ms\n",
      "Speed: 1.1ms preprocess, 245.4ms inference, 0.3ms postprocess per image at shape (1, 3, 384, 640)\n",
      "\n",
      "0: 384x640 1 TL6MC, 1 TL18MC, 1 TL18ML, 1 TRArc, 1 TLArc, 1 RMC, 1 BL18MC, 1 BRArc, 1 BLArc, 137.6ms\n",
      "Speed: 1.0ms preprocess, 137.6ms inference, 0.4ms postprocess per image at shape (1, 3, 384, 640)\n",
      "\n"
     ]
    },
    {
     "name": "stdout",
     "output_type": "stream",
     "text": [
      "(19, 5)\n",
      "19 3\n"
     ]
    },
    {
     "name": "stderr",
     "output_type": "stream",
     "text": [
      "0: 384x640 20 players, 1 referee, 1 ball, 247.2ms\n",
      "Speed: 1.1ms preprocess, 247.2ms inference, 0.3ms postprocess per image at shape (1, 3, 384, 640)\n",
      "\n",
      "0: 384x640 1 TL18MC, 1 TL18ML, 1 TRArc, 1 TLArc, 1 RMC, 1 LMC, 1 LML, 1 BL18MC, 1 BRArc, 1 BLArc, 137.8ms\n",
      "Speed: 1.0ms preprocess, 137.8ms inference, 0.4ms postprocess per image at shape (1, 3, 384, 640)\n",
      "\n"
     ]
    },
    {
     "name": "stdout",
     "output_type": "stream",
     "text": [
      "(20, 5)\n",
      "19 7\n",
      "19 19\n"
     ]
    },
    {
     "name": "stderr",
     "output_type": "stream",
     "text": [
      "0: 384x640 20 players, 1 referee, 243.1ms\n",
      "Speed: 0.9ms preprocess, 243.1ms inference, 0.6ms postprocess per image at shape (1, 3, 384, 640)\n",
      "\n",
      "0: 384x640 1 TL18MC, 1 TL18ML, 1 TRArc, 1 TLArc, 1 RMC, 1 LMC, 1 LML, 1 BL18MC, 1 BRArc, 1 BLArc, 143.6ms\n",
      "Speed: 1.1ms preprocess, 143.6ms inference, 0.4ms postprocess per image at shape (1, 3, 384, 640)\n",
      "\n"
     ]
    },
    {
     "name": "stdout",
     "output_type": "stream",
     "text": [
      "(20, 5)\n"
     ]
    },
    {
     "name": "stderr",
     "output_type": "stream",
     "text": [
      "0: 384x640 19 players, 1 referee, 247.1ms\n",
      "Speed: 1.1ms preprocess, 247.1ms inference, 0.4ms postprocess per image at shape (1, 3, 384, 640)\n",
      "\n",
      "0: 384x640 1 TLC, 1 TR6MC, 1 TR6ML, 1 TL18MC, 1 TL18ML, 1 TRArc, 1 TLArc, 1 RMC, 1 LMC, 1 LML, 1 BL18MC, 1 BRArc, 1 BLArc, 137.4ms\n",
      "Speed: 1.7ms preprocess, 137.4ms inference, 0.4ms postprocess per image at shape (1, 3, 384, 640)\n",
      "\n"
     ]
    },
    {
     "name": "stdout",
     "output_type": "stream",
     "text": [
      "(19, 5)\n"
     ]
    },
    {
     "name": "stderr",
     "output_type": "stream",
     "text": [
      "0: 384x640 19 players, 1 referee, 246.7ms\n",
      "Speed: 1.0ms preprocess, 246.7ms inference, 0.3ms postprocess per image at shape (1, 3, 384, 640)\n",
      "\n",
      "0: 384x640 1 TR6ML, 1 TL18MC, 1 TL18ML, 1 TRArc, 1 TLArc, 1 RMC, 1 LML, 1 BL18MC, 1 BRArc, 1 BLArc, 140.0ms\n",
      "Speed: 1.0ms preprocess, 140.0ms inference, 0.4ms postprocess per image at shape (1, 3, 384, 640)\n",
      "\n"
     ]
    },
    {
     "name": "stdout",
     "output_type": "stream",
     "text": [
      "(19, 5)\n"
     ]
    },
    {
     "name": "stderr",
     "output_type": "stream",
     "text": [
      "0: 384x640 19 players, 1 referee, 247.9ms\n",
      "Speed: 1.0ms preprocess, 247.9ms inference, 0.3ms postprocess per image at shape (1, 3, 384, 640)\n",
      "\n",
      "0: 384x640 1 TR6ML, 1 TL18MC, 1 TL18ML, 1 TRArc, 1 TLArc, 1 RMC, 1 LML, 1 BL18MC, 1 BRArc, 1 BLArc, 139.9ms\n",
      "Speed: 1.1ms preprocess, 139.9ms inference, 0.4ms postprocess per image at shape (1, 3, 384, 640)\n",
      "\n"
     ]
    },
    {
     "name": "stdout",
     "output_type": "stream",
     "text": [
      "(19, 5)\n"
     ]
    },
    {
     "name": "stderr",
     "output_type": "stream",
     "text": [
      "0: 384x640 19 players, 1 referee, 1 ball, 247.7ms\n",
      "Speed: 0.9ms preprocess, 247.7ms inference, 0.3ms postprocess per image at shape (1, 3, 384, 640)\n",
      "\n",
      "0: 384x640 1 TR6MC, 1 TR6ML, 1 TL18MC, 1 TL18ML, 1 TRArc, 1 TLArc, 1 RMC, 1 LMC, 1 LML, 1 BL18MC, 1 BRArc, 1 BLArc, 143.9ms\n",
      "Speed: 1.0ms preprocess, 143.9ms inference, 0.5ms postprocess per image at shape (1, 3, 384, 640)\n",
      "\n"
     ]
    },
    {
     "name": "stdout",
     "output_type": "stream",
     "text": [
      "(19, 5)\n",
      "19 8\n"
     ]
    },
    {
     "name": "stderr",
     "output_type": "stream",
     "text": [
      "0: 384x640 19 players, 1 referee, 1 ball, 246.1ms\n",
      "Speed: 0.9ms preprocess, 246.1ms inference, 0.6ms postprocess per image at shape (1, 3, 384, 640)\n",
      "\n",
      "0: 384x640 1 TLC, 1 TR6MC, 1 TR6ML, 1 TL18MC, 1 TL18ML, 1 TRArc, 1 TLArc, 1 RMC, 1 BL18MC, 1 BRArc, 1 BLArc, 141.7ms\n",
      "Speed: 1.1ms preprocess, 141.7ms inference, 0.4ms postprocess per image at shape (1, 3, 384, 640)\n",
      "\n"
     ]
    },
    {
     "name": "stdout",
     "output_type": "stream",
     "text": [
      "(19, 5)\n",
      "19 5\n"
     ]
    },
    {
     "name": "stderr",
     "output_type": "stream",
     "text": [
      "0: 384x640 19 players, 1 referee, 246.8ms\n",
      "Speed: 1.1ms preprocess, 246.8ms inference, 0.3ms postprocess per image at shape (1, 3, 384, 640)\n",
      "\n",
      "0: 384x640 1 TLC, 1 TR6ML, 1 TL18MC, 1 TL18ML, 1 TRArc, 1 TLArc, 1 RMC, 1 LMC, 1 LML, 1 BL18MC, 1 BRArc, 1 BLArc, 140.5ms\n",
      "Speed: 1.0ms preprocess, 140.5ms inference, 0.4ms postprocess per image at shape (1, 3, 384, 640)\n",
      "\n"
     ]
    },
    {
     "name": "stdout",
     "output_type": "stream",
     "text": [
      "(19, 5)\n"
     ]
    },
    {
     "name": "stderr",
     "output_type": "stream",
     "text": [
      "0: 384x640 18 players, 247.6ms\n",
      "Speed: 1.2ms preprocess, 247.6ms inference, 0.3ms postprocess per image at shape (1, 3, 384, 640)\n",
      "\n",
      "0: 384x640 1 TLC, 1 TR6MC, 1 TR6ML, 1 TL18MC, 1 TL18ML, 1 TRArc, 1 TLArc, 1 RMC, 1 LMC, 1 LML, 1 BL18MC, 1 BRArc, 1 BLArc, 139.6ms\n",
      "Speed: 1.3ms preprocess, 139.6ms inference, 0.4ms postprocess per image at shape (1, 3, 384, 640)\n",
      "\n"
     ]
    },
    {
     "name": "stdout",
     "output_type": "stream",
     "text": [
      "(18, 5)\n"
     ]
    },
    {
     "name": "stderr",
     "output_type": "stream",
     "text": [
      "0: 384x640 19 players, 1 ball, 247.6ms\n",
      "Speed: 1.0ms preprocess, 247.6ms inference, 0.4ms postprocess per image at shape (1, 3, 384, 640)\n",
      "\n",
      "0: 384x640 1 TLC, 1 TR6ML, 1 TL18MC, 1 TL18ML, 1 TRArc, 1 TLArc, 1 RMC, 1 BL18MC, 1 BRArc, 1 BLArc, 142.5ms\n",
      "Speed: 1.0ms preprocess, 142.5ms inference, 0.4ms postprocess per image at shape (1, 3, 384, 640)\n",
      "\n"
     ]
    },
    {
     "name": "stdout",
     "output_type": "stream",
     "text": [
      "(19, 5)\n",
      "19 13\n"
     ]
    },
    {
     "name": "stderr",
     "output_type": "stream",
     "text": [
      "0: 384x640 19 players, 1 ball, 248.4ms\n",
      "Speed: 1.1ms preprocess, 248.4ms inference, 0.3ms postprocess per image at shape (1, 3, 384, 640)\n",
      "\n",
      "0: 384x640 1 TLC, 1 TR6ML, 1 TL18MC, 1 TL18ML, 1 TRArc, 1 TLArc, 1 RMC, 1 BL18MC, 1 BRArc, 1 BLArc, 136.6ms\n",
      "Speed: 1.1ms preprocess, 136.6ms inference, 0.4ms postprocess per image at shape (1, 3, 384, 640)\n",
      "\n"
     ]
    },
    {
     "name": "stdout",
     "output_type": "stream",
     "text": [
      "(19, 5)\n",
      "19 13\n"
     ]
    },
    {
     "name": "stderr",
     "output_type": "stream",
     "text": [
      "0: 384x640 17 players, 248.7ms\n",
      "Speed: 1.0ms preprocess, 248.7ms inference, 0.3ms postprocess per image at shape (1, 3, 384, 640)\n",
      "\n",
      "0: 384x640 1 TLC, 1 TR6MC, 1 TR6ML, 1 TL18MC, 1 TL18ML, 1 TRArc, 1 TLArc, 1 RMC, 1 LMC, 1 LML, 1 BL18MC, 1 BRArc, 1 BLArc, 143.4ms\n",
      "Speed: 1.0ms preprocess, 143.4ms inference, 0.4ms postprocess per image at shape (1, 3, 384, 640)\n",
      "\n"
     ]
    },
    {
     "name": "stdout",
     "output_type": "stream",
     "text": [
      "(17, 5)\n"
     ]
    },
    {
     "name": "stderr",
     "output_type": "stream",
     "text": [
      "0: 384x640 18 players, 246.9ms\n",
      "Speed: 1.0ms preprocess, 246.9ms inference, 0.3ms postprocess per image at shape (1, 3, 384, 640)\n",
      "\n",
      "0: 384x640 1 TLC, 1 TR6MC, 1 TR6ML, 1 TL18MC, 1 TL18ML, 1 TRArc, 1 RMC, 1 BL18MC, 1 BRArc, 1 BLArc, 139.3ms\n",
      "Speed: 1.0ms preprocess, 139.3ms inference, 0.4ms postprocess per image at shape (1, 3, 384, 640)\n",
      "\n"
     ]
    },
    {
     "name": "stdout",
     "output_type": "stream",
     "text": [
      "(18, 5)\n"
     ]
    },
    {
     "name": "stderr",
     "output_type": "stream",
     "text": [
      "0: 384x640 19 players, 246.3ms\n",
      "Speed: 1.0ms preprocess, 246.3ms inference, 0.4ms postprocess per image at shape (1, 3, 384, 640)\n",
      "\n",
      "0: 384x640 1 TLC, 1 TL6MC, 1 TR6ML, 1 TL18MC, 1 TL18ML, 1 TRArc, 1 TLArc, 1 RMC, 1 LML, 1 BL18MC, 1 BLArc, 142.3ms\n",
      "Speed: 1.0ms preprocess, 142.3ms inference, 0.4ms postprocess per image at shape (1, 3, 384, 640)\n",
      "\n"
     ]
    },
    {
     "name": "stdout",
     "output_type": "stream",
     "text": [
      "(19, 5)\n"
     ]
    },
    {
     "name": "stderr",
     "output_type": "stream",
     "text": [
      "0: 384x640 19 players, 1 ball, 246.8ms\n",
      "Speed: 1.0ms preprocess, 246.8ms inference, 0.3ms postprocess per image at shape (1, 3, 384, 640)\n",
      "\n",
      "0: 384x640 1 TLC, 1 TR6MC, 1 TL6MC, 1 TL18MC, 1 TL18ML, 1 TRArc, 1 TLArc, 1 RMC, 1 LML, 1 BL18MC, 1 BLArc, 138.1ms\n",
      "Speed: 1.4ms preprocess, 138.1ms inference, 0.4ms postprocess per image at shape (1, 3, 384, 640)\n",
      "\n"
     ]
    },
    {
     "name": "stdout",
     "output_type": "stream",
     "text": [
      "(19, 5)\n",
      "19 5\n"
     ]
    },
    {
     "name": "stderr",
     "output_type": "stream",
     "text": [
      "0: 384x640 18 players, 1 ball, 246.3ms\n",
      "Speed: 1.0ms preprocess, 246.3ms inference, 0.4ms postprocess per image at shape (1, 3, 384, 640)\n",
      "\n",
      "0: 384x640 1 TLC, 1 TR6MC, 1 TR6ML, 1 TL18MC, 1 TL18ML, 1 TRArc, 1 TLArc, 1 RMC, 1 LML, 1 BL18MC, 1 BLArc, 139.2ms\n",
      "Speed: 1.0ms preprocess, 139.2ms inference, 0.4ms postprocess per image at shape (1, 3, 384, 640)\n",
      "\n"
     ]
    },
    {
     "name": "stdout",
     "output_type": "stream",
     "text": [
      "(18, 5)\n",
      "19 14\n"
     ]
    },
    {
     "name": "stderr",
     "output_type": "stream",
     "text": [
      "0: 384x640 19 players, 1 ball, 243.7ms\n",
      "Speed: 1.0ms preprocess, 243.7ms inference, 0.4ms postprocess per image at shape (1, 3, 384, 640)\n",
      "\n",
      "0: 384x640 1 TLC, 1 TR6MC, 1 TR6ML, 1 TL18MC, 1 TL18ML, 1 TRArc, 1 TLArc, 1 RMC, 1 LML, 1 BL18MC, 1 BLArc, 140.0ms\n",
      "Speed: 0.9ms preprocess, 140.0ms inference, 0.4ms postprocess per image at shape (1, 3, 384, 640)\n",
      "\n"
     ]
    },
    {
     "name": "stdout",
     "output_type": "stream",
     "text": [
      "(19, 5)\n",
      "19 14\n"
     ]
    },
    {
     "name": "stderr",
     "output_type": "stream",
     "text": [
      "0: 384x640 18 players, 1 ball, 247.5ms\n",
      "Speed: 1.0ms preprocess, 247.5ms inference, 0.3ms postprocess per image at shape (1, 3, 384, 640)\n",
      "\n",
      "0: 384x640 1 TLC, 1 TR6MC, 1 TL6MC, 1 TR6ML, 1 TL18MC, 1 TRArc, 1 TLArc, 1 RMC, 1 BL18MC, 1 BLArc, 141.1ms\n",
      "Speed: 0.9ms preprocess, 141.1ms inference, 0.4ms postprocess per image at shape (1, 3, 384, 640)\n",
      "\n"
     ]
    },
    {
     "name": "stdout",
     "output_type": "stream",
     "text": [
      "(18, 5)\n",
      "19 13\n"
     ]
    },
    {
     "name": "stderr",
     "output_type": "stream",
     "text": [
      "0: 384x640 18 players, 1 ball, 249.2ms\n",
      "Speed: 1.0ms preprocess, 249.2ms inference, 0.3ms postprocess per image at shape (1, 3, 384, 640)\n",
      "\n",
      "0: 384x640 1 TLC, 1 TR6MC, 1 TL6MC, 1 TR6ML, 1 TL6ML, 1 TL18MC, 1 TL18ML, 1 TRArc, 1 TLArc, 1 RMC, 1 LML, 1 BL18MC, 1 BLArc, 142.1ms\n",
      "Speed: 1.4ms preprocess, 142.1ms inference, 0.4ms postprocess per image at shape (1, 3, 384, 640)\n",
      "\n"
     ]
    },
    {
     "name": "stdout",
     "output_type": "stream",
     "text": [
      "(18, 5)\n",
      "19 7\n"
     ]
    },
    {
     "name": "stderr",
     "output_type": "stream",
     "text": [
      "0: 384x640 18 players, 1 referee, 1 ball, 247.3ms\n",
      "Speed: 1.0ms preprocess, 247.3ms inference, 0.3ms postprocess per image at shape (1, 3, 384, 640)\n",
      "\n",
      "0: 384x640 1 TL6MC, 1 TR6ML, 1 TL6ML, 1 TL18MC, 1 TL18ML, 1 TRArc, 1 TLArc, 1 RMC, 1 LML, 1 BL18MC, 1 BLArc, 143.4ms\n",
      "Speed: 1.5ms preprocess, 143.4ms inference, 0.4ms postprocess per image at shape (1, 3, 384, 640)\n",
      "\n"
     ]
    },
    {
     "name": "stdout",
     "output_type": "stream",
     "text": [
      "(18, 5)\n",
      "19 5\n"
     ]
    },
    {
     "name": "stderr",
     "output_type": "stream",
     "text": [
      "0: 384x640 18 players, 243.0ms\n",
      "Speed: 1.1ms preprocess, 243.0ms inference, 0.3ms postprocess per image at shape (1, 3, 384, 640)\n",
      "\n",
      "0: 384x640 1 TR6MC, 1 TL6MC, 1 TR6ML, 1 TL6ML, 1 TL18MC, 1 TL18ML, 1 TRArc, 1 TLArc, 1 RMC, 1 BL18MC, 1 BLArc, 139.6ms\n",
      "Speed: 1.4ms preprocess, 139.6ms inference, 0.4ms postprocess per image at shape (1, 3, 384, 640)\n",
      "\n"
     ]
    },
    {
     "name": "stdout",
     "output_type": "stream",
     "text": [
      "(18, 5)\n"
     ]
    },
    {
     "name": "stderr",
     "output_type": "stream",
     "text": [
      "0: 384x640 17 players, 247.8ms\n",
      "Speed: 1.0ms preprocess, 247.8ms inference, 0.3ms postprocess per image at shape (1, 3, 384, 640)\n",
      "\n",
      "0: 384x640 1 TLC, 1 TR6MC, 1 TL6MC, 1 TR6ML, 1 TL6ML, 1 TL18MC, 1 TL18ML, 1 TRArc, 1 TLArc, 1 RMC, 1 LML, 1 BL18MC, 1 BLArc, 141.9ms\n",
      "Speed: 1.0ms preprocess, 141.9ms inference, 0.4ms postprocess per image at shape (1, 3, 384, 640)\n",
      "\n"
     ]
    },
    {
     "name": "stdout",
     "output_type": "stream",
     "text": [
      "(17, 5)\n",
      "19 19\n"
     ]
    },
    {
     "name": "stderr",
     "output_type": "stream",
     "text": [
      "0: 384x640 17 players, 247.2ms\n",
      "Speed: 0.9ms preprocess, 247.2ms inference, 0.5ms postprocess per image at shape (1, 3, 384, 640)\n",
      "\n",
      "0: 384x640 1 TLC, 1 TR6MC, 1 TL6MC, 1 TR6ML, 1 TL6ML, 1 TL18MC, 1 TL18ML, 1 TRArc, 1 TLArc, 1 RMC, 1 LML, 1 BL18MC, 1 BLArc, 142.1ms\n",
      "Speed: 1.0ms preprocess, 142.1ms inference, 0.4ms postprocess per image at shape (1, 3, 384, 640)\n",
      "\n"
     ]
    },
    {
     "name": "stdout",
     "output_type": "stream",
     "text": [
      "(17, 5)\n"
     ]
    },
    {
     "name": "stderr",
     "output_type": "stream",
     "text": [
      "0: 384x640 18 players, 1 referee, 245.4ms\n",
      "Speed: 0.9ms preprocess, 245.4ms inference, 0.3ms postprocess per image at shape (1, 3, 384, 640)\n",
      "\n",
      "0: 384x640 1 TLC, 1 TL6MC, 1 TR6ML, 1 TL6ML, 1 TL18MC, 1 TL18ML, 1 TRArc, 1 TLArc, 1 RMC, 1 LML, 1 BL18MC, 1 BLArc, 138.7ms\n",
      "Speed: 1.1ms preprocess, 138.7ms inference, 0.4ms postprocess per image at shape (1, 3, 384, 640)\n",
      "\n"
     ]
    },
    {
     "name": "stdout",
     "output_type": "stream",
     "text": [
      "(18, 5)\n"
     ]
    },
    {
     "name": "stderr",
     "output_type": "stream",
     "text": [
      "0: 384x640 17 players, 1 referee, 246.8ms\n",
      "Speed: 1.1ms preprocess, 246.8ms inference, 0.3ms postprocess per image at shape (1, 3, 384, 640)\n",
      "\n",
      "0: 384x640 1 TLC, 1 TR6MC, 1 TL6MC, 1 TL6ML, 1 TL18MC, 1 TL18ML, 1 TRArc, 1 TLArc, 1 RMC, 1 LML, 1 BL18MC, 1 BLArc, 139.8ms\n",
      "Speed: 1.1ms preprocess, 139.8ms inference, 0.4ms postprocess per image at shape (1, 3, 384, 640)\n",
      "\n"
     ]
    },
    {
     "name": "stdout",
     "output_type": "stream",
     "text": [
      "(17, 5)\n"
     ]
    },
    {
     "name": "stderr",
     "output_type": "stream",
     "text": [
      "0: 384x640 17 players, 241.8ms\n",
      "Speed: 1.2ms preprocess, 241.8ms inference, 0.4ms postprocess per image at shape (1, 3, 384, 640)\n",
      "\n",
      "0: 384x640 1 TLC, 1 TR6MC, 1 TL6MC, 1 TR6ML, 1 TL6ML, 1 TL18MC, 1 TL18ML, 1 TRArc, 1 LML, 1 BL18MC, 1 BLArc, 139.5ms\n",
      "Speed: 1.0ms preprocess, 139.5ms inference, 0.4ms postprocess per image at shape (1, 3, 384, 640)\n",
      "\n"
     ]
    },
    {
     "name": "stdout",
     "output_type": "stream",
     "text": [
      "(17, 5)\n"
     ]
    },
    {
     "name": "stderr",
     "output_type": "stream",
     "text": [
      "0: 384x640 17 players, 1 referee, 246.3ms\n",
      "Speed: 1.1ms preprocess, 246.3ms inference, 0.3ms postprocess per image at shape (1, 3, 384, 640)\n",
      "\n",
      "0: 384x640 1 TLC, 1 TR6MC, 1 TL6MC, 1 TR6ML, 1 TL6ML, 1 TL18MC, 1 TL18ML, 1 TRArc, 1 TLArc, 1 LML, 1 BL18MC, 1 BLArc, 140.0ms\n",
      "Speed: 1.0ms preprocess, 140.0ms inference, 0.4ms postprocess per image at shape (1, 3, 384, 640)\n",
      "\n"
     ]
    },
    {
     "name": "stdout",
     "output_type": "stream",
     "text": [
      "(17, 5)\n"
     ]
    },
    {
     "name": "stderr",
     "output_type": "stream",
     "text": [
      "0: 384x640 18 players, 1 referee, 246.8ms\n",
      "Speed: 1.1ms preprocess, 246.8ms inference, 0.5ms postprocess per image at shape (1, 3, 384, 640)\n",
      "\n",
      "0: 384x640 1 TLC, 1 TR6MC, 1 TL6MC, 1 TL6ML, 1 TL18MC, 1 TL18ML, 1 TRArc, 1 TLArc, 1 LML, 1 BL18MC, 1 BLArc, 140.0ms\n",
      "Speed: 1.4ms preprocess, 140.0ms inference, 0.4ms postprocess per image at shape (1, 3, 384, 640)\n",
      "\n"
     ]
    },
    {
     "name": "stdout",
     "output_type": "stream",
     "text": [
      "(18, 5)\n"
     ]
    },
    {
     "name": "stderr",
     "output_type": "stream",
     "text": [
      "0: 384x640 18 players, 1 referee, 248.2ms\n",
      "Speed: 1.0ms preprocess, 248.2ms inference, 0.3ms postprocess per image at shape (1, 3, 384, 640)\n",
      "\n",
      "0: 384x640 1 TLC, 1 TR6MC, 1 TL6MC, 1 TL6ML, 1 TL18MC, 1 TL18ML, 1 TRArc, 1 TLArc, 1 LML, 1 BL18MC, 1 BLArc, 141.2ms\n",
      "Speed: 1.1ms preprocess, 141.2ms inference, 0.4ms postprocess per image at shape (1, 3, 384, 640)\n",
      "\n"
     ]
    },
    {
     "name": "stdout",
     "output_type": "stream",
     "text": [
      "(18, 5)\n"
     ]
    },
    {
     "name": "stderr",
     "output_type": "stream",
     "text": [
      "0: 384x640 18 players, 1 referee, 247.2ms\n",
      "Speed: 1.1ms preprocess, 247.2ms inference, 0.3ms postprocess per image at shape (1, 3, 384, 640)\n",
      "\n",
      "0: 384x640 1 TLC, 1 TR6MC, 1 TL6MC, 1 TR6ML, 1 TL6ML, 1 TL18MC, 1 TL18ML, 1 TRArc, 1 LMC, 1 LML, 1 BL18MC, 1 BLArc, 140.3ms\n",
      "Speed: 1.1ms preprocess, 140.3ms inference, 0.4ms postprocess per image at shape (1, 3, 384, 640)\n",
      "\n"
     ]
    },
    {
     "name": "stdout",
     "output_type": "stream",
     "text": [
      "(18, 5)\n"
     ]
    },
    {
     "name": "stderr",
     "output_type": "stream",
     "text": [
      "0: 384x640 18 players, 1 referee, 247.4ms\n",
      "Speed: 1.1ms preprocess, 247.4ms inference, 0.3ms postprocess per image at shape (1, 3, 384, 640)\n",
      "\n",
      "0: 384x640 1 TLC, 1 TR6MC, 1 TL6MC, 1 TR6ML, 1 TL6ML, 1 TL18MC, 1 TL18ML, 1 TRArc, 1 TLArc, 1 LMC, 1 LML, 1 BL18MC, 1 BLArc, 141.6ms\n",
      "Speed: 1.0ms preprocess, 141.6ms inference, 0.4ms postprocess per image at shape (1, 3, 384, 640)\n",
      "\n"
     ]
    },
    {
     "name": "stdout",
     "output_type": "stream",
     "text": [
      "(18, 5)\n"
     ]
    },
    {
     "name": "stderr",
     "output_type": "stream",
     "text": [
      "0: 384x640 18 players, 1 referee, 246.2ms\n",
      "Speed: 1.1ms preprocess, 246.2ms inference, 0.3ms postprocess per image at shape (1, 3, 384, 640)\n",
      "\n",
      "0: 384x640 1 TLC, 1 TR6MC, 1 TL6MC, 1 TL6ML, 1 TL18MC, 1 TL18ML, 1 TRArc, 1 TLArc, 1 BL18MC, 1 BLArc, 138.4ms\n",
      "Speed: 1.0ms preprocess, 138.4ms inference, 0.4ms postprocess per image at shape (1, 3, 384, 640)\n",
      "\n"
     ]
    },
    {
     "name": "stdout",
     "output_type": "stream",
     "text": [
      "(18, 5)\n"
     ]
    },
    {
     "name": "stderr",
     "output_type": "stream",
     "text": [
      "0: 384x640 18 players, 1 referee, 244.5ms\n",
      "Speed: 1.2ms preprocess, 244.5ms inference, 0.3ms postprocess per image at shape (1, 3, 384, 640)\n",
      "\n",
      "0: 384x640 1 TLC, 1 TR6MC, 1 TL6MC, 1 TL6ML, 1 TL18MC, 1 TL18ML, 1 TRArc, 1 TLArc, 1 LML, 1 BL18MC, 1 BLArc, 139.4ms\n",
      "Speed: 1.0ms preprocess, 139.4ms inference, 0.4ms postprocess per image at shape (1, 3, 384, 640)\n",
      "\n"
     ]
    },
    {
     "name": "stdout",
     "output_type": "stream",
     "text": [
      "(18, 5)\n"
     ]
    },
    {
     "name": "stderr",
     "output_type": "stream",
     "text": [
      "0: 384x640 18 players, 243.8ms\n",
      "Speed: 0.9ms preprocess, 243.8ms inference, 0.4ms postprocess per image at shape (1, 3, 384, 640)\n",
      "\n",
      "0: 384x640 1 TLC, 1 TL6MC, 1 TR6ML, 1 TL6ML, 1 TL18MC, 1 TL18ML, 1 TRArc, 1 TLArc, 1 LMC, 1 LML, 1 BL6MC, 1 BL18MC, 1 BLArc, 139.1ms\n",
      "Speed: 1.0ms preprocess, 139.1ms inference, 0.4ms postprocess per image at shape (1, 3, 384, 640)\n",
      "\n"
     ]
    },
    {
     "name": "stdout",
     "output_type": "stream",
     "text": [
      "(18, 5)\n"
     ]
    },
    {
     "name": "stderr",
     "output_type": "stream",
     "text": [
      "0: 384x640 18 players, 244.2ms\n",
      "Speed: 1.1ms preprocess, 244.2ms inference, 0.3ms postprocess per image at shape (1, 3, 384, 640)\n",
      "\n",
      "0: 384x640 1 TLC, 1 TL6MC, 1 TR6ML, 1 TL6ML, 1 TL18MC, 1 TL18ML, 1 TRArc, 1 TLArc, 1 LMC, 1 LML, 1 BL6MC, 1 BL18MC, 1 BLArc, 137.4ms\n",
      "Speed: 1.1ms preprocess, 137.4ms inference, 0.4ms postprocess per image at shape (1, 3, 384, 640)\n",
      "\n"
     ]
    },
    {
     "name": "stdout",
     "output_type": "stream",
     "text": [
      "(18, 5)\n"
     ]
    },
    {
     "name": "stderr",
     "output_type": "stream",
     "text": [
      "0: 384x640 17 players, 1 referee, 248.3ms\n",
      "Speed: 1.0ms preprocess, 248.3ms inference, 0.3ms postprocess per image at shape (1, 3, 384, 640)\n",
      "\n",
      "0: 384x640 1 TLC, 1 TR6MC, 1 TL6MC, 1 TL6ML, 1 TL18MC, 1 TL18ML, 1 TRArc, 1 TLArc, 1 BL18MC, 1 BLArc, 141.3ms\n",
      "Speed: 1.0ms preprocess, 141.3ms inference, 0.6ms postprocess per image at shape (1, 3, 384, 640)\n",
      "\n"
     ]
    },
    {
     "name": "stdout",
     "output_type": "stream",
     "text": [
      "(17, 5)\n"
     ]
    },
    {
     "name": "stderr",
     "output_type": "stream",
     "text": [
      "0: 384x640 17 players, 1 referee, 248.3ms\n",
      "Speed: 1.0ms preprocess, 248.3ms inference, 0.4ms postprocess per image at shape (1, 3, 384, 640)\n",
      "\n",
      "0: 384x640 1 TR6MC, 1 TL6MC, 1 TL6ML, 1 TL18MC, 1 TL18ML, 1 TLArc, 1 LML, 1 BL6MC, 1 BL18MC, 1 BLArc, 143.3ms\n",
      "Speed: 1.1ms preprocess, 143.3ms inference, 0.4ms postprocess per image at shape (1, 3, 384, 640)\n",
      "\n"
     ]
    },
    {
     "name": "stdout",
     "output_type": "stream",
     "text": [
      "(17, 5)\n"
     ]
    },
    {
     "name": "stderr",
     "output_type": "stream",
     "text": [
      "0: 384x640 18 players, 1 referee, 246.1ms\n",
      "Speed: 1.2ms preprocess, 246.1ms inference, 0.3ms postprocess per image at shape (1, 3, 384, 640)\n",
      "\n",
      "0: 384x640 1 TLC, 1 TR6MC, 1 TL6MC, 1 TL6ML, 1 TL18MC, 1 TL18ML, 1 TRArc, 1 TLArc, 1 LML, 1 BL18MC, 1 BLArc, 137.2ms\n",
      "Speed: 1.1ms preprocess, 137.2ms inference, 0.4ms postprocess per image at shape (1, 3, 384, 640)\n",
      "\n"
     ]
    },
    {
     "name": "stdout",
     "output_type": "stream",
     "text": [
      "(18, 5)\n"
     ]
    },
    {
     "name": "stderr",
     "output_type": "stream",
     "text": [
      "0: 384x640 16 players, 1 referee, 246.3ms\n",
      "Speed: 1.2ms preprocess, 246.3ms inference, 0.5ms postprocess per image at shape (1, 3, 384, 640)\n",
      "\n",
      "0: 384x640 1 TLC, 1 TR6MC, 1 TL6MC, 1 TR6ML, 1 TL6ML, 1 TL18MC, 1 TL18ML, 1 TRArc, 1 TLArc, 1 LML, 1 BL18MC, 1 BLArc, 140.6ms\n",
      "Speed: 1.1ms preprocess, 140.6ms inference, 0.4ms postprocess per image at shape (1, 3, 384, 640)\n",
      "\n"
     ]
    },
    {
     "name": "stdout",
     "output_type": "stream",
     "text": [
      "(16, 5)\n"
     ]
    },
    {
     "name": "stderr",
     "output_type": "stream",
     "text": [
      "0: 384x640 17 players, 1 referee, 245.9ms\n",
      "Speed: 0.9ms preprocess, 245.9ms inference, 0.3ms postprocess per image at shape (1, 3, 384, 640)\n",
      "\n",
      "0: 384x640 1 TLC, 1 TR6MC, 1 TL6MC, 1 TR6ML, 1 TL6ML, 1 TL18MC, 1 TL18ML, 1 TRArc, 1 TLArc, 1 LML, 1 BL18MC, 1 BLArc, 139.6ms\n",
      "Speed: 0.9ms preprocess, 139.6ms inference, 0.4ms postprocess per image at shape (1, 3, 384, 640)\n",
      "\n"
     ]
    },
    {
     "name": "stdout",
     "output_type": "stream",
     "text": [
      "(17, 5)\n"
     ]
    },
    {
     "name": "stderr",
     "output_type": "stream",
     "text": [
      "0: 384x640 17 players, 1 referee, 245.8ms\n",
      "Speed: 0.9ms preprocess, 245.8ms inference, 0.3ms postprocess per image at shape (1, 3, 384, 640)\n",
      "\n",
      "0: 384x640 1 TLC, 1 TR6MC, 1 TL6MC, 1 TR6ML, 1 TL6ML, 1 TL18MC, 1 TL18ML, 1 TRArc, 1 TLArc, 1 LML, 1 BL18MC, 1 BLArc, 138.9ms\n",
      "Speed: 1.1ms preprocess, 138.9ms inference, 0.4ms postprocess per image at shape (1, 3, 384, 640)\n",
      "\n"
     ]
    },
    {
     "name": "stdout",
     "output_type": "stream",
     "text": [
      "(17, 5)\n"
     ]
    },
    {
     "name": "stderr",
     "output_type": "stream",
     "text": [
      "0: 384x640 18 players, 1 referee, 249.8ms\n",
      "Speed: 1.1ms preprocess, 249.8ms inference, 0.3ms postprocess per image at shape (1, 3, 384, 640)\n",
      "\n",
      "0: 384x640 1 TLC, 1 TR6MC, 1 TL6MC, 1 TR6ML, 1 TL6ML, 1 TL18MC, 1 TL18ML, 1 TLArc, 1 BL18MC, 1 BLArc, 140.6ms\n",
      "Speed: 1.0ms preprocess, 140.6ms inference, 0.4ms postprocess per image at shape (1, 3, 384, 640)\n",
      "\n"
     ]
    },
    {
     "name": "stdout",
     "output_type": "stream",
     "text": [
      "(18, 5)\n"
     ]
    },
    {
     "name": "stderr",
     "output_type": "stream",
     "text": [
      "0: 384x640 16 players, 1 referee, 249.3ms\n",
      "Speed: 0.9ms preprocess, 249.3ms inference, 0.3ms postprocess per image at shape (1, 3, 384, 640)\n",
      "\n",
      "0: 384x640 1 TLC, 1 TR6MC, 1 TL6MC, 1 TL6ML, 1 TL18MC, 1 TL18ML, 1 TLArc, 1 BL18MC, 1 BLArc, 139.6ms\n",
      "Speed: 1.4ms preprocess, 139.6ms inference, 0.4ms postprocess per image at shape (1, 3, 384, 640)\n",
      "\n"
     ]
    },
    {
     "name": "stdout",
     "output_type": "stream",
     "text": [
      "(16, 5)\n",
      "19 19\n"
     ]
    },
    {
     "name": "stderr",
     "output_type": "stream",
     "text": [
      "0: 384x640 18 players, 1 referee, 248.8ms\n",
      "Speed: 1.0ms preprocess, 248.8ms inference, 0.3ms postprocess per image at shape (1, 3, 384, 640)\n",
      "\n",
      "0: 384x640 1 TR6MC, 1 TL6MC, 1 TR6ML, 1 TL6ML, 1 TL18MC, 1 TL18ML, 1 TLArc, 1 LML, 1 BL18MC, 1 BLArc, 145.1ms\n",
      "Speed: 1.1ms preprocess, 145.1ms inference, 0.4ms postprocess per image at shape (1, 3, 384, 640)\n",
      "\n"
     ]
    },
    {
     "name": "stdout",
     "output_type": "stream",
     "text": [
      "(18, 5)\n"
     ]
    },
    {
     "name": "stderr",
     "output_type": "stream",
     "text": [
      "0: 384x640 18 players, 1 referee, 243.5ms\n",
      "Speed: 1.0ms preprocess, 243.5ms inference, 0.3ms postprocess per image at shape (1, 3, 384, 640)\n",
      "\n",
      "0: 384x640 1 TLC, 1 TR6MC, 1 TL6MC, 1 TR6ML, 1 TL6ML, 1 TL18MC, 1 TL18ML, 1 TRArc, 1 TLArc, 1 LML, 1 BL18MC, 1 BLArc, 142.1ms\n",
      "Speed: 0.9ms preprocess, 142.1ms inference, 0.4ms postprocess per image at shape (1, 3, 384, 640)\n",
      "\n"
     ]
    },
    {
     "name": "stdout",
     "output_type": "stream",
     "text": [
      "(18, 5)\n"
     ]
    },
    {
     "name": "stderr",
     "output_type": "stream",
     "text": [
      "0: 384x640 18 players, 1 referee, 247.0ms\n",
      "Speed: 0.9ms preprocess, 247.0ms inference, 0.4ms postprocess per image at shape (1, 3, 384, 640)\n",
      "\n",
      "0: 384x640 1 TLC, 1 TR6MC, 1 TL6MC, 1 TR6ML, 1 TL6ML, 1 TL18MC, 1 TL18ML, 1 TLArc, 1 LML, 1 BL18MC, 1 BLArc, 142.6ms\n",
      "Speed: 1.3ms preprocess, 142.6ms inference, 0.4ms postprocess per image at shape (1, 3, 384, 640)\n",
      "\n"
     ]
    },
    {
     "name": "stdout",
     "output_type": "stream",
     "text": [
      "(18, 5)\n"
     ]
    },
    {
     "name": "stderr",
     "output_type": "stream",
     "text": [
      "0: 384x640 18 players, 1 referee, 248.8ms\n",
      "Speed: 1.2ms preprocess, 248.8ms inference, 0.3ms postprocess per image at shape (1, 3, 384, 640)\n",
      "\n",
      "0: 384x640 1 TLC, 1 TR6MC, 1 TL6MC, 1 TR6ML, 1 TL6ML, 1 TL18MC, 1 TL18ML, 1 TLArc, 1 LML, 1 BL18MC, 1 BLArc, 139.5ms\n",
      "Speed: 1.0ms preprocess, 139.5ms inference, 0.5ms postprocess per image at shape (1, 3, 384, 640)\n",
      "\n"
     ]
    },
    {
     "name": "stdout",
     "output_type": "stream",
     "text": [
      "(18, 5)\n"
     ]
    },
    {
     "name": "stderr",
     "output_type": "stream",
     "text": [
      "0: 384x640 18 players, 1 referee, 245.9ms\n",
      "Speed: 1.1ms preprocess, 245.9ms inference, 0.3ms postprocess per image at shape (1, 3, 384, 640)\n",
      "\n",
      "0: 384x640 1 TLC, 1 TR6MC, 1 TL6MC, 1 TR6ML, 1 TL6ML, 1 TL18MC, 1 TL18ML, 1 TLArc, 1 LML, 1 BL18MC, 1 BLArc, 140.0ms\n",
      "Speed: 1.0ms preprocess, 140.0ms inference, 0.5ms postprocess per image at shape (1, 3, 384, 640)\n",
      "\n"
     ]
    },
    {
     "name": "stdout",
     "output_type": "stream",
     "text": [
      "(18, 5)\n"
     ]
    },
    {
     "name": "stderr",
     "output_type": "stream",
     "text": [
      "0: 384x640 18 players, 1 referee, 245.0ms\n",
      "Speed: 0.9ms preprocess, 245.0ms inference, 0.4ms postprocess per image at shape (1, 3, 384, 640)\n",
      "\n",
      "0: 384x640 1 TLC, 1 TR6MC, 1 TL6MC, 1 TR6ML, 1 TL6ML, 1 TL18MC, 1 TL18ML, 1 LML, 1 BL18MC, 1 BLArc, 139.1ms\n",
      "Speed: 1.1ms preprocess, 139.1ms inference, 0.4ms postprocess per image at shape (1, 3, 384, 640)\n",
      "\n"
     ]
    },
    {
     "name": "stdout",
     "output_type": "stream",
     "text": [
      "(18, 5)\n"
     ]
    },
    {
     "name": "stderr",
     "output_type": "stream",
     "text": [
      "0: 384x640 18 players, 1 referee, 247.6ms\n",
      "Speed: 0.9ms preprocess, 247.6ms inference, 0.3ms postprocess per image at shape (1, 3, 384, 640)\n",
      "\n",
      "0: 384x640 1 TLC, 1 TL6MC, 1 TR6ML, 1 TL6ML, 1 TL18MC, 1 TL18ML, 1 TLArc, 1 LML, 1 BL18MC, 1 BLArc, 141.5ms\n",
      "Speed: 1.4ms preprocess, 141.5ms inference, 0.4ms postprocess per image at shape (1, 3, 384, 640)\n",
      "\n"
     ]
    },
    {
     "name": "stdout",
     "output_type": "stream",
     "text": [
      "(18, 5)\n"
     ]
    },
    {
     "name": "stderr",
     "output_type": "stream",
     "text": [
      "0: 384x640 18 players, 1 referee, 246.5ms\n",
      "Speed: 1.2ms preprocess, 246.5ms inference, 0.3ms postprocess per image at shape (1, 3, 384, 640)\n",
      "\n",
      "0: 384x640 1 TLC, 1 TL6MC, 1 TL6ML, 1 TL18MC, 1 TL18ML, 1 TLArc, 1 LML, 1 BL18MC, 1 BLArc, 139.1ms\n",
      "Speed: 1.0ms preprocess, 139.1ms inference, 0.6ms postprocess per image at shape (1, 3, 384, 640)\n",
      "\n"
     ]
    },
    {
     "name": "stdout",
     "output_type": "stream",
     "text": [
      "(18, 5)\n"
     ]
    },
    {
     "name": "stderr",
     "output_type": "stream",
     "text": [
      "0: 384x640 18 players, 1 referee, 245.7ms\n",
      "Speed: 0.9ms preprocess, 245.7ms inference, 0.3ms postprocess per image at shape (1, 3, 384, 640)\n",
      "\n",
      "0: 384x640 1 TLC, 1 TL6MC, 1 TL6ML, 1 TL18MC, 1 TL18ML, 1 TLArc, 1 LML, 1 BL18MC, 1 BLArc, 136.7ms\n",
      "Speed: 1.5ms preprocess, 136.7ms inference, 0.4ms postprocess per image at shape (1, 3, 384, 640)\n",
      "\n"
     ]
    },
    {
     "name": "stdout",
     "output_type": "stream",
     "text": [
      "(18, 5)\n"
     ]
    },
    {
     "name": "stderr",
     "output_type": "stream",
     "text": [
      "0: 384x640 18 players, 1 referee, 247.2ms\n",
      "Speed: 1.1ms preprocess, 247.2ms inference, 0.4ms postprocess per image at shape (1, 3, 384, 640)\n",
      "\n",
      "0: 384x640 1 TLC, 1 TL6MC, 1 TL6ML, 1 TL18MC, 1 TL18ML, 1 TLArc, 1 LML, 1 BL18MC, 1 BLArc, 141.1ms\n",
      "Speed: 1.1ms preprocess, 141.1ms inference, 0.4ms postprocess per image at shape (1, 3, 384, 640)\n",
      "\n"
     ]
    },
    {
     "name": "stdout",
     "output_type": "stream",
     "text": [
      "(18, 5)\n"
     ]
    },
    {
     "name": "stderr",
     "output_type": "stream",
     "text": [
      "0: 384x640 18 players, 1 referee, 246.8ms\n",
      "Speed: 1.1ms preprocess, 246.8ms inference, 0.3ms postprocess per image at shape (1, 3, 384, 640)\n",
      "\n",
      "0: 384x640 1 TLC, 1 TL6MC, 1 TL6ML, 1 TL18MC, 1 TL18ML, 1 TLArc, 1 BL18MC, 1 BLArc, 142.5ms\n",
      "Speed: 1.0ms preprocess, 142.5ms inference, 0.4ms postprocess per image at shape (1, 3, 384, 640)\n",
      "\n"
     ]
    },
    {
     "name": "stdout",
     "output_type": "stream",
     "text": [
      "(18, 5)\n"
     ]
    },
    {
     "name": "stderr",
     "output_type": "stream",
     "text": [
      "0: 384x640 18 players, 1 referee, 248.2ms\n",
      "Speed: 1.0ms preprocess, 248.2ms inference, 0.4ms postprocess per image at shape (1, 3, 384, 640)\n",
      "\n",
      "0: 384x640 1 TLC, 1 TL6MC, 1 TL6ML, 1 TL18MC, 1 TL18ML, 1 TLArc, 1 LML, 1 BL18MC, 1 BLArc, 141.5ms\n",
      "Speed: 1.2ms preprocess, 141.5ms inference, 0.4ms postprocess per image at shape (1, 3, 384, 640)\n",
      "\n"
     ]
    },
    {
     "name": "stdout",
     "output_type": "stream",
     "text": [
      "(18, 5)\n"
     ]
    },
    {
     "name": "stderr",
     "output_type": "stream",
     "text": [
      "0: 384x640 18 players, 1 referee, 244.8ms\n",
      "Speed: 1.1ms preprocess, 244.8ms inference, 0.3ms postprocess per image at shape (1, 3, 384, 640)\n",
      "\n",
      "0: 384x640 1 TLC, 1 TL6MC, 1 TL6ML, 1 TL18MC, 1 TL18ML, 1 TLArc, 1 BL18MC, 1 BLArc, 138.5ms\n",
      "Speed: 1.0ms preprocess, 138.5ms inference, 0.4ms postprocess per image at shape (1, 3, 384, 640)\n",
      "\n"
     ]
    },
    {
     "name": "stdout",
     "output_type": "stream",
     "text": [
      "(18, 5)\n"
     ]
    },
    {
     "name": "stderr",
     "output_type": "stream",
     "text": [
      "0: 384x640 18 players, 1 referee, 247.1ms\n",
      "Speed: 1.0ms preprocess, 247.1ms inference, 0.4ms postprocess per image at shape (1, 3, 384, 640)\n",
      "\n",
      "0: 384x640 1 TLC, 1 TL6MC, 1 TL6ML, 1 TL18MC, 1 TL18ML, 1 TLArc, 1 BL18MC, 1 BLArc, 141.1ms\n",
      "Speed: 1.2ms preprocess, 141.1ms inference, 0.4ms postprocess per image at shape (1, 3, 384, 640)\n",
      "\n"
     ]
    },
    {
     "name": "stdout",
     "output_type": "stream",
     "text": [
      "(18, 5)\n"
     ]
    },
    {
     "name": "stderr",
     "output_type": "stream",
     "text": [
      "0: 384x640 18 players, 1 referee, 247.8ms\n",
      "Speed: 1.0ms preprocess, 247.8ms inference, 0.3ms postprocess per image at shape (1, 3, 384, 640)\n",
      "\n",
      "0: 384x640 1 TLC, 1 TL6MC, 1 TL6ML, 1 TL18MC, 1 TL18ML, 1 TLArc, 1 BL18MC, 1 BLArc, 139.4ms\n",
      "Speed: 1.1ms preprocess, 139.4ms inference, 0.4ms postprocess per image at shape (1, 3, 384, 640)\n",
      "\n"
     ]
    },
    {
     "name": "stdout",
     "output_type": "stream",
     "text": [
      "(18, 5)\n"
     ]
    },
    {
     "name": "stderr",
     "output_type": "stream",
     "text": [
      "0: 384x640 18 players, 1 referee, 246.2ms\n",
      "Speed: 0.9ms preprocess, 246.2ms inference, 0.3ms postprocess per image at shape (1, 3, 384, 640)\n",
      "\n",
      "0: 384x640 1 TLC, 1 TL6MC, 1 TL6ML, 1 TL18MC, 1 TL18ML, 1 TLArc, 1 BL18MC, 1 BLArc, 142.9ms\n",
      "Speed: 1.0ms preprocess, 142.9ms inference, 0.5ms postprocess per image at shape (1, 3, 384, 640)\n",
      "\n"
     ]
    },
    {
     "name": "stdout",
     "output_type": "stream",
     "text": [
      "(18, 5)\n"
     ]
    },
    {
     "name": "stderr",
     "output_type": "stream",
     "text": [
      "0: 384x640 18 players, 1 referee, 235.1ms\n",
      "Speed: 1.1ms preprocess, 235.1ms inference, 0.4ms postprocess per image at shape (1, 3, 384, 640)\n",
      "\n",
      "0: 384x640 1 TLC, 1 TL6MC, 1 TL6ML, 1 TL18MC, 1 TL18ML, 1 TLArc, 1 BL18MC, 1 BLArc, 141.3ms\n",
      "Speed: 1.3ms preprocess, 141.3ms inference, 0.4ms postprocess per image at shape (1, 3, 384, 640)\n",
      "\n"
     ]
    },
    {
     "name": "stdout",
     "output_type": "stream",
     "text": [
      "(18, 5)\n"
     ]
    },
    {
     "name": "stderr",
     "output_type": "stream",
     "text": [
      "0: 384x640 18 players, 1 referee, 244.1ms\n",
      "Speed: 1.1ms preprocess, 244.1ms inference, 0.7ms postprocess per image at shape (1, 3, 384, 640)\n",
      "\n",
      "0: 384x640 1 TLC, 1 TL6MC, 1 TL6ML, 1 TL18MC, 1 TL18ML, 1 TLArc, 1 BL18MC, 1 BLArc, 138.1ms\n",
      "Speed: 1.1ms preprocess, 138.1ms inference, 0.4ms postprocess per image at shape (1, 3, 384, 640)\n",
      "\n"
     ]
    },
    {
     "name": "stdout",
     "output_type": "stream",
     "text": [
      "(18, 5)\n"
     ]
    },
    {
     "name": "stderr",
     "output_type": "stream",
     "text": [
      "0: 384x640 18 players, 1 referee, 248.0ms\n",
      "Speed: 1.0ms preprocess, 248.0ms inference, 0.4ms postprocess per image at shape (1, 3, 384, 640)\n",
      "\n",
      "0: 384x640 1 TLC, 1 TL6MC, 1 TL6ML, 1 TL18MC, 1 TL18ML, 1 TLArc, 1 BL6MC, 1 BL18MC, 1 BLArc, 143.5ms\n",
      "Speed: 1.1ms preprocess, 143.5ms inference, 0.4ms postprocess per image at shape (1, 3, 384, 640)\n",
      "\n"
     ]
    },
    {
     "name": "stdout",
     "output_type": "stream",
     "text": [
      "(18, 5)\n"
     ]
    },
    {
     "name": "stderr",
     "output_type": "stream",
     "text": [
      "0: 384x640 18 players, 1 referee, 247.3ms\n",
      "Speed: 1.0ms preprocess, 247.3ms inference, 0.3ms postprocess per image at shape (1, 3, 384, 640)\n",
      "\n",
      "0: 384x640 1 TLC, 1 TL6MC, 1 TL6ML, 1 TL18MC, 1 TL18ML, 1 TLArc, 1 LML, 1 BL6MC, 1 BL18MC, 1 BLArc, 140.9ms\n",
      "Speed: 1.0ms preprocess, 140.9ms inference, 0.4ms postprocess per image at shape (1, 3, 384, 640)\n",
      "\n"
     ]
    },
    {
     "name": "stdout",
     "output_type": "stream",
     "text": [
      "(18, 5)\n"
     ]
    },
    {
     "name": "stderr",
     "output_type": "stream",
     "text": [
      "0: 384x640 18 players, 1 referee, 247.5ms\n",
      "Speed: 0.9ms preprocess, 247.5ms inference, 0.3ms postprocess per image at shape (1, 3, 384, 640)\n",
      "\n",
      "0: 384x640 1 TLC, 1 TL6MC, 1 TL6ML, 1 TL18MC, 1 TL18ML, 1 TLArc, 1 LML, 1 BL18MC, 1 BLArc, 144.5ms\n",
      "Speed: 1.1ms preprocess, 144.5ms inference, 0.4ms postprocess per image at shape (1, 3, 384, 640)\n",
      "\n"
     ]
    },
    {
     "name": "stdout",
     "output_type": "stream",
     "text": [
      "(18, 5)\n",
      "19 19\n"
     ]
    },
    {
     "name": "stderr",
     "output_type": "stream",
     "text": [
      "0: 384x640 18 players, 1 referee, 243.9ms\n",
      "Speed: 1.0ms preprocess, 243.9ms inference, 0.4ms postprocess per image at shape (1, 3, 384, 640)\n",
      "\n",
      "0: 384x640 1 TLC, 1 TL6MC, 1 TL6ML, 1 TL18MC, 1 TL18ML, 1 TLArc, 1 LML, 1 BL18MC, 1 BLArc, 138.2ms\n",
      "Speed: 1.1ms preprocess, 138.2ms inference, 0.4ms postprocess per image at shape (1, 3, 384, 640)\n",
      "\n"
     ]
    },
    {
     "name": "stdout",
     "output_type": "stream",
     "text": [
      "(18, 5)\n"
     ]
    },
    {
     "name": "stderr",
     "output_type": "stream",
     "text": [
      "0: 384x640 17 players, 1 referee, 241.9ms\n",
      "Speed: 1.2ms preprocess, 241.9ms inference, 0.3ms postprocess per image at shape (1, 3, 384, 640)\n",
      "\n",
      "0: 384x640 1 TLC, 1 TL6MC, 1 TL6ML, 1 TL18MC, 1 TL18ML, 1 TLArc, 1 LML, 1 BL18MC, 1 BLArc, 137.1ms\n",
      "Speed: 1.1ms preprocess, 137.1ms inference, 0.4ms postprocess per image at shape (1, 3, 384, 640)\n",
      "\n"
     ]
    },
    {
     "name": "stdout",
     "output_type": "stream",
     "text": [
      "(17, 5)\n"
     ]
    },
    {
     "name": "stderr",
     "output_type": "stream",
     "text": [
      "0: 384x640 18 players, 1 referee, 245.5ms\n",
      "Speed: 0.9ms preprocess, 245.5ms inference, 0.4ms postprocess per image at shape (1, 3, 384, 640)\n",
      "\n",
      "0: 384x640 1 TLC, 1 TL6MC, 1 TL6ML, 1 TL18MC, 1 TL18ML, 1 TLArc, 1 LML, 1 BL18MC, 1 BLArc, 138.7ms\n",
      "Speed: 1.0ms preprocess, 138.7ms inference, 0.5ms postprocess per image at shape (1, 3, 384, 640)\n",
      "\n"
     ]
    },
    {
     "name": "stdout",
     "output_type": "stream",
     "text": [
      "(18, 5)\n"
     ]
    },
    {
     "name": "stderr",
     "output_type": "stream",
     "text": [
      "0: 384x640 17 players, 1 referee, 246.9ms\n",
      "Speed: 0.9ms preprocess, 246.9ms inference, 0.4ms postprocess per image at shape (1, 3, 384, 640)\n",
      "\n",
      "0: 384x640 1 TLC, 1 TL6MC, 2 TL6MLs, 1 TL18MC, 1 TL18ML, 1 TRArc, 1 TLArc, 1 LMC, 1 LML, 1 BL18MC, 1 BLArc, 138.6ms\n",
      "Speed: 1.1ms preprocess, 138.6ms inference, 0.4ms postprocess per image at shape (1, 3, 384, 640)\n",
      "\n"
     ]
    },
    {
     "name": "stdout",
     "output_type": "stream",
     "text": [
      "(17, 5)\n"
     ]
    },
    {
     "name": "stderr",
     "output_type": "stream",
     "text": [
      "0: 384x640 18 players, 1 referee, 243.4ms\n",
      "Speed: 1.2ms preprocess, 243.4ms inference, 0.3ms postprocess per image at shape (1, 3, 384, 640)\n",
      "\n",
      "0: 384x640 1 TLC, 1 TL6MC, 1 TL6ML, 1 TL18MC, 1 TL18ML, 1 TLArc, 1 LMC, 1 LML, 1 BL18MC, 1 BLArc, 139.9ms\n",
      "Speed: 0.9ms preprocess, 139.9ms inference, 0.4ms postprocess per image at shape (1, 3, 384, 640)\n",
      "\n"
     ]
    },
    {
     "name": "stdout",
     "output_type": "stream",
     "text": [
      "(18, 5)\n"
     ]
    },
    {
     "name": "stderr",
     "output_type": "stream",
     "text": [
      "0: 384x640 18 players, 1 referee, 245.3ms\n",
      "Speed: 1.0ms preprocess, 245.3ms inference, 0.3ms postprocess per image at shape (1, 3, 384, 640)\n",
      "\n",
      "0: 384x640 1 TLC, 1 TL6MC, 1 TL6ML, 1 TL18MC, 1 TL18ML, 1 TLArc, 1 LMC, 1 LML, 1 BL18MC, 1 BLArc, 141.1ms\n",
      "Speed: 1.3ms preprocess, 141.1ms inference, 0.4ms postprocess per image at shape (1, 3, 384, 640)\n",
      "\n"
     ]
    },
    {
     "name": "stdout",
     "output_type": "stream",
     "text": [
      "(18, 5)\n"
     ]
    },
    {
     "name": "stderr",
     "output_type": "stream",
     "text": [
      "0: 384x640 18 players, 1 referee, 243.2ms\n",
      "Speed: 1.2ms preprocess, 243.2ms inference, 0.3ms postprocess per image at shape (1, 3, 384, 640)\n",
      "\n",
      "0: 384x640 1 TLC, 1 TL6MC, 1 TL6ML, 1 TL18MC, 1 TL18ML, 1 TLArc, 1 LMC, 1 LML, 1 BL18MC, 1 BLArc, 139.5ms\n",
      "Speed: 1.2ms preprocess, 139.5ms inference, 0.4ms postprocess per image at shape (1, 3, 384, 640)\n",
      "\n"
     ]
    },
    {
     "name": "stdout",
     "output_type": "stream",
     "text": [
      "(18, 5)\n"
     ]
    },
    {
     "name": "stderr",
     "output_type": "stream",
     "text": [
      "0: 384x640 18 players, 1 referee, 246.4ms\n",
      "Speed: 1.1ms preprocess, 246.4ms inference, 0.5ms postprocess per image at shape (1, 3, 384, 640)\n",
      "\n",
      "0: 384x640 1 TLC, 1 TL6MC, 1 TL6ML, 1 TL18MC, 1 TL18ML, 1 TLArc, 1 LMC, 1 LML, 1 BL18MC, 1 BLArc, 141.7ms\n",
      "Speed: 1.0ms preprocess, 141.7ms inference, 0.4ms postprocess per image at shape (1, 3, 384, 640)\n",
      "\n"
     ]
    },
    {
     "name": "stdout",
     "output_type": "stream",
     "text": [
      "(18, 5)\n"
     ]
    },
    {
     "name": "stderr",
     "output_type": "stream",
     "text": [
      "0: 384x640 18 players, 1 referee, 243.4ms\n",
      "Speed: 1.1ms preprocess, 243.4ms inference, 0.7ms postprocess per image at shape (1, 3, 384, 640)\n",
      "\n",
      "0: 384x640 1 TLC, 1 TL6MC, 1 TL6ML, 1 TL18MC, 1 TL18ML, 1 TLArc, 1 LMC, 1 LML, 1 BL6MC, 1 BL18MC, 1 BLArc, 142.4ms\n",
      "Speed: 1.0ms preprocess, 142.4ms inference, 0.5ms postprocess per image at shape (1, 3, 384, 640)\n",
      "\n"
     ]
    },
    {
     "name": "stdout",
     "output_type": "stream",
     "text": [
      "(18, 5)\n"
     ]
    },
    {
     "name": "stderr",
     "output_type": "stream",
     "text": [
      "0: 384x640 18 players, 1 referee, 245.5ms\n",
      "Speed: 1.1ms preprocess, 245.5ms inference, 0.4ms postprocess per image at shape (1, 3, 384, 640)\n",
      "\n",
      "0: 384x640 1 TLC, 1 TL6MC, 1 TL6ML, 1 TL18MC, 1 TL18ML, 1 TLArc, 1 LMC, 1 BL18MC, 1 BLArc, 138.6ms\n",
      "Speed: 1.2ms preprocess, 138.6ms inference, 0.4ms postprocess per image at shape (1, 3, 384, 640)\n",
      "\n"
     ]
    },
    {
     "name": "stdout",
     "output_type": "stream",
     "text": [
      "(18, 5)\n"
     ]
    },
    {
     "name": "stderr",
     "output_type": "stream",
     "text": [
      "0: 384x640 18 players, 1 referee, 239.3ms\n",
      "Speed: 1.2ms preprocess, 239.3ms inference, 0.5ms postprocess per image at shape (1, 3, 384, 640)\n",
      "\n",
      "0: 384x640 1 TLC, 1 TL6MC, 1 TL6ML, 1 TL18MC, 1 TL18ML, 1 TLArc, 1 LMC, 1 BL6MC, 1 BL18MC, 1 BLArc, 140.3ms\n",
      "Speed: 1.1ms preprocess, 140.3ms inference, 0.4ms postprocess per image at shape (1, 3, 384, 640)\n",
      "\n"
     ]
    },
    {
     "name": "stdout",
     "output_type": "stream",
     "text": [
      "(18, 5)\n"
     ]
    },
    {
     "name": "stderr",
     "output_type": "stream",
     "text": [
      "0: 384x640 18 players, 1 referee, 245.8ms\n",
      "Speed: 1.0ms preprocess, 245.8ms inference, 0.5ms postprocess per image at shape (1, 3, 384, 640)\n",
      "\n",
      "0: 384x640 1 TLC, 1 TL6MC, 1 TL6ML, 1 TL18MC, 1 TL18ML, 1 TLArc, 1 LMC, 1 BL6MC, 1 BL18MC, 1 BLArc, 144.3ms\n",
      "Speed: 1.1ms preprocess, 144.3ms inference, 0.4ms postprocess per image at shape (1, 3, 384, 640)\n",
      "\n"
     ]
    },
    {
     "name": "stdout",
     "output_type": "stream",
     "text": [
      "(18, 5)\n"
     ]
    },
    {
     "name": "stderr",
     "output_type": "stream",
     "text": [
      "0: 384x640 18 players, 1 referee, 245.3ms\n",
      "Speed: 1.0ms preprocess, 245.3ms inference, 0.3ms postprocess per image at shape (1, 3, 384, 640)\n",
      "\n",
      "0: 384x640 1 TLC, 1 TL6MC, 1 TL6ML, 1 TL18MC, 1 TL18ML, 1 TLArc, 1 LMC, 1 BL6MC, 1 BL18MC, 1 BLArc, 141.8ms\n",
      "Speed: 0.9ms preprocess, 141.8ms inference, 0.6ms postprocess per image at shape (1, 3, 384, 640)\n",
      "\n"
     ]
    },
    {
     "name": "stdout",
     "output_type": "stream",
     "text": [
      "(18, 5)\n"
     ]
    },
    {
     "name": "stderr",
     "output_type": "stream",
     "text": [
      "0: 384x640 18 players, 1 referee, 242.9ms\n",
      "Speed: 1.1ms preprocess, 242.9ms inference, 0.3ms postprocess per image at shape (1, 3, 384, 640)\n",
      "\n",
      "0: 384x640 1 TLC, 1 TL6MC, 1 TL6ML, 1 TL18MC, 1 TL18ML, 1 TLArc, 1 LMC, 1 BL6MC, 1 BL18MC, 1 BLArc, 142.0ms\n",
      "Speed: 0.9ms preprocess, 142.0ms inference, 0.4ms postprocess per image at shape (1, 3, 384, 640)\n",
      "\n"
     ]
    },
    {
     "name": "stdout",
     "output_type": "stream",
     "text": [
      "(18, 5)\n"
     ]
    },
    {
     "name": "stderr",
     "output_type": "stream",
     "text": [
      "0: 384x640 18 players, 1 referee, 240.3ms\n",
      "Speed: 1.1ms preprocess, 240.3ms inference, 0.5ms postprocess per image at shape (1, 3, 384, 640)\n",
      "\n",
      "0: 384x640 1 TLC, 1 TL6MC, 1 TL6ML, 1 TL18MC, 1 TL18ML, 1 TLArc, 1 LMC, 1 LML, 1 BL18MC, 1 BLArc, 137.9ms\n",
      "Speed: 1.0ms preprocess, 137.9ms inference, 0.4ms postprocess per image at shape (1, 3, 384, 640)\n",
      "\n"
     ]
    },
    {
     "name": "stdout",
     "output_type": "stream",
     "text": [
      "(18, 5)\n"
     ]
    },
    {
     "name": "stderr",
     "output_type": "stream",
     "text": [
      "0: 384x640 17 players, 1 referee, 1 ball, 239.6ms\n",
      "Speed: 1.1ms preprocess, 239.6ms inference, 0.4ms postprocess per image at shape (1, 3, 384, 640)\n",
      "\n",
      "0: 384x640 1 TLC, 1 TL6MC, 1 TL6ML, 1 TL18MC, 1 TL18ML, 1 TLArc, 1 LMC, 1 LML, 1 BL18MC, 1 BLArc, 137.5ms\n",
      "Speed: 0.9ms preprocess, 137.5ms inference, 0.4ms postprocess per image at shape (1, 3, 384, 640)\n",
      "\n"
     ]
    },
    {
     "name": "stdout",
     "output_type": "stream",
     "text": [
      "(17, 5)\n",
      "19 4\n"
     ]
    },
    {
     "name": "stderr",
     "output_type": "stream",
     "text": [
      "0: 384x640 18 players, 1 referee, 1 ball, 242.8ms\n",
      "Speed: 1.0ms preprocess, 242.8ms inference, 0.3ms postprocess per image at shape (1, 3, 384, 640)\n",
      "\n",
      "0: 384x640 1 TLC, 1 TL6MC, 2 TL6MLs, 1 TL18MC, 1 TL18ML, 1 TLArc, 1 LMC, 1 LML, 1 BL18MC, 1 BLArc, 138.1ms\n",
      "Speed: 1.0ms preprocess, 138.1ms inference, 0.4ms postprocess per image at shape (1, 3, 384, 640)\n",
      "\n"
     ]
    },
    {
     "name": "stdout",
     "output_type": "stream",
     "text": [
      "(18, 5)\n",
      "19 5\n"
     ]
    },
    {
     "name": "stderr",
     "output_type": "stream",
     "text": [
      "0: 384x640 18 players, 1 referee, 243.2ms\n",
      "Speed: 0.9ms preprocess, 243.2ms inference, 0.4ms postprocess per image at shape (1, 3, 384, 640)\n",
      "\n",
      "0: 384x640 1 TLC, 1 TL6MC, 1 TL6ML, 1 TL18MC, 1 TL18ML, 1 TLArc, 1 LMC, 1 LML, 1 BL18MC, 1 BLArc, 139.0ms\n",
      "Speed: 1.3ms preprocess, 139.0ms inference, 0.4ms postprocess per image at shape (1, 3, 384, 640)\n",
      "\n"
     ]
    },
    {
     "name": "stdout",
     "output_type": "stream",
     "text": [
      "(18, 5)\n"
     ]
    },
    {
     "name": "stderr",
     "output_type": "stream",
     "text": [
      "0: 384x640 18 players, 1 referee, 247.6ms\n",
      "Speed: 0.9ms preprocess, 247.6ms inference, 0.4ms postprocess per image at shape (1, 3, 384, 640)\n",
      "\n",
      "0: 384x640 1 TLC, 1 TL6MC, 1 TL6ML, 1 TL18MC, 1 TL18ML, 1 TLArc, 1 LMC, 1 LML, 1 BL18MC, 1 BLArc, 139.7ms\n",
      "Speed: 1.3ms preprocess, 139.7ms inference, 0.4ms postprocess per image at shape (1, 3, 384, 640)\n",
      "\n"
     ]
    },
    {
     "name": "stdout",
     "output_type": "stream",
     "text": [
      "(18, 5)\n"
     ]
    },
    {
     "name": "stderr",
     "output_type": "stream",
     "text": [
      "0: 384x640 18 players, 1 referee, 1 ball, 279.3ms\n",
      "Speed: 1.1ms preprocess, 279.3ms inference, 0.6ms postprocess per image at shape (1, 3, 384, 640)\n",
      "\n",
      "0: 384x640 1 TLC, 1 TL6MC, 1 TL6ML, 1 TL18MC, 1 TL18ML, 1 TLArc, 1 LMC, 1 LML, 1 BL18MC, 1 BLArc, 158.0ms\n",
      "Speed: 1.4ms preprocess, 158.0ms inference, 0.4ms postprocess per image at shape (1, 3, 384, 640)\n",
      "\n"
     ]
    },
    {
     "name": "stdout",
     "output_type": "stream",
     "text": [
      "(18, 5)\n",
      "22 17\n"
     ]
    },
    {
     "name": "stderr",
     "output_type": "stream",
     "text": [
      "0: 384x640 18 players, 1 referee, 1 ball, 242.3ms\n",
      "Speed: 1.1ms preprocess, 242.3ms inference, 0.8ms postprocess per image at shape (1, 3, 384, 640)\n",
      "\n",
      "0: 384x640 1 TLC, 1 TL6MC, 1 TL6ML, 1 TL18MC, 1 TL18ML, 1 TLArc, 1 LMC, 1 LML, 1 BL18MC, 1 BLArc, 138.4ms\n",
      "Speed: 1.1ms preprocess, 138.4ms inference, 0.4ms postprocess per image at shape (1, 3, 384, 640)\n",
      "\n"
     ]
    },
    {
     "name": "stdout",
     "output_type": "stream",
     "text": [
      "(18, 5)\n",
      "22 17\n",
      "22 22\n"
     ]
    },
    {
     "name": "stderr",
     "output_type": "stream",
     "text": [
      "0: 384x640 17 players, 1 referee, 1 ball, 253.5ms\n",
      "Speed: 1.1ms preprocess, 253.5ms inference, 0.6ms postprocess per image at shape (1, 3, 384, 640)\n",
      "\n",
      "0: 384x640 1 TLC, 1 TL6MC, 1 TL6ML, 1 TL18MC, 1 TL18ML, 1 TLArc, 1 LMC, 1 BL18MC, 1 BLArc, 155.9ms\n",
      "Speed: 1.5ms preprocess, 155.9ms inference, 0.4ms postprocess per image at shape (1, 3, 384, 640)\n",
      "\n"
     ]
    },
    {
     "name": "stdout",
     "output_type": "stream",
     "text": [
      "(17, 5)\n",
      "19 1\n"
     ]
    },
    {
     "name": "stderr",
     "output_type": "stream",
     "text": [
      "0: 384x640 17 players, 1 referee, 1 ball, 244.4ms\n",
      "Speed: 1.2ms preprocess, 244.4ms inference, 0.4ms postprocess per image at shape (1, 3, 384, 640)\n",
      "\n",
      "0: 384x640 1 TLC, 1 TL6MC, 1 TL6ML, 1 TL18MC, 1 TL18ML, 1 TLArc, 1 LMC, 1 BL18MC, 1 BLArc, 137.8ms\n",
      "Speed: 1.0ms preprocess, 137.8ms inference, 0.4ms postprocess per image at shape (1, 3, 384, 640)\n",
      "\n"
     ]
    },
    {
     "name": "stdout",
     "output_type": "stream",
     "text": [
      "(17, 5)\n",
      "19 1\n"
     ]
    },
    {
     "name": "stderr",
     "output_type": "stream",
     "text": [
      "0: 384x640 18 players, 1 referee, 1 ball, 240.7ms\n",
      "Speed: 1.1ms preprocess, 240.7ms inference, 0.3ms postprocess per image at shape (1, 3, 384, 640)\n",
      "\n",
      "0: 384x640 1 TLC, 1 TL6MC, 1 TL6ML, 1 TL18MC, 1 TL18ML, 1 TLArc, 1 LMC, 1 LML, 1 BL18MC, 1 BLArc, 137.3ms\n",
      "Speed: 1.0ms preprocess, 137.3ms inference, 0.5ms postprocess per image at shape (1, 3, 384, 640)\n",
      "\n"
     ]
    }
   ],
   "source": [
    "# Open video file\n",
    "cap = cv2.VideoCapture(video_path)\n",
    "\n",
    "#Initialize tracker\n",
    "byte_tracker = BYTETracker(BYTETrackerArgs())\n",
    "\n",
    "# Initialize frame counter\n",
    "frame_nbr = 0\n",
    "\n",
    "# Set keypoints average displacement tolerance level (in pixels) [set to -1 to always update homography matrix]\n",
    "keypoints_displacement_mean_tol = 10\n",
    "\n",
    "# Set confidence thresholds for players and field keypoints detections\n",
    "player_model_conf_thresh = 0.60\n",
    "keypoints_model_conf_thresh = 0.70\n",
    "\n",
    "# Set variable to record the time when we processed last frame \n",
    "prev_frame_time = 0\n",
    "# Set variable to record the time at which we processed current frame \n",
    "new_frame_time = 0\n",
    "\n",
    "# Store the ball track history\n",
    "ball_track_history = {'src':[],\n",
    "                      'dst':[]\n",
    "}\n",
    "\n",
    "# Count consecutive frames with no ball detected\n",
    "nbr_frames_no_ball = 0\n",
    "# Threshold for number of frames with no ball to reset ball track (frames)\n",
    "nbr_frames_no_ball_thresh = 30\n",
    "# Distance threshold for ball tracking (pixels)\n",
    "ball_track_dist_thresh = 100\n",
    "# Maximum ball track length (detections)\n",
    "max_track_length = 35\n",
    "\n",
    "\n",
    "prev_team = -1\n",
    "prev_id = -1\n",
    "prev_idx = -1\n",
    "team_with_ball = -1\n",
    "player_with_ball_id = -1\n",
    "player_with_ball_idx = -1\n",
    "last_frame = -1\n",
    "\n",
    "\n",
    "# Capture the start time\n",
    "start = time.time()\n",
    "\n",
    "# text\n",
    "text = \"\"\n",
    "#team dict\n",
    "team = {}\n",
    "# Loop through the video frames\n",
    "while cap.isOpened():\n",
    "\n",
    "    # Update frame counter\n",
    "    frame_nbr += 1\n",
    "\n",
    "    # Read a frame from the video\n",
    "    success, frame = cap.read()\n",
    "\n",
    "    # Copy image\n",
    "    tac_map_copy = tac_map.copy()\n",
    "\n",
    "    # Reset ball tracks if ball wasnt detected for many frames\n",
    "    if nbr_frames_no_ball>nbr_frames_no_ball_thresh:\n",
    "            ball_track_history['dst'] = []\n",
    "            ball_track_history['src'] = []\n",
    "\n",
    "    if success:\n",
    "        \n",
    "        #################### Part 1 ####################\n",
    "        # Object Detection & Coordiante Transofrmation #\n",
    "        ################################################\n",
    "\n",
    "        # players, ref, balls bounding box\n",
    "        results_players = model_players(frame, conf=player_model_conf_thresh)\n",
    "        # keypoints bounding boxes\n",
    "        results_keypoints = model_keypoints(frame, conf=keypoints_model_conf_thresh)\n",
    "\n",
    "        # filter classes\n",
    "        player_detections = filter_detections_by_class(detections=results_players[0], class_name=\"player\")\n",
    "        referee_detections = filter_detections_by_class(detections=results_players[0], class_name=\"referee\")\n",
    "        ball_detections = filter_detections_by_class(detections=results_players[0], class_name=\"ball\")\n",
    "        #tracked_detections = player_detections + referee_detections\n",
    "\n",
    "        # update tracks\n",
    "        tracks = byte_tracker.update(\n",
    "        output_results=detections2boxes(detections=player_detections),\n",
    "        img_info=frame.shape,\n",
    "        img_size=frame.shape\n",
    "        )\n",
    "\n",
    "        player_detections = match_detections_with_tracks(detections=player_detections, tracks=tracks)\n",
    "\n",
    "        ## Extract detections information\n",
    "        bboxes_p = results_players[0].boxes.xyxy.cpu().numpy()                          # Detected players, referees and ball (x,y,x,y) bounding boxes\n",
    "        bboxes_p_c = results_players[0].boxes.xywh.cpu().numpy()                        # Detected players, referees and ball (x,y,w,h) bounding boxes    \n",
    "        labels_p = list(results_players[0].boxes.cls.cpu().numpy())                     # Detected players, referees and ball labels list\n",
    "        confs_p = list(results_players[0].boxes.conf.cpu().numpy())                     # Detected players, referees and ball confidence level\n",
    "        \n",
    "        bboxes_k = results_keypoints[0].boxes.xyxy.cpu().numpy()                        # Detected field keypoints (x,y,w,h) bounding boxes\n",
    "        bboxes_k_c = results_keypoints[0].boxes.xywh.cpu().numpy()                      # Detected field keypoints (x,y,w,h) bounding boxes\n",
    "        labels_k = list(results_keypoints[0].boxes.cls.cpu().numpy())                   # Detected field keypoints labels list\n",
    "\n",
    "        # from 0,1.. -> TLC,TRC..\n",
    "        detected_labels = [classes_names_dic[i] for i in labels_k]\n",
    "\n",
    "        # coordinates of keypoints in field\n",
    "        detected_labels_src_pts = np.array([list(np.round(bboxes_k_c[i][:2]).astype(int)) for i in range(bboxes_k_c.shape[0])])\n",
    "\n",
    "        # coordinates of mapped keypoints\n",
    "        detected_labels_dst_pts = np.array([keypoints_map_pos[i] for i in detected_labels])\n",
    "\n",
    "\n",
    "        ## if points detected > 3 map points and players to field map\n",
    "        if len(detected_labels) > 3: \n",
    "            if frame_nbr > 1:\n",
    "                # Determine common detected field keypoints between previous and current frames\n",
    "                common_labels = set(detected_labels_prev) & set(detected_labels)\n",
    "                # When at least 4 common keypoints are detected, determine if they are displaced on average beyond a certain tolerance level\n",
    "                if len(common_labels) > 3:\n",
    "                    common_label_idx_prev = [detected_labels_prev.index(i) for i in common_labels]   # Get labels indexes of common detected keypoints from previous frame\n",
    "                    common_label_idx_curr = [detected_labels.index(i) for i in common_labels]        # Get labels indexes of common detected keypoints from current frame\n",
    "                    coor_common_label_prev = detected_labels_src_pts_prev[common_label_idx_prev]     # Get labels coordiantes of common detected keypoints from previous frame\n",
    "                    coor_common_label_curr = detected_labels_src_pts[common_label_idx_curr]          # Get labels coordiantes of common detected keypoints from current frame\n",
    "                    coor_error = mean_squared_error(coor_common_label_prev, coor_common_label_curr)  # Calculate error between previous and current common keypoints coordinates\n",
    "                    update_homography = coor_error > keypoints_displacement_mean_tol                 # Check if error surpassed the predefined tolerance level\n",
    "                else:\n",
    "                    update_homography = True                                                         \n",
    "            else:\n",
    "                update_homography = True\n",
    "\n",
    "            if  update_homography:\n",
    "                h, mask = cv2.findHomography(detected_labels_src_pts,                   # Calculate homography matrix\n",
    "                                              detected_labels_dst_pts)                  \n",
    "            \n",
    "            detected_labels_prev = detected_labels.copy()                               # Save current detected keypoint labels for next frame\n",
    "            detected_labels_src_pts_prev = detected_labels_src_pts.copy()               # Save current detected keypoint to measure error in next frame\n",
    "\n",
    "            # get boxes of players and ball to map to the field map\n",
    "            bboxes_p_c_0 = bboxes_p_c[[i==0 for i in labels_p],:]                       # Get bounding boxes information (x,y,w,h) of detected players (label 0)\n",
    "            bboxes_p_c_2 = bboxes_p_c[[i==2 for i in labels_p],:]                       # Get bounding boxes information (x,y,w,h) of detected ball(s) (label 2)\n",
    "\n",
    "            \n",
    "            # Get coordinates of detected players on frame (x_center, y_center+h/2)\n",
    "            detected_ppos_src_pts = bboxes_p_c_0[:,:2]  + np.array([[0]*bboxes_p_c_0.shape[0], bboxes_p_c_0[:,3]/2]).transpose()\n",
    "            # Get coordinates of the first detected ball (x_center, y_center)\n",
    "            detected_ball_src_pos = bboxes_p_c_2[0,:2] if bboxes_p_c_2.shape[0]>0 else None\n",
    "\n",
    "            # Transform players coordinates from frame plane to tactical map plane using the calculated Homography matrix\n",
    "            pred_dst_pts = []                                                           # Initialize players tactical map coordiantes list\n",
    "            for pt in detected_ppos_src_pts: # Loop over players frame coordiantes\n",
    "                # track players how mosh areff\n",
    "                pt = np.append(np.array(pt), np.array([1]), axis=0)                     # Covert to homogeneous coordiantes\n",
    "                dest_point = np.matmul(h, np.transpose(pt))                              # Apply homography transofrmation\n",
    "                dest_point = dest_point/dest_point[2]                                   # Revert to 2D-coordiantes\n",
    "                pred_dst_pts.append(list(np.transpose(dest_point)[:2]))                 # Update players tactical map coordiantes list\n",
    "            pred_dst_pts = np.array(pred_dst_pts)\n",
    "\n",
    "            # Transform ball coordinates from frame plane to tactical map plane using the calculated Homography matrix\n",
    "            if detected_ball_src_pos is not None:\n",
    "                pt = np.append(np.array(detected_ball_src_pos), np.array([1]), axis=0)\n",
    "                dest_point = np.matmul(h, np.transpose(pt))\n",
    "                dest_point = dest_point/dest_point[2]\n",
    "                detected_ball_dst_pos = np.transpose(dest_point)\n",
    "\n",
    "                # Update track ball position history to draw the ball \n",
    "                if len(ball_track_history['src'])>0 :\n",
    "                    if np.linalg.norm(detected_ball_src_pos-ball_track_history['src'][-1])<ball_track_dist_thresh:\n",
    "                        ball_track_history['src'].append((int(detected_ball_src_pos[0]), int(detected_ball_src_pos[1])))\n",
    "                        ball_track_history['dst'].append((int(detected_ball_dst_pos[0]), int(detected_ball_dst_pos[1])))\n",
    "                    else:\n",
    "                        ball_track_history['src']=[(int(detected_ball_src_pos[0]), int(detected_ball_src_pos[1]))]\n",
    "                        ball_track_history['dst']=[(int(detected_ball_dst_pos[0]), int(detected_ball_dst_pos[1]))]\n",
    "                else:\n",
    "                    ball_track_history['src'].append((int(detected_ball_src_pos[0]), int(detected_ball_src_pos[1])))\n",
    "                    ball_track_history['dst'].append((int(detected_ball_dst_pos[0]), int(detected_ball_dst_pos[1])))\n",
    "            # Remove oldest tracked ball postion if track exceedes threshold        \n",
    "            if len(ball_track_history) > max_track_length:\n",
    "                    ball_track_history['src'].pop(0)\n",
    "                    ball_track_history['dst'].pop(0)\n",
    "            # track ball is closest to which player and assign it to a player when it changes players trigger  \n",
    "\n",
    "        ######### Part 2 ########## \n",
    "        # Players Team Prediction #\n",
    "        ########################### \n",
    "        if ((frame_nbr-1) % 10 == 0):\n",
    "            \n",
    "            frame_rgb = cv2.cvtColor(frame, cv2.COLOR_BGR2RGB)                                      # Convert frame to RGB\n",
    "            obj_palette_list = []                                                                   # Initialize players color palette list\n",
    "            palette_interval = (0,5)                                                                # Color interval to extract from dominant colors palette (1rd to 5th color)\n",
    "            annotated_frame = frame                                                                 # Create annotated frame \n",
    "    \n",
    "            for player in player_detections:\n",
    "                team_idx = predict_team(player,frame_rgb)\n",
    "                team[player.tracker_id] = team_idx\n",
    "                player.team = list(colors_dic.keys())[team_idx//2] # \"chelsea\" or \"man city\"\n",
    "                if team_idx % 2 == 0:\n",
    "                    player.position = \"Player\"\n",
    "                else :\n",
    "                    player.position = \"Goal Keeper\"\n",
    "        else :\n",
    "            annotated_frame = frame\n",
    "            frame_rgb = cv2.cvtColor(frame, cv2.COLOR_BGR2RGB)\n",
    "            players_teams_list = []\n",
    "            for player in player_detections:\n",
    "                try :    \n",
    "                    team_idx = team[player.tracker_id]\n",
    "                except:\n",
    "                    team_idx = predict_team(player,frame_rgb)\n",
    "                player.team = list(colors_dic.keys())[team_idx//2] # \"chelsea\" or \"man city\"\n",
    "                if team_idx % 2 == 0:\n",
    "                    player.position = \"Player\"\n",
    "                else :\n",
    "                    player.position = \"Goal Keeper\"\n",
    "                players_teams_list.append(team_idx)\n",
    "                \n",
    "            \n",
    "        #################### Part 3 #####################\n",
    "        # Updated Frame & Tactical Map With Annotations #\n",
    "        #################################################\n",
    "        for player in player_detections:\n",
    "            bbox = player.boxes.xyxy.numpy()[0]\n",
    "            annotated_frame = cv2.rectangle(annotated_frame, (int(bbox[0]), int(bbox[1])),  \n",
    "                                        (int(bbox[2]), int(bbox[3])), (0,0,0), 1)\n",
    "            if player.team == list(colors_dic.keys())[0]:\n",
    "                color = (0,0,0)\n",
    "            else :\n",
    "                color = (255,255,255)\n",
    "            cv2.putText(annotated_frame,f\" {player.tracker_id}\",(int(bbox[0]), int(bbox[1])-10),cv2.FONT_HERSHEY_SIMPLEX, 0.5, color, 2)\n",
    "\n",
    "        ball_color_bgr = (0,0,255)                                                                          # Color (GBR) for ball annotation on tactical map\n",
    "        j=0                                                                                                 # Initializing counter of detected players\n",
    "        palette_box_size = 10                                                                               # Set color box size in pixels (for display)\n",
    "        \n",
    "\n",
    "        # Loop over all detected object by players detection model\n",
    "        for i in range(bboxes_p.shape[0]):\n",
    "            conf = confs_p[i]                                                                               # Get confidence of current detected object\n",
    "            if labels_p[i]==0:                                                                              # Display annotation for detected players (label 0)\n",
    "\n",
    "                \n",
    "                color_rgb = colors_dic[\"Chelsea\"][0]                                                        # Get detected player team color\n",
    "                color_bgr = color_rgb[::-1]\n",
    "                # Add tactical map player postion color coded annotation if more than 3 field keypoints are detected\n",
    "                if len(detected_labels_src_pts)>3:\n",
    "                    tac_map_copy = cv2.circle(tac_map_copy, (int(pred_dst_pts[j][0]),int(pred_dst_pts[j][1])),\n",
    "                                          radius=5, color=color_bgr, thickness=-1)\n",
    "\n",
    "                j+=1                        # Update players counter\n",
    "            else:                                                                                           # Display annotation for otehr detections (label 1, 2)\n",
    "                annotated_frame = cv2.rectangle(annotated_frame, (int(bboxes_p[i,0]), int(bboxes_p[i,1])), \n",
    "                                               (int(bboxes_p[i,2]), int(bboxes_p[i,3])), (255,255,255), 1)\n",
    "                cv2.putText(annotated_frame, labels_dic[labels_p[i]] + f\" {conf:.2f}\",(int(bboxes_p[i,0]), int(bboxes_p[i,1])-10),cv2.FONT_HERSHEY_SIMPLEX, 0.5, (255,255,255), 2)\n",
    "\n",
    "                # Add tactical map ball postion annotation if detected\n",
    "                if detected_ball_src_pos is not None:\n",
    "                    tac_map_copy = cv2.circle(tac_map_copy, (int(detected_ball_dst_pos[0]), \n",
    "                                                   int(detected_ball_dst_pos[1])), radius=5, \n",
    "                                                   color=ball_color_bgr, thickness=3)\n",
    "        for i in range(bboxes_k.shape[0]):\n",
    "            annotated_frame = cv2.rectangle(annotated_frame, (int(bboxes_k[i,0]), int(bboxes_k[i,1])),  \n",
    "                                        (int(bboxes_k[i,2]), int(bboxes_k[i,3])), (0,0,0), 1)\n",
    "        \n",
    "        # Plot the ball tracks on tactical map\n",
    "        if len(ball_track_history['src'])>0:\n",
    "            points = np.hstack(ball_track_history['dst']).astype(np.int32).reshape((-1, 1, 2))\n",
    "            tac_map_copy = cv2.polylines(tac_map_copy, [points], isClosed=False, color=(0, 0, 100), thickness=2)\n",
    "        \n",
    "        # prev_team = undefined\n",
    "        # prev_id = undefined\n",
    "        # prev_idx = undefined\n",
    "        # team_with_ball = undefined\n",
    "        # player_with_ball_id = changed\n",
    "        # player_with_ball_idx = changed \n",
    "\n",
    "\n",
    "        if len(ball_detections) == 1 :\n",
    "            player_with_ball_id,player_with_ball_idx = get_player_in_possession(player_detections,ball_detections)\n",
    "            team_with_ball = player_detections[player_with_ball_idx].team\n",
    "\n",
    "        if abs(frame_nbr - last_frame) > 20:\n",
    "            last_frame = frame_nbr\n",
    "            current_position = player_detections[player_with_ball_idx].position\n",
    "            \n",
    "            # Player possession change detected\n",
    "            if prev_id != player_with_ball_id:\n",
    "                if prev_id == -1:\n",
    "                    text += f\"the ball is now with player {player_with_ball_id} of {team_with_ball}\"\n",
    "                \n",
    "                else:\n",
    "                    if prev_team != team_with_ball:\n",
    "                        text += f\"the ball was intercepted from {prev_team} to player {player_with_ball_id} of {team_with_ball}\"\n",
    "                    else:\n",
    "                        if prev_position == \"Goal Keeper\":\n",
    "                            text += f\"the ball was passed from the Goal Keeper of {team_with_ball} to player {player_with_ball_id}\"\n",
    "                        elif current_position == \"Goal Keeper\":\n",
    "                            text += f\"the ball was passed from player {prev_id} to the Goal Keeper of {team_with_ball}\"\n",
    "                        else:\n",
    "                            text += f\"the ball was passed from player {prev_id} to player {player_with_ball_id} of {team_with_ball}\"\n",
    "            \n",
    "            else:\n",
    "                text += f\"the ball is still with player number {player_with_ball_id}\"\n",
    "                \n",
    "            # Update previous state\n",
    "            prev_id, prev_team, prev_position = player_with_ball_id, team_with_ball, current_position\n",
    "            print(prev_id,player_with_ball_id)\n",
    "\n",
    "\n",
    "\n",
    "\n",
    "        \n",
    "        # Combine annotated frame and tactical map in one image with colored border separation\n",
    "        border_color = [255,255,255]                                                                        # Set border color (BGR)\n",
    "        annotated_frame=cv2.copyMakeBorder(annotated_frame, 40, 10, 10, 10,                                 # Add borders to annotated frame\n",
    "                                            cv2.BORDER_CONSTANT, value=border_color)\n",
    "        tac_map_copy = cv2.copyMakeBorder(tac_map_copy, 70, 50, 10, 10, cv2.BORDER_CONSTANT,                # Add borders to tactical map \n",
    "                                           value=border_color)      \n",
    "        tac_map_copy = cv2.resize(tac_map_copy, (tac_map_copy.shape[1], annotated_frame.shape[0]))          # Resize tactical map\n",
    "        final_img = cv2.hconcat((annotated_frame, tac_map_copy))                                            # Concatenate both images\n",
    "        ## Add info annotation\n",
    "        cv2.putText(final_img, \"Tactical Map\", (1370,60), cv2.FONT_HERSHEY_SIMPLEX, 0.9, (0,0,0), 2)\n",
    "        cv2.putText(final_img, \"Press 'p' to pause & 'q' to quit\", (820,30), cv2.FONT_HERSHEY_SIMPLEX, 0.9, (0,0,0), 2)\n",
    "\n",
    "        new_frame_time = time.time()                                                                        # Get time after finished processing current frame\n",
    "        fps = 1/(new_frame_time-prev_frame_time)                                                            # Calculate FPS as 1/(frame proceesing duration)\n",
    "        prev_frame_time = new_frame_time                                                                    # Save current time to be used in next frame\n",
    "        cv2.putText(final_img, \"FPS: \" + str(int(fps)), (20,30), cv2.FONT_HERSHEY_SIMPLEX, 0.9, (0,0,0), 2)\n",
    "        \n",
    "        # Display the final annotated frame\n",
    "        cv2.imshow(\"YOLOv8 Players and Field Keypoints Detection with Team Prediction and Tactical Map\",    \n",
    "                    final_img)\n",
    "\n",
    "        # Treat keyboard user inputs (\"p\" for pause/unpause & \"q\" for quit)\n",
    "        key = cv2.waitKey(1)\n",
    "        # Break the loop if 'q' is pressed\n",
    "        if key == ord(\"q\"):\n",
    "            break\n",
    "        if key == ord('p'):\n",
    "            cv2.waitKey(-1) #wait until any key is pressed\n",
    "    else:\n",
    "        # Break the loop if the end of the video is reached\n",
    "        break\n",
    "\n",
    "# Release the video capture object and close the display window\n",
    "cap.release()\n",
    "cv2.destroyAllWindows()\n"
   ]
  },
  {
   "cell_type": "code",
   "execution_count": 12,
   "metadata": {},
   "outputs": [
    {
     "data": {
      "text/plain": [
       "'the ball is now with player 3 of Chelseathe ball was passed from player 3 to player 19 of Chelseathe ball is still with player number 19the ball is still with player number 19the ball is still with player number 19the ball is still with player number 19the ball is still with player number 19the ball is still with player number 19the ball is still with player number 19the ball is still with player number 19the ball is still with player number 19the ball is still with player number 19the ball is still with player number 19the ball is still with player number 19the ball is still with player number 19the ball is still with player number 19the ball is still with player number 19the ball is still with player number 19the ball is still with player number 19the ball is still with player number 19the ball is still with player number 19the ball is still with player number 19the ball is still with player number 19the ball is still with player number 19'"
      ]
     },
     "execution_count": 12,
     "metadata": {},
     "output_type": "execute_result"
    }
   ],
   "source": [
    "text\n",
    "# awel ma id beye5tefy save object fe list we ba3deein awel ma tela2y id tany gayy shofo a2rab le anhy wa7ed min el da3o we assign el id da leeh\n",
    "# keep track of the score and make it change manually"
   ]
  },
  {
   "cell_type": "code",
   "execution_count": 1,
   "metadata": {},
   "outputs": [
    {
     "ename": "NameError",
     "evalue": "name 'cv2' is not defined",
     "output_type": "error",
     "traceback": [
      "\u001b[0;31m---------------------------------------------------------------------------\u001b[0m",
      "\u001b[0;31mNameError\u001b[0m                                 Traceback (most recent call last)",
      "Cell \u001b[0;32mIn[1], line 2\u001b[0m\n\u001b[1;32m      1\u001b[0m \u001b[38;5;66;03m# Open video file\u001b[39;00m\n\u001b[0;32m----> 2\u001b[0m cap \u001b[38;5;241m=\u001b[39m \u001b[43mcv2\u001b[49m\u001b[38;5;241m.\u001b[39mVideoCapture(video_path)\n\u001b[1;32m      4\u001b[0m \u001b[38;5;66;03m#Initialize tracker\u001b[39;00m\n\u001b[1;32m      5\u001b[0m byte_tracker \u001b[38;5;241m=\u001b[39m BYTETracker(BYTETrackerArgs())\n",
      "\u001b[0;31mNameError\u001b[0m: name 'cv2' is not defined"
     ]
    }
   ],
   "source": [
    "# Open video file\n",
    "cap = cv2.VideoCapture(video_path)\n",
    "\n",
    "#Initialize tracker\n",
    "byte_tracker = BYTETracker(BYTETrackerArgs())\n",
    "\n",
    "# Initialize frame counter\n",
    "frame_nbr = 0\n",
    "\n",
    "# Set keypoints average displacement tolerance level (in pixels) [set to -1 to always update homography matrix]\n",
    "keypoints_displacement_mean_tol = 10\n",
    "\n",
    "# Set confidence thresholds for players and field keypoints detections\n",
    "player_model_conf_thresh = 0.60\n",
    "keypoints_model_conf_thresh = 0.70\n",
    "\n",
    "# Set variable to record the time when we processed last frame \n",
    "prev_frame_time = 0\n",
    "# Set variable to record the time at which we processed current frame \n",
    "new_frame_time = 0\n",
    "\n",
    "# Store the ball track history\n",
    "ball_track_history = {'src':[],\n",
    "                      'dst':[]\n",
    "}\n",
    "\n",
    "# Count consecutive frames with no ball detected\n",
    "nbr_frames_no_ball = 0\n",
    "# Threshold for number of frames with no ball to reset ball track (frames)\n",
    "nbr_frames_no_ball_thresh = 30\n",
    "# Distance threshold for ball tracking (pixels)\n",
    "ball_track_dist_thresh = 100\n",
    "# Maximum ball track length (detections)\n",
    "max_track_length = 35\n",
    "\n",
    "\n",
    "prev_team = -1\n",
    "prev_id = -1\n",
    "prev_idx = -1\n",
    "team_with_ball = -1\n",
    "player_with_ball_id = -1\n",
    "player_with_ball_idx = -1\n",
    "last_frame = -1\n",
    "\n",
    "\n",
    "# Capture the start time\n",
    "start = time.time()\n",
    "\n",
    "# text\n",
    "text = \"\"\n",
    "#team dict\n",
    "team = {}\n",
    "# Loop through the video frames\n",
    "while cap.isOpened():\n",
    "\n",
    "    # Update frame counter\n",
    "    frame_nbr += 1\n",
    "\n",
    "    # Read a frame from the video\n",
    "    success, frame = cap.read()\n",
    "\n",
    "    # Copy image\n",
    "    tac_map_copy = tac_map.copy()\n",
    "\n",
    "    # Reset ball tracks if ball wasnt detected for many frames\n",
    "    if nbr_frames_no_ball>nbr_frames_no_ball_thresh:\n",
    "            ball_track_history['dst'] = []\n",
    "            ball_track_history['src'] = []\n",
    "\n",
    "    if success:\n",
    "        \n",
    "        #################### Part 1 ####################\n",
    "        # Object Detection & Coordiante Transofrmation #\n",
    "        ################################################\n",
    "\n",
    "        # players, ref, balls bounding box\n",
    "        results_players = model_players(frame, conf=player_model_conf_thresh)\n",
    "        # keypoints bounding boxes\n",
    "        results_keypoints = model_keypoints(frame, conf=keypoints_model_conf_thresh)\n",
    "\n",
    "        # filter classes\n",
    "        player_detections = filter_detections_by_class(detections=results_players[0], class_name=\"player\")\n",
    "        referee_detections = filter_detections_by_class(detections=results_players[0], class_name=\"referee\")\n",
    "        ball_detections = filter_detections_by_class(detections=results_players[0], class_name=\"ball\")\n",
    "        #tracked_detections = player_detections + referee_detections\n",
    "\n",
    "        # update tracks\n",
    "        tracks = byte_tracker.update(\n",
    "        output_results=detections2boxes(detections=player_detections),\n",
    "        img_info=frame.shape,\n",
    "        img_size=frame.shape\n",
    "        )\n",
    "\n",
    "        player_detections = match_detections_with_tracks(detections=player_detections, tracks=tracks)\n",
    "\n",
    "        ## Extract detections information\n",
    "        bboxes_p = results_players[0].boxes.xyxy.cpu().numpy()                          # Detected players, referees and ball (x,y,x,y) bounding boxes\n",
    "        bboxes_p_c = results_players[0].boxes.xywh.cpu().numpy()                        # Detected players, referees and ball (x,y,w,h) bounding boxes    \n",
    "        labels_p = list(results_players[0].boxes.cls.cpu().numpy())                     # Detected players, referees and ball labels list\n",
    "        confs_p = list(results_players[0].boxes.conf.cpu().numpy())                     # Detected players, referees and ball confidence level\n",
    "        \n",
    "        bboxes_k = results_keypoints[0].boxes.xyxy.cpu().numpy()                        # Detected field keypoints (x,y,w,h) bounding boxes\n",
    "        bboxes_k_c = results_keypoints[0].boxes.xywh.cpu().numpy()                      # Detected field keypoints (x,y,w,h) bounding boxes\n",
    "        labels_k = list(results_keypoints[0].boxes.cls.cpu().numpy())                   # Detected field keypoints labels list\n",
    "\n",
    "        # from 0,1.. -> TLC,TRC..\n",
    "        detected_labels = [classes_names_dic[i] for i in labels_k]\n",
    "\n",
    "        # coordinates of keypoints in field\n",
    "        detected_labels_src_pts = np.array([list(np.round(bboxes_k_c[i][:2]).astype(int)) for i in range(bboxes_k_c.shape[0])])\n",
    "\n",
    "        # coordinates of mapped keypoints\n",
    "        detected_labels_dst_pts = np.array([keypoints_map_pos[i] for i in detected_labels])\n",
    "\n",
    "\n",
    "        ## if points detected > 3 map points and players to field map\n",
    "        if len(detected_labels) > 3: \n",
    "            if frame_nbr > 1:\n",
    "                # Determine common detected field keypoints between previous and current frames\n",
    "                common_labels = set(detected_labels_prev) & set(detected_labels)\n",
    "                # When at least 4 common keypoints are detected, determine if they are displaced on average beyond a certain tolerance level\n",
    "                if len(common_labels) > 3:\n",
    "                    common_label_idx_prev = [detected_labels_prev.index(i) for i in common_labels]   # Get labels indexes of common detected keypoints from previous frame\n",
    "                    common_label_idx_curr = [detected_labels.index(i) for i in common_labels]        # Get labels indexes of common detected keypoints from current frame\n",
    "                    coor_common_label_prev = detected_labels_src_pts_prev[common_label_idx_prev]     # Get labels coordiantes of common detected keypoints from previous frame\n",
    "                    coor_common_label_curr = detected_labels_src_pts[common_label_idx_curr]          # Get labels coordiantes of common detected keypoints from current frame\n",
    "                    coor_error = mean_squared_error(coor_common_label_prev, coor_common_label_curr)  # Calculate error between previous and current common keypoints coordinates\n",
    "                    update_homography = coor_error > keypoints_displacement_mean_tol                 # Check if error surpassed the predefined tolerance level\n",
    "                else:\n",
    "                    update_homography = True                                                         \n",
    "            else:\n",
    "                update_homography = True\n",
    "\n",
    "            if  update_homography:\n",
    "                h, mask = cv2.findHomography(detected_labels_src_pts,                   # Calculate homography matrix\n",
    "                                              detected_labels_dst_pts)                  \n",
    "            \n",
    "            detected_labels_prev = detected_labels.copy()                               # Save current detected keypoint labels for next frame\n",
    "            detected_labels_src_pts_prev = detected_labels_src_pts.copy()               # Save current detected keypoint to measure error in next frame\n",
    "\n",
    "            # get boxes of players and ball to map to the field map\n",
    "            bboxes_p_c_0 = bboxes_p_c[[i==0 for i in labels_p],:]                       # Get bounding boxes information (x,y,w,h) of detected players (label 0)\n",
    "            bboxes_p_c_2 = bboxes_p_c[[i==2 for i in labels_p],:]                       # Get bounding boxes information (x,y,w,h) of detected ball(s) (label 2)\n",
    "\n",
    "            \n",
    "            # Get coordinates of detected players on frame (x_center, y_center+h/2)\n",
    "            detected_ppos_src_pts = bboxes_p_c_0[:,:2]  + np.array([[0]*bboxes_p_c_0.shape[0], bboxes_p_c_0[:,3]/2]).transpose()\n",
    "            # Get coordinates of the first detected ball (x_center, y_center)\n",
    "            detected_ball_src_pos = bboxes_p_c_2[0,:2] if bboxes_p_c_2.shape[0]>0 else None\n",
    "\n",
    "            # Transform players coordinates from frame plane to tactical map plane using the calculated Homography matrix\n",
    "            pred_dst_pts = []                                                           # Initialize players tactical map coordiantes list\n",
    "            for pt in detected_ppos_src_pts: # Loop over players frame coordiantes\n",
    "                # track players how mosh areff\n",
    "                pt = np.append(np.array(pt), np.array([1]), axis=0)                     # Covert to homogeneous coordiantes\n",
    "                dest_point = np.matmul(h, np.transpose(pt))                              # Apply homography transofrmation\n",
    "                dest_point = dest_point/dest_point[2]                                   # Revert to 2D-coordiantes\n",
    "                pred_dst_pts.append(list(np.transpose(dest_point)[:2]))                 # Update players tactical map coordiantes list\n",
    "            pred_dst_pts = np.array(pred_dst_pts)\n",
    "\n",
    "            # Transform ball coordinates from frame plane to tactical map plane using the calculated Homography matrix\n",
    "            if detected_ball_src_pos is not None:\n",
    "                pt = np.append(np.array(detected_ball_src_pos), np.array([1]), axis=0)\n",
    "                dest_point = np.matmul(h, np.transpose(pt))\n",
    "                dest_point = dest_point/dest_point[2]\n",
    "                detected_ball_dst_pos = np.transpose(dest_point)\n",
    "\n",
    "                # Update track ball position history to draw the ball \n",
    "                if len(ball_track_history['src'])>0 :\n",
    "                    if np.linalg.norm(detected_ball_src_pos-ball_track_history['src'][-1])<ball_track_dist_thresh:\n",
    "                        ball_track_history['src'].append((int(detected_ball_src_pos[0]), int(detected_ball_src_pos[1])))\n",
    "                        ball_track_history['dst'].append((int(detected_ball_dst_pos[0]), int(detected_ball_dst_pos[1])))\n",
    "                    else:\n",
    "                        ball_track_history['src']=[(int(detected_ball_src_pos[0]), int(detected_ball_src_pos[1]))]\n",
    "                        ball_track_history['dst']=[(int(detected_ball_dst_pos[0]), int(detected_ball_dst_pos[1]))]\n",
    "                else:\n",
    "                    ball_track_history['src'].append((int(detected_ball_src_pos[0]), int(detected_ball_src_pos[1])))\n",
    "                    ball_track_history['dst'].append((int(detected_ball_dst_pos[0]), int(detected_ball_dst_pos[1])))\n",
    "            # Remove oldest tracked ball postion if track exceedes threshold        \n",
    "            if len(ball_track_history) > max_track_length:\n",
    "                    ball_track_history['src'].pop(0)\n",
    "                    ball_track_history['dst'].pop(0)\n",
    "            # track ball is closest to which player and assign it to a player when it changes players trigger  \n",
    "\n",
    "        ######### Part 2 ########## \n",
    "        # Players Team Prediction #\n",
    "        ###########################\n",
    "         \n",
    "        if (frame_nbr <= 4):\n",
    "            frame_rgb = cv2.cvtColor(frame, cv2.COLOR_BGR2RGB)                                      # Convert frame to RGB\n",
    "            obj_palette_list = []                                                                   # Initialize players color palette list\n",
    "            palette_interval = (0,5)                                                                # Color interval to extract from dominant colors palette (1rd to 5th color)\n",
    "            annotated_frame = frame                                                                 # Create annotated frame \n",
    "    \n",
    "            for player in player_detections:\n",
    "                bbox = player.boxes.xyxy.cpu().numpy()[0]\n",
    "                obj_img = frame_rgb[int(bbox[1]):int(bbox[3]), int(bbox[0]):int(bbox[2])]\n",
    "                obj_img_w, obj_img_h = obj_img.shape[1], obj_img.shape[0]\n",
    "                center_filter_x1 = np.max([(obj_img_w//2)-(obj_img_w//6), 1])\n",
    "                center_filter_x2 = (obj_img_w//2)+(obj_img_w//6)\n",
    "                center_filter_y1 = np.max([(obj_img_h//3)-(obj_img_h//6), 1])\n",
    "                center_filter_y2 = (obj_img_h//3)+(obj_img_h//6)\n",
    "                center_filter = obj_img[center_filter_y1:center_filter_y2, \n",
    "                                            center_filter_x1:center_filter_x2]\n",
    "                obj_pil_img = Image.fromarray(np.uint8(center_filter))               # Convert to pillow image\n",
    "                reduced = obj_pil_img.convert(\"P\", palette=Image.Palette.WEB)                   # Convert to web palette (216 colors)\n",
    "                palette = reduced.getpalette()                                                  # Get palette as [r,g,b,r,g,b,...]\n",
    "                palette = [palette[3*n:3*n+3] for n in range(256)]                              # Group 3 by 3 = [[r,g,b],[r,g,b],...]\n",
    "                color_count = [(n, palette[m]) for n,m in reduced.getcolors()]                  # Create list of palette colors with their frequency\n",
    "                RGB_df = pd.DataFrame(color_count, columns = ['cnt', 'RGB']).sort_values(       # Create dataframe based on defined palette interval\n",
    "                                          by = 'cnt', ascending = False).iloc[\n",
    "                                              palette_interval[0]:palette_interval[1],:]\n",
    "                palette = list(RGB_df.RGB)                                                      # Convert palette to list (for faster processing)\n",
    "                    \n",
    "                # Update detected players color palette list\n",
    "                obj_palette_list.append(palette)\n",
    "\n",
    "            # lalalalalalala el colors 3awza tetzabat law sama7t neshoof taree2a tanya\n",
    "            \n",
    "            ## Calculate distances between each color from every detected player color palette and the predefined teams colors\n",
    "            players_distance_features = []\n",
    "            # Loop over detected players extracted color palettes\n",
    "            for palette in obj_palette_list:\n",
    "                palette_distance = []\n",
    "                palette_lab = [skimage.color.rgb2lab([i/255 for i in color]) for color in palette]  # Convert colors to L*a*b space\n",
    "                # Loop over colors in palette\n",
    "                for color in palette_lab:\n",
    "                    distance_list = []\n",
    "                    # Loop over predefined list of teams colors\n",
    "                    for c in color_list_lab:\n",
    "                        distance = skimage.color.deltaE_cie76(color, c)                             # Calculate Euclidean distance in Lab color space\n",
    "                        distance_list.append(distance)                                              # Update distance list for current color\n",
    "                    \n",
    "                    palette_distance.append(distance_list)                                          # Update distance list for current palette\n",
    "                players_distance_features.append(palette_distance)                                  # Update distance features list\n",
    "            \n",
    "            \n",
    "            ## Predict detected players teams based on distance features\n",
    "            players_teams_list = []\n",
    "            # Loop over players distance features\n",
    "            for i,distance_feats in enumerate(players_distance_features):\n",
    "                vote_list=[]\n",
    "                # Loop over distances for each color \n",
    "                for dist_list in distance_feats:\n",
    "                    team_idx = dist_list.index(min(dist_list))                    # Assign team index for current color based on min distance\n",
    "                    vote_list.append(team_idx)                                                      # Update vote voting list with current color team prediction\n",
    "                team_idx = max(vote_list, key=vote_list.count)\n",
    "                team[player_detections[i].tracker_id] = team_idx\n",
    "                player_detections[i].team = list(colors_dic.keys())[team_idx//2] # \"chelsea\" or \"man city\"\n",
    "                if team_idx % 2 == 0:\n",
    "                    player_detections[i].position = \"Player\"\n",
    "                else :\n",
    "                    player_detections[i].position = \"Goal Keeper\"\n",
    "                players_teams_list.append(team_idx)                      # Predict current player team by vote counting\n",
    "    \n",
    "        else :\n",
    "            annotated_frame = frame\n",
    "            players_teams_list = []\n",
    "            for player in player_detections:\n",
    "                team_idx = team[player.tracker_id]\n",
    "                player.team = list(colors_dic.keys())[team_idx] # \"chelsea\" or \"man city\"\n",
    "                if team_idx % 2 == 0:\n",
    "                    player.position = \"Player\"\n",
    "                else :\n",
    "                    player.position = \"Goal Keeper\"\n",
    "                players_teams_list.append(team_idx)\n",
    "            \n",
    "        #################### Part 3 #####################\n",
    "        # Updated Frame & Tactical Map With Annotations #\n",
    "        #################################################\n",
    "        for player in player_detections:\n",
    "            bbox = player.boxes.xyxy.numpy()[0]\n",
    "            annotated_frame = cv2.rectangle(annotated_frame, (int(bbox[0]), int(bbox[1])),  \n",
    "                                        (int(bbox[2]), int(bbox[3])), (0,0,0), 1)\n",
    "            if player.team == list(colors_dic.keys())[0]:\n",
    "                color = (0,0,0)\n",
    "            else :\n",
    "                color = (255,255,255)\n",
    "            cv2.putText(annotated_frame,f\" {player.tracker_id}\",(int(bbox[0]), int(bbox[1])-10),cv2.FONT_HERSHEY_SIMPLEX, 0.5, color, 2)\n",
    "\n",
    "        ball_color_bgr = (0,0,255)                                                                          # Color (GBR) for ball annotation on tactical map\n",
    "        j=0                                                                                                 # Initializing counter of detected players\n",
    "        palette_box_size = 10                                                                               # Set color box size in pixels (for display)\n",
    "        \n",
    "\n",
    "        # Loop over all detected object by players detection model\n",
    "        for i in range(bboxes_p.shape[0]):\n",
    "            conf = confs_p[i]                                                                               # Get confidence of current detected object\n",
    "            if labels_p[i]==0:                                                                              # Display annotation for detected players (label 0)\n",
    "\n",
    "                \n",
    "                color_rgb = colors_dic[\"Chelsea\"][0]                                                        # Get detected player team color\n",
    "                color_bgr = color_rgb[::-1]\n",
    "                # Add tactical map player postion color coded annotation if more than 3 field keypoints are detected\n",
    "                if len(detected_labels_src_pts)>3:\n",
    "                    tac_map_copy = cv2.circle(tac_map_copy, (int(pred_dst_pts[j][0]),int(pred_dst_pts[j][1])),\n",
    "                                          radius=5, color=color_bgr, thickness=-1)\n",
    "\n",
    "                j+=1                        # Update players counter\n",
    "            else:                                                                                           # Display annotation for otehr detections (label 1, 2)\n",
    "                annotated_frame = cv2.rectangle(annotated_frame, (int(bboxes_p[i,0]), int(bboxes_p[i,1])), \n",
    "                                               (int(bboxes_p[i,2]), int(bboxes_p[i,3])), (255,255,255), 1)\n",
    "                cv2.putText(annotated_frame, labels_dic[labels_p[i]] + f\" {conf:.2f}\",(int(bboxes_p[i,0]), int(bboxes_p[i,1])-10),cv2.FONT_HERSHEY_SIMPLEX, 0.5, (255,255,255), 2)\n",
    "\n",
    "                # Add tactical map ball postion annotation if detected\n",
    "                if detected_ball_src_pos is not None:\n",
    "                    tac_map_copy = cv2.circle(tac_map_copy, (int(detected_ball_dst_pos[0]), \n",
    "                                                   int(detected_ball_dst_pos[1])), radius=5, \n",
    "                                                   color=ball_color_bgr, thickness=3)\n",
    "        # momkin nebadel de be player_detections we neshow el id\n",
    "        # shoof mawdoo3 el player id el mosh mawgood da\n",
    "        for i in range(bboxes_k.shape[0]):\n",
    "            annotated_frame = cv2.rectangle(annotated_frame, (int(bboxes_k[i,0]), int(bboxes_k[i,1])),  \n",
    "                                        (int(bboxes_k[i,2]), int(bboxes_k[i,3])), (0,0,0), 1)\n",
    "        \n",
    "        # Plot the ball tracks on tactical map\n",
    "        if len(ball_track_history['src'])>0:\n",
    "            points = np.hstack(ball_track_history['dst']).astype(np.int32).reshape((-1, 1, 2))\n",
    "            tac_map_copy = cv2.polylines(tac_map_copy, [points], isClosed=False, color=(0, 0, 100), thickness=2)\n",
    "        \n",
    "        if len(ball_detections) == 1:\n",
    "            prev_id,prev_idx = player_with_ball_id,player_with_ball_idx\n",
    "            prev_team = team_with_ball\n",
    "            player_with_ball_id,player_with_ball_idx = get_player_in_possession(player_detections,ball_detections)\n",
    "            team_with_ball = player_detections[player_with_ball_idx].team\n",
    "    \n",
    "        # dont forget to assign the prevs after you finish\n",
    "        if prev_id != player_with_ball_id and (frame_nbr - last_frame > 20):\n",
    "            last_frame = frame_nbr\n",
    "            prev_team,prev_position = player_detections[prev_idx].team,player_detections[prev_idx].position\n",
    "            current_team,current_position = player_detections[player_with_ball_idx].team,player_detections[player_with_ball_idx].position\n",
    "            if prev_id != player_with_ball_id:\n",
    "                if prev_team != current_team:\n",
    "                    text += \"the ball was intercepted from \"+str(prev_team)+\" to player \"+str(player_with_ball_id)+\" of \"+str(current_team)\n",
    "                else :\n",
    "                    if prev_position != current_position:\n",
    "                        if prev_position == \"Goal Keeper\":\n",
    "                            text += \"the ball was passed from the Goal Keeper of \"+str(current_team)+\" to player \"+str(player_with_ball_id)\n",
    "                        else:\n",
    "                            text += \"the ball was passed from the palyer number \"+str(player_with_ball_id)+\" to Goal Keeper of \"+str(current_team)\n",
    "                    else :\n",
    "                        text += \"the ball was passed form player \"+str(prev_id)+\" to player \"+str(player_with_ball_id)+\" of team \"+str(current_team)\n",
    "            \n",
    "            else : \n",
    "                text += \"the ball is still with player number \" + str(player_with_ball_id)\n",
    "            #assign prevs\n",
    "               \n",
    "        for player in player_detections:\n",
    "            if player.tracker_id == 17 :\n",
    "                print(\"Box :\")\n",
    "                print(player.boxes.xyxy)\n",
    "                print(\"ID :\")\n",
    "                print(player.tracker_id)\n",
    "                print(\"Team :\")\n",
    "                print(player.team)\n",
    "                print(\"position :\")\n",
    "                print(player.position)\n",
    "                print(\"---------------\")\n",
    "        # kol 3 sawani 2ool haga \n",
    "        # law el koora 8ayaret id 2ool eh el 7asal\n",
    "\n",
    "        \n",
    "        # Combine annotated frame and tactical map in one image with colored border separation\n",
    "        border_color = [255,255,255]                                                                        # Set border color (BGR)\n",
    "        annotated_frame=cv2.copyMakeBorder(annotated_frame, 40, 10, 10, 10,                                 # Add borders to annotated frame\n",
    "                                            cv2.BORDER_CONSTANT, value=border_color)\n",
    "        tac_map_copy = cv2.copyMakeBorder(tac_map_copy, 70, 50, 10, 10, cv2.BORDER_CONSTANT,                # Add borders to tactical map \n",
    "                                           value=border_color)      \n",
    "        tac_map_copy = cv2.resize(tac_map_copy, (tac_map_copy.shape[1], annotated_frame.shape[0]))          # Resize tactical map\n",
    "        final_img = cv2.hconcat((annotated_frame, tac_map_copy))                                            # Concatenate both images\n",
    "        ## Add info annotation\n",
    "        cv2.putText(final_img, \"Tactical Map\", (1370,60), cv2.FONT_HERSHEY_SIMPLEX, 0.9, (0,0,0), 2)\n",
    "        cv2.putText(final_img, \"Press 'p' to pause & 'q' to quit\", (820,30), cv2.FONT_HERSHEY_SIMPLEX, 0.9, (0,0,0), 2)\n",
    "\n",
    "        new_frame_time = time.time()                                                                        # Get time after finished processing current frame\n",
    "        fps = 1/(new_frame_time-prev_frame_time)                                                            # Calculate FPS as 1/(frame proceesing duration)\n",
    "        prev_frame_time = new_frame_time                                                                    # Save current time to be used in next frame\n",
    "        cv2.putText(final_img, \"FPS: \" + str(int(fps)), (20,30), cv2.FONT_HERSHEY_SIMPLEX, 0.9, (0,0,0), 2)\n",
    "        \n",
    "        # Display the final annotated frame\n",
    "        cv2.imshow(\"YOLOv8 Players and Field Keypoints Detection with Team Prediction and Tactical Map\",    \n",
    "                    final_img)\n",
    "\n",
    "        # Treat keyboard user inputs (\"p\" for pause/unpause & \"q\" for quit)\n",
    "        key = cv2.waitKey(1)\n",
    "        # Break the loop if 'q' is pressed\n",
    "        if key == ord(\"q\"):\n",
    "            break\n",
    "        if key == ord('p'):\n",
    "            cv2.waitKey(-1) #wait until any key is pressed\n",
    "    else:\n",
    "        # Break the loop if the end of the video is reached\n",
    "        break\n",
    "\n",
    "# Release the video capture object and close the display window\n",
    "cap.release()\n",
    "cv2.destroyAllWindows()\n"
   ]
  },
  {
   "cell_type": "code",
   "execution_count": 18,
   "metadata": {},
   "outputs": [
    {
     "data": {
      "text/plain": [
       "['Chelsea', 'Man City']"
      ]
     },
     "execution_count": 18,
     "metadata": {},
     "output_type": "execute_result"
    }
   ],
   "source": [
    "list(colors_dic.keys())"
   ]
  },
  {
   "cell_type": "code",
   "execution_count": 22,
   "metadata": {},
   "outputs": [
    {
     "data": {
      "text/plain": [
       "{191: 1,\n",
       " 192: 0,\n",
       " 193: 0,\n",
       " 194: 0,\n",
       " 195: 3,\n",
       " 196: 0,\n",
       " 197: 0,\n",
       " 198: 0,\n",
       " 199: 0,\n",
       " 200: 0,\n",
       " 201: 0,\n",
       " 202: 0,\n",
       " 203: 0,\n",
       " 204: 2,\n",
       " 205: 2,\n",
       " 206: 0,\n",
       " 207: 3,\n",
       " 208: 0,\n",
       " 209: 0}"
      ]
     },
     "execution_count": 22,
     "metadata": {},
     "output_type": "execute_result"
    }
   ],
   "source": [
    "# el denya ma7sooba sa7 bas ana 3awez azboot mawdoo3 el colors da we a7sebo be taree2a mo5talefa\n",
    "# we 3awez a8ayar el angle beta3 el camera\n",
    "# we "
   ]
  },
  {
   "cell_type": "code",
   "execution_count": null,
   "metadata": {},
   "outputs": [],
   "source": []
  },
  {
   "cell_type": "code",
   "execution_count": 19,
   "metadata": {},
   "outputs": [
    {
     "name": "stdout",
     "output_type": "stream",
     "text": [
      "ultralytics.engine.results.Results object with attributes:\n",
      "\n",
      "boxes: ultralytics.engine.results.Boxes object\n",
      "keypoints: None\n",
      "masks: None\n",
      "names: {0: 'player', 1: 'referee', 2: 'ball'}\n",
      "orig_img: array([[[ 86,  77,  81],\n",
      "        [ 83,  75,  79],\n",
      "        [ 81,  73,  76],\n",
      "        ...,\n",
      "        [ 68,  47,  56],\n",
      "        [ 70,  49,  59],\n",
      "        [ 72,  51,  60]],\n",
      "\n",
      "       [[ 88,  80,  83],\n",
      "        [ 87,  79,  82],\n",
      "        [ 83,  75,  79],\n",
      "        ...,\n",
      "        [ 79,  58,  67],\n",
      "        [ 79,  58,  67],\n",
      "        [ 79,  58,  67]],\n",
      "\n",
      "       [[ 94,  86,  89],\n",
      "        [ 93,  84,  88],\n",
      "        [ 89,  81,  84],\n",
      "        ...,\n",
      "        [122, 101, 110],\n",
      "        [108,  87,  96],\n",
      "        [102,  81,  90]],\n",
      "\n",
      "       ...,\n",
      "\n",
      "       [[ 77, 123, 103],\n",
      "        [ 60, 105,  86],\n",
      "        [ 51, 103,  82],\n",
      "        ...,\n",
      "        [ 42, 117,  91],\n",
      "        [ 42, 117,  91],\n",
      "        [ 42, 117,  91]],\n",
      "\n",
      "       [[ 47, 100,  79],\n",
      "        [ 52, 104,  83],\n",
      "        [ 52, 108,  86],\n",
      "        ...,\n",
      "        [ 42, 117,  91],\n",
      "        [ 42, 117,  91],\n",
      "        [ 42, 117,  91]],\n",
      "\n",
      "       [[ 51, 103,  82],\n",
      "        [ 53, 105,  84],\n",
      "        [ 51, 107,  84],\n",
      "        ...,\n",
      "        [ 42, 117,  91],\n",
      "        [ 42, 117,  91],\n",
      "        [ 42, 117,  91]]], dtype=uint8)\n",
      "orig_shape: (720, 1280)\n",
      "path: 'image0.jpg'\n",
      "position: 'Player'\n",
      "probs: None\n",
      "save_dir: None\n",
      "speed: {'preprocess': None, 'inference': None, 'postprocess': None}\n",
      "team: 'Chelsea'\n",
      "tracker_id: 9\n",
      "ultralytics.engine.results.Results object with attributes:\n",
      "\n",
      "boxes: ultralytics.engine.results.Boxes object\n",
      "keypoints: None\n",
      "masks: None\n",
      "names: {0: 'player', 1: 'referee', 2: 'ball'}\n",
      "orig_img: array([[[ 86,  77,  81],\n",
      "        [ 83,  75,  79],\n",
      "        [ 81,  73,  76],\n",
      "        ...,\n",
      "        [ 68,  47,  56],\n",
      "        [ 70,  49,  59],\n",
      "        [ 72,  51,  60]],\n",
      "\n",
      "       [[ 88,  80,  83],\n",
      "        [ 87,  79,  82],\n",
      "        [ 83,  75,  79],\n",
      "        ...,\n",
      "        [ 79,  58,  67],\n",
      "        [ 79,  58,  67],\n",
      "        [ 79,  58,  67]],\n",
      "\n",
      "       [[ 94,  86,  89],\n",
      "        [ 93,  84,  88],\n",
      "        [ 89,  81,  84],\n",
      "        ...,\n",
      "        [122, 101, 110],\n",
      "        [108,  87,  96],\n",
      "        [102,  81,  90]],\n",
      "\n",
      "       ...,\n",
      "\n",
      "       [[ 77, 123, 103],\n",
      "        [ 60, 105,  86],\n",
      "        [ 51, 103,  82],\n",
      "        ...,\n",
      "        [ 42, 117,  91],\n",
      "        [ 42, 117,  91],\n",
      "        [ 42, 117,  91]],\n",
      "\n",
      "       [[ 47, 100,  79],\n",
      "        [ 52, 104,  83],\n",
      "        [ 52, 108,  86],\n",
      "        ...,\n",
      "        [ 42, 117,  91],\n",
      "        [ 42, 117,  91],\n",
      "        [ 42, 117,  91]],\n",
      "\n",
      "       [[ 51, 103,  82],\n",
      "        [ 53, 105,  84],\n",
      "        [ 51, 107,  84],\n",
      "        ...,\n",
      "        [ 42, 117,  91],\n",
      "        [ 42, 117,  91],\n",
      "        [ 42, 117,  91]]], dtype=uint8)\n",
      "orig_shape: (720, 1280)\n",
      "path: 'image0.jpg'\n",
      "position: 'Player'\n",
      "probs: None\n",
      "save_dir: None\n",
      "speed: {'preprocess': None, 'inference': None, 'postprocess': None}\n",
      "team: 'Chelsea'\n",
      "tracker_id: 8\n",
      "ultralytics.engine.results.Results object with attributes:\n",
      "\n",
      "boxes: ultralytics.engine.results.Boxes object\n",
      "keypoints: None\n",
      "masks: None\n",
      "names: {0: 'player', 1: 'referee', 2: 'ball'}\n",
      "orig_img: array([[[ 86,  77,  81],\n",
      "        [ 83,  75,  79],\n",
      "        [ 81,  73,  76],\n",
      "        ...,\n",
      "        [ 68,  47,  56],\n",
      "        [ 70,  49,  59],\n",
      "        [ 72,  51,  60]],\n",
      "\n",
      "       [[ 88,  80,  83],\n",
      "        [ 87,  79,  82],\n",
      "        [ 83,  75,  79],\n",
      "        ...,\n",
      "        [ 79,  58,  67],\n",
      "        [ 79,  58,  67],\n",
      "        [ 79,  58,  67]],\n",
      "\n",
      "       [[ 94,  86,  89],\n",
      "        [ 93,  84,  88],\n",
      "        [ 89,  81,  84],\n",
      "        ...,\n",
      "        [122, 101, 110],\n",
      "        [108,  87,  96],\n",
      "        [102,  81,  90]],\n",
      "\n",
      "       ...,\n",
      "\n",
      "       [[ 77, 123, 103],\n",
      "        [ 60, 105,  86],\n",
      "        [ 51, 103,  82],\n",
      "        ...,\n",
      "        [ 42, 117,  91],\n",
      "        [ 42, 117,  91],\n",
      "        [ 42, 117,  91]],\n",
      "\n",
      "       [[ 47, 100,  79],\n",
      "        [ 52, 104,  83],\n",
      "        [ 52, 108,  86],\n",
      "        ...,\n",
      "        [ 42, 117,  91],\n",
      "        [ 42, 117,  91],\n",
      "        [ 42, 117,  91]],\n",
      "\n",
      "       [[ 51, 103,  82],\n",
      "        [ 53, 105,  84],\n",
      "        [ 51, 107,  84],\n",
      "        ...,\n",
      "        [ 42, 117,  91],\n",
      "        [ 42, 117,  91],\n",
      "        [ 42, 117,  91]]], dtype=uint8)\n",
      "orig_shape: (720, 1280)\n",
      "path: 'image0.jpg'\n",
      "position: 'Player'\n",
      "probs: None\n",
      "save_dir: None\n",
      "speed: {'preprocess': None, 'inference': None, 'postprocess': None}\n",
      "team: 'Chelsea'\n",
      "tracker_id: 19\n",
      "ultralytics.engine.results.Results object with attributes:\n",
      "\n",
      "boxes: ultralytics.engine.results.Boxes object\n",
      "keypoints: None\n",
      "masks: None\n",
      "names: {0: 'player', 1: 'referee', 2: 'ball'}\n",
      "orig_img: array([[[ 86,  77,  81],\n",
      "        [ 83,  75,  79],\n",
      "        [ 81,  73,  76],\n",
      "        ...,\n",
      "        [ 68,  47,  56],\n",
      "        [ 70,  49,  59],\n",
      "        [ 72,  51,  60]],\n",
      "\n",
      "       [[ 88,  80,  83],\n",
      "        [ 87,  79,  82],\n",
      "        [ 83,  75,  79],\n",
      "        ...,\n",
      "        [ 79,  58,  67],\n",
      "        [ 79,  58,  67],\n",
      "        [ 79,  58,  67]],\n",
      "\n",
      "       [[ 94,  86,  89],\n",
      "        [ 93,  84,  88],\n",
      "        [ 89,  81,  84],\n",
      "        ...,\n",
      "        [122, 101, 110],\n",
      "        [108,  87,  96],\n",
      "        [102,  81,  90]],\n",
      "\n",
      "       ...,\n",
      "\n",
      "       [[ 77, 123, 103],\n",
      "        [ 60, 105,  86],\n",
      "        [ 51, 103,  82],\n",
      "        ...,\n",
      "        [ 42, 117,  91],\n",
      "        [ 42, 117,  91],\n",
      "        [ 42, 117,  91]],\n",
      "\n",
      "       [[ 47, 100,  79],\n",
      "        [ 52, 104,  83],\n",
      "        [ 52, 108,  86],\n",
      "        ...,\n",
      "        [ 42, 117,  91],\n",
      "        [ 42, 117,  91],\n",
      "        [ 42, 117,  91]],\n",
      "\n",
      "       [[ 51, 103,  82],\n",
      "        [ 53, 105,  84],\n",
      "        [ 51, 107,  84],\n",
      "        ...,\n",
      "        [ 42, 117,  91],\n",
      "        [ 42, 117,  91],\n",
      "        [ 42, 117,  91]]], dtype=uint8)\n",
      "orig_shape: (720, 1280)\n",
      "path: 'image0.jpg'\n",
      "position: 'Player'\n",
      "probs: None\n",
      "save_dir: None\n",
      "speed: {'preprocess': None, 'inference': None, 'postprocess': None}\n",
      "team: 'Chelsea'\n",
      "tracker_id: 1\n",
      "ultralytics.engine.results.Results object with attributes:\n",
      "\n",
      "boxes: ultralytics.engine.results.Boxes object\n",
      "keypoints: None\n",
      "masks: None\n",
      "names: {0: 'player', 1: 'referee', 2: 'ball'}\n",
      "orig_img: array([[[ 86,  77,  81],\n",
      "        [ 83,  75,  79],\n",
      "        [ 81,  73,  76],\n",
      "        ...,\n",
      "        [ 68,  47,  56],\n",
      "        [ 70,  49,  59],\n",
      "        [ 72,  51,  60]],\n",
      "\n",
      "       [[ 88,  80,  83],\n",
      "        [ 87,  79,  82],\n",
      "        [ 83,  75,  79],\n",
      "        ...,\n",
      "        [ 79,  58,  67],\n",
      "        [ 79,  58,  67],\n",
      "        [ 79,  58,  67]],\n",
      "\n",
      "       [[ 94,  86,  89],\n",
      "        [ 93,  84,  88],\n",
      "        [ 89,  81,  84],\n",
      "        ...,\n",
      "        [122, 101, 110],\n",
      "        [108,  87,  96],\n",
      "        [102,  81,  90]],\n",
      "\n",
      "       ...,\n",
      "\n",
      "       [[ 77, 123, 103],\n",
      "        [ 60, 105,  86],\n",
      "        [ 51, 103,  82],\n",
      "        ...,\n",
      "        [ 42, 117,  91],\n",
      "        [ 42, 117,  91],\n",
      "        [ 42, 117,  91]],\n",
      "\n",
      "       [[ 47, 100,  79],\n",
      "        [ 52, 104,  83],\n",
      "        [ 52, 108,  86],\n",
      "        ...,\n",
      "        [ 42, 117,  91],\n",
      "        [ 42, 117,  91],\n",
      "        [ 42, 117,  91]],\n",
      "\n",
      "       [[ 51, 103,  82],\n",
      "        [ 53, 105,  84],\n",
      "        [ 51, 107,  84],\n",
      "        ...,\n",
      "        [ 42, 117,  91],\n",
      "        [ 42, 117,  91],\n",
      "        [ 42, 117,  91]]], dtype=uint8)\n",
      "orig_shape: (720, 1280)\n",
      "path: 'image0.jpg'\n",
      "position: 'Player'\n",
      "probs: None\n",
      "save_dir: None\n",
      "speed: {'preprocess': None, 'inference': None, 'postprocess': None}\n",
      "team: 'Chelsea'\n",
      "tracker_id: 6\n",
      "ultralytics.engine.results.Results object with attributes:\n",
      "\n",
      "boxes: ultralytics.engine.results.Boxes object\n",
      "keypoints: None\n",
      "masks: None\n",
      "names: {0: 'player', 1: 'referee', 2: 'ball'}\n",
      "orig_img: array([[[ 86,  77,  81],\n",
      "        [ 83,  75,  79],\n",
      "        [ 81,  73,  76],\n",
      "        ...,\n",
      "        [ 68,  47,  56],\n",
      "        [ 70,  49,  59],\n",
      "        [ 72,  51,  60]],\n",
      "\n",
      "       [[ 88,  80,  83],\n",
      "        [ 87,  79,  82],\n",
      "        [ 83,  75,  79],\n",
      "        ...,\n",
      "        [ 79,  58,  67],\n",
      "        [ 79,  58,  67],\n",
      "        [ 79,  58,  67]],\n",
      "\n",
      "       [[ 94,  86,  89],\n",
      "        [ 93,  84,  88],\n",
      "        [ 89,  81,  84],\n",
      "        ...,\n",
      "        [122, 101, 110],\n",
      "        [108,  87,  96],\n",
      "        [102,  81,  90]],\n",
      "\n",
      "       ...,\n",
      "\n",
      "       [[ 77, 123, 103],\n",
      "        [ 60, 105,  86],\n",
      "        [ 51, 103,  82],\n",
      "        ...,\n",
      "        [ 42, 117,  91],\n",
      "        [ 42, 117,  91],\n",
      "        [ 42, 117,  91]],\n",
      "\n",
      "       [[ 47, 100,  79],\n",
      "        [ 52, 104,  83],\n",
      "        [ 52, 108,  86],\n",
      "        ...,\n",
      "        [ 42, 117,  91],\n",
      "        [ 42, 117,  91],\n",
      "        [ 42, 117,  91]],\n",
      "\n",
      "       [[ 51, 103,  82],\n",
      "        [ 53, 105,  84],\n",
      "        [ 51, 107,  84],\n",
      "        ...,\n",
      "        [ 42, 117,  91],\n",
      "        [ 42, 117,  91],\n",
      "        [ 42, 117,  91]]], dtype=uint8)\n",
      "orig_shape: (720, 1280)\n",
      "path: 'image0.jpg'\n",
      "position: 'Player'\n",
      "probs: None\n",
      "save_dir: None\n",
      "speed: {'preprocess': None, 'inference': None, 'postprocess': None}\n",
      "team: 'Chelsea'\n",
      "tracker_id: 18\n",
      "ultralytics.engine.results.Results object with attributes:\n",
      "\n",
      "boxes: ultralytics.engine.results.Boxes object\n",
      "keypoints: None\n",
      "masks: None\n",
      "names: {0: 'player', 1: 'referee', 2: 'ball'}\n",
      "orig_img: array([[[ 86,  77,  81],\n",
      "        [ 83,  75,  79],\n",
      "        [ 81,  73,  76],\n",
      "        ...,\n",
      "        [ 68,  47,  56],\n",
      "        [ 70,  49,  59],\n",
      "        [ 72,  51,  60]],\n",
      "\n",
      "       [[ 88,  80,  83],\n",
      "        [ 87,  79,  82],\n",
      "        [ 83,  75,  79],\n",
      "        ...,\n",
      "        [ 79,  58,  67],\n",
      "        [ 79,  58,  67],\n",
      "        [ 79,  58,  67]],\n",
      "\n",
      "       [[ 94,  86,  89],\n",
      "        [ 93,  84,  88],\n",
      "        [ 89,  81,  84],\n",
      "        ...,\n",
      "        [122, 101, 110],\n",
      "        [108,  87,  96],\n",
      "        [102,  81,  90]],\n",
      "\n",
      "       ...,\n",
      "\n",
      "       [[ 77, 123, 103],\n",
      "        [ 60, 105,  86],\n",
      "        [ 51, 103,  82],\n",
      "        ...,\n",
      "        [ 42, 117,  91],\n",
      "        [ 42, 117,  91],\n",
      "        [ 42, 117,  91]],\n",
      "\n",
      "       [[ 47, 100,  79],\n",
      "        [ 52, 104,  83],\n",
      "        [ 52, 108,  86],\n",
      "        ...,\n",
      "        [ 42, 117,  91],\n",
      "        [ 42, 117,  91],\n",
      "        [ 42, 117,  91]],\n",
      "\n",
      "       [[ 51, 103,  82],\n",
      "        [ 53, 105,  84],\n",
      "        [ 51, 107,  84],\n",
      "        ...,\n",
      "        [ 42, 117,  91],\n",
      "        [ 42, 117,  91],\n",
      "        [ 42, 117,  91]]], dtype=uint8)\n",
      "orig_shape: (720, 1280)\n",
      "path: 'image0.jpg'\n",
      "position: 'Player'\n",
      "probs: None\n",
      "save_dir: None\n",
      "speed: {'preprocess': None, 'inference': None, 'postprocess': None}\n",
      "team: 'Chelsea'\n",
      "tracker_id: 16\n",
      "ultralytics.engine.results.Results object with attributes:\n",
      "\n",
      "boxes: ultralytics.engine.results.Boxes object\n",
      "keypoints: None\n",
      "masks: None\n",
      "names: {0: 'player', 1: 'referee', 2: 'ball'}\n",
      "orig_img: array([[[ 86,  77,  81],\n",
      "        [ 83,  75,  79],\n",
      "        [ 81,  73,  76],\n",
      "        ...,\n",
      "        [ 68,  47,  56],\n",
      "        [ 70,  49,  59],\n",
      "        [ 72,  51,  60]],\n",
      "\n",
      "       [[ 88,  80,  83],\n",
      "        [ 87,  79,  82],\n",
      "        [ 83,  75,  79],\n",
      "        ...,\n",
      "        [ 79,  58,  67],\n",
      "        [ 79,  58,  67],\n",
      "        [ 79,  58,  67]],\n",
      "\n",
      "       [[ 94,  86,  89],\n",
      "        [ 93,  84,  88],\n",
      "        [ 89,  81,  84],\n",
      "        ...,\n",
      "        [122, 101, 110],\n",
      "        [108,  87,  96],\n",
      "        [102,  81,  90]],\n",
      "\n",
      "       ...,\n",
      "\n",
      "       [[ 77, 123, 103],\n",
      "        [ 60, 105,  86],\n",
      "        [ 51, 103,  82],\n",
      "        ...,\n",
      "        [ 42, 117,  91],\n",
      "        [ 42, 117,  91],\n",
      "        [ 42, 117,  91]],\n",
      "\n",
      "       [[ 47, 100,  79],\n",
      "        [ 52, 104,  83],\n",
      "        [ 52, 108,  86],\n",
      "        ...,\n",
      "        [ 42, 117,  91],\n",
      "        [ 42, 117,  91],\n",
      "        [ 42, 117,  91]],\n",
      "\n",
      "       [[ 51, 103,  82],\n",
      "        [ 53, 105,  84],\n",
      "        [ 51, 107,  84],\n",
      "        ...,\n",
      "        [ 42, 117,  91],\n",
      "        [ 42, 117,  91],\n",
      "        [ 42, 117,  91]]], dtype=uint8)\n",
      "orig_shape: (720, 1280)\n",
      "path: 'image0.jpg'\n",
      "position: 'Player'\n",
      "probs: None\n",
      "save_dir: None\n",
      "speed: {'preprocess': None, 'inference': None, 'postprocess': None}\n",
      "team: 'Chelsea'\n",
      "tracker_id: 2\n",
      "ultralytics.engine.results.Results object with attributes:\n",
      "\n",
      "boxes: ultralytics.engine.results.Boxes object\n",
      "keypoints: None\n",
      "masks: None\n",
      "names: {0: 'player', 1: 'referee', 2: 'ball'}\n",
      "orig_img: array([[[ 86,  77,  81],\n",
      "        [ 83,  75,  79],\n",
      "        [ 81,  73,  76],\n",
      "        ...,\n",
      "        [ 68,  47,  56],\n",
      "        [ 70,  49,  59],\n",
      "        [ 72,  51,  60]],\n",
      "\n",
      "       [[ 88,  80,  83],\n",
      "        [ 87,  79,  82],\n",
      "        [ 83,  75,  79],\n",
      "        ...,\n",
      "        [ 79,  58,  67],\n",
      "        [ 79,  58,  67],\n",
      "        [ 79,  58,  67]],\n",
      "\n",
      "       [[ 94,  86,  89],\n",
      "        [ 93,  84,  88],\n",
      "        [ 89,  81,  84],\n",
      "        ...,\n",
      "        [122, 101, 110],\n",
      "        [108,  87,  96],\n",
      "        [102,  81,  90]],\n",
      "\n",
      "       ...,\n",
      "\n",
      "       [[ 77, 123, 103],\n",
      "        [ 60, 105,  86],\n",
      "        [ 51, 103,  82],\n",
      "        ...,\n",
      "        [ 42, 117,  91],\n",
      "        [ 42, 117,  91],\n",
      "        [ 42, 117,  91]],\n",
      "\n",
      "       [[ 47, 100,  79],\n",
      "        [ 52, 104,  83],\n",
      "        [ 52, 108,  86],\n",
      "        ...,\n",
      "        [ 42, 117,  91],\n",
      "        [ 42, 117,  91],\n",
      "        [ 42, 117,  91]],\n",
      "\n",
      "       [[ 51, 103,  82],\n",
      "        [ 53, 105,  84],\n",
      "        [ 51, 107,  84],\n",
      "        ...,\n",
      "        [ 42, 117,  91],\n",
      "        [ 42, 117,  91],\n",
      "        [ 42, 117,  91]]], dtype=uint8)\n",
      "orig_shape: (720, 1280)\n",
      "path: 'image0.jpg'\n",
      "position: 'Player'\n",
      "probs: None\n",
      "save_dir: None\n",
      "speed: {'preprocess': None, 'inference': None, 'postprocess': None}\n",
      "team: 'Chelsea'\n",
      "tracker_id: 3\n",
      "ultralytics.engine.results.Results object with attributes:\n",
      "\n",
      "boxes: ultralytics.engine.results.Boxes object\n",
      "keypoints: None\n",
      "masks: None\n",
      "names: {0: 'player', 1: 'referee', 2: 'ball'}\n",
      "orig_img: array([[[ 86,  77,  81],\n",
      "        [ 83,  75,  79],\n",
      "        [ 81,  73,  76],\n",
      "        ...,\n",
      "        [ 68,  47,  56],\n",
      "        [ 70,  49,  59],\n",
      "        [ 72,  51,  60]],\n",
      "\n",
      "       [[ 88,  80,  83],\n",
      "        [ 87,  79,  82],\n",
      "        [ 83,  75,  79],\n",
      "        ...,\n",
      "        [ 79,  58,  67],\n",
      "        [ 79,  58,  67],\n",
      "        [ 79,  58,  67]],\n",
      "\n",
      "       [[ 94,  86,  89],\n",
      "        [ 93,  84,  88],\n",
      "        [ 89,  81,  84],\n",
      "        ...,\n",
      "        [122, 101, 110],\n",
      "        [108,  87,  96],\n",
      "        [102,  81,  90]],\n",
      "\n",
      "       ...,\n",
      "\n",
      "       [[ 77, 123, 103],\n",
      "        [ 60, 105,  86],\n",
      "        [ 51, 103,  82],\n",
      "        ...,\n",
      "        [ 42, 117,  91],\n",
      "        [ 42, 117,  91],\n",
      "        [ 42, 117,  91]],\n",
      "\n",
      "       [[ 47, 100,  79],\n",
      "        [ 52, 104,  83],\n",
      "        [ 52, 108,  86],\n",
      "        ...,\n",
      "        [ 42, 117,  91],\n",
      "        [ 42, 117,  91],\n",
      "        [ 42, 117,  91]],\n",
      "\n",
      "       [[ 51, 103,  82],\n",
      "        [ 53, 105,  84],\n",
      "        [ 51, 107,  84],\n",
      "        ...,\n",
      "        [ 42, 117,  91],\n",
      "        [ 42, 117,  91],\n",
      "        [ 42, 117,  91]]], dtype=uint8)\n",
      "orig_shape: (720, 1280)\n",
      "path: 'image0.jpg'\n",
      "position: 'Player'\n",
      "probs: None\n",
      "save_dir: None\n",
      "speed: {'preprocess': None, 'inference': None, 'postprocess': None}\n",
      "team: 'Chelsea'\n",
      "tracker_id: 11\n",
      "ultralytics.engine.results.Results object with attributes:\n",
      "\n",
      "boxes: ultralytics.engine.results.Boxes object\n",
      "keypoints: None\n",
      "masks: None\n",
      "names: {0: 'player', 1: 'referee', 2: 'ball'}\n",
      "orig_img: array([[[ 86,  77,  81],\n",
      "        [ 83,  75,  79],\n",
      "        [ 81,  73,  76],\n",
      "        ...,\n",
      "        [ 68,  47,  56],\n",
      "        [ 70,  49,  59],\n",
      "        [ 72,  51,  60]],\n",
      "\n",
      "       [[ 88,  80,  83],\n",
      "        [ 87,  79,  82],\n",
      "        [ 83,  75,  79],\n",
      "        ...,\n",
      "        [ 79,  58,  67],\n",
      "        [ 79,  58,  67],\n",
      "        [ 79,  58,  67]],\n",
      "\n",
      "       [[ 94,  86,  89],\n",
      "        [ 93,  84,  88],\n",
      "        [ 89,  81,  84],\n",
      "        ...,\n",
      "        [122, 101, 110],\n",
      "        [108,  87,  96],\n",
      "        [102,  81,  90]],\n",
      "\n",
      "       ...,\n",
      "\n",
      "       [[ 77, 123, 103],\n",
      "        [ 60, 105,  86],\n",
      "        [ 51, 103,  82],\n",
      "        ...,\n",
      "        [ 42, 117,  91],\n",
      "        [ 42, 117,  91],\n",
      "        [ 42, 117,  91]],\n",
      "\n",
      "       [[ 47, 100,  79],\n",
      "        [ 52, 104,  83],\n",
      "        [ 52, 108,  86],\n",
      "        ...,\n",
      "        [ 42, 117,  91],\n",
      "        [ 42, 117,  91],\n",
      "        [ 42, 117,  91]],\n",
      "\n",
      "       [[ 51, 103,  82],\n",
      "        [ 53, 105,  84],\n",
      "        [ 51, 107,  84],\n",
      "        ...,\n",
      "        [ 42, 117,  91],\n",
      "        [ 42, 117,  91],\n",
      "        [ 42, 117,  91]]], dtype=uint8)\n",
      "orig_shape: (720, 1280)\n",
      "path: 'image0.jpg'\n",
      "position: 'Goal Keeper'\n",
      "probs: None\n",
      "save_dir: None\n",
      "speed: {'preprocess': None, 'inference': None, 'postprocess': None}\n",
      "team: 'Chelsea'\n",
      "tracker_id: 14\n",
      "ultralytics.engine.results.Results object with attributes:\n",
      "\n",
      "boxes: ultralytics.engine.results.Boxes object\n",
      "keypoints: None\n",
      "masks: None\n",
      "names: {0: 'player', 1: 'referee', 2: 'ball'}\n",
      "orig_img: array([[[ 86,  77,  81],\n",
      "        [ 83,  75,  79],\n",
      "        [ 81,  73,  76],\n",
      "        ...,\n",
      "        [ 68,  47,  56],\n",
      "        [ 70,  49,  59],\n",
      "        [ 72,  51,  60]],\n",
      "\n",
      "       [[ 88,  80,  83],\n",
      "        [ 87,  79,  82],\n",
      "        [ 83,  75,  79],\n",
      "        ...,\n",
      "        [ 79,  58,  67],\n",
      "        [ 79,  58,  67],\n",
      "        [ 79,  58,  67]],\n",
      "\n",
      "       [[ 94,  86,  89],\n",
      "        [ 93,  84,  88],\n",
      "        [ 89,  81,  84],\n",
      "        ...,\n",
      "        [122, 101, 110],\n",
      "        [108,  87,  96],\n",
      "        [102,  81,  90]],\n",
      "\n",
      "       ...,\n",
      "\n",
      "       [[ 77, 123, 103],\n",
      "        [ 60, 105,  86],\n",
      "        [ 51, 103,  82],\n",
      "        ...,\n",
      "        [ 42, 117,  91],\n",
      "        [ 42, 117,  91],\n",
      "        [ 42, 117,  91]],\n",
      "\n",
      "       [[ 47, 100,  79],\n",
      "        [ 52, 104,  83],\n",
      "        [ 52, 108,  86],\n",
      "        ...,\n",
      "        [ 42, 117,  91],\n",
      "        [ 42, 117,  91],\n",
      "        [ 42, 117,  91]],\n",
      "\n",
      "       [[ 51, 103,  82],\n",
      "        [ 53, 105,  84],\n",
      "        [ 51, 107,  84],\n",
      "        ...,\n",
      "        [ 42, 117,  91],\n",
      "        [ 42, 117,  91],\n",
      "        [ 42, 117,  91]]], dtype=uint8)\n",
      "orig_shape: (720, 1280)\n",
      "path: 'image0.jpg'\n",
      "position: 'Player'\n",
      "probs: None\n",
      "save_dir: None\n",
      "speed: {'preprocess': None, 'inference': None, 'postprocess': None}\n",
      "team: 'Chelsea'\n",
      "tracker_id: 15\n",
      "ultralytics.engine.results.Results object with attributes:\n",
      "\n",
      "boxes: ultralytics.engine.results.Boxes object\n",
      "keypoints: None\n",
      "masks: None\n",
      "names: {0: 'player', 1: 'referee', 2: 'ball'}\n",
      "orig_img: array([[[ 86,  77,  81],\n",
      "        [ 83,  75,  79],\n",
      "        [ 81,  73,  76],\n",
      "        ...,\n",
      "        [ 68,  47,  56],\n",
      "        [ 70,  49,  59],\n",
      "        [ 72,  51,  60]],\n",
      "\n",
      "       [[ 88,  80,  83],\n",
      "        [ 87,  79,  82],\n",
      "        [ 83,  75,  79],\n",
      "        ...,\n",
      "        [ 79,  58,  67],\n",
      "        [ 79,  58,  67],\n",
      "        [ 79,  58,  67]],\n",
      "\n",
      "       [[ 94,  86,  89],\n",
      "        [ 93,  84,  88],\n",
      "        [ 89,  81,  84],\n",
      "        ...,\n",
      "        [122, 101, 110],\n",
      "        [108,  87,  96],\n",
      "        [102,  81,  90]],\n",
      "\n",
      "       ...,\n",
      "\n",
      "       [[ 77, 123, 103],\n",
      "        [ 60, 105,  86],\n",
      "        [ 51, 103,  82],\n",
      "        ...,\n",
      "        [ 42, 117,  91],\n",
      "        [ 42, 117,  91],\n",
      "        [ 42, 117,  91]],\n",
      "\n",
      "       [[ 47, 100,  79],\n",
      "        [ 52, 104,  83],\n",
      "        [ 52, 108,  86],\n",
      "        ...,\n",
      "        [ 42, 117,  91],\n",
      "        [ 42, 117,  91],\n",
      "        [ 42, 117,  91]],\n",
      "\n",
      "       [[ 51, 103,  82],\n",
      "        [ 53, 105,  84],\n",
      "        [ 51, 107,  84],\n",
      "        ...,\n",
      "        [ 42, 117,  91],\n",
      "        [ 42, 117,  91],\n",
      "        [ 42, 117,  91]]], dtype=uint8)\n",
      "orig_shape: (720, 1280)\n",
      "path: 'image0.jpg'\n",
      "position: 'Goal Keeper'\n",
      "probs: None\n",
      "save_dir: None\n",
      "speed: {'preprocess': None, 'inference': None, 'postprocess': None}\n",
      "team: 'Chelsea'\n",
      "tracker_id: 7\n",
      "ultralytics.engine.results.Results object with attributes:\n",
      "\n",
      "boxes: ultralytics.engine.results.Boxes object\n",
      "keypoints: None\n",
      "masks: None\n",
      "names: {0: 'player', 1: 'referee', 2: 'ball'}\n",
      "orig_img: array([[[ 86,  77,  81],\n",
      "        [ 83,  75,  79],\n",
      "        [ 81,  73,  76],\n",
      "        ...,\n",
      "        [ 68,  47,  56],\n",
      "        [ 70,  49,  59],\n",
      "        [ 72,  51,  60]],\n",
      "\n",
      "       [[ 88,  80,  83],\n",
      "        [ 87,  79,  82],\n",
      "        [ 83,  75,  79],\n",
      "        ...,\n",
      "        [ 79,  58,  67],\n",
      "        [ 79,  58,  67],\n",
      "        [ 79,  58,  67]],\n",
      "\n",
      "       [[ 94,  86,  89],\n",
      "        [ 93,  84,  88],\n",
      "        [ 89,  81,  84],\n",
      "        ...,\n",
      "        [122, 101, 110],\n",
      "        [108,  87,  96],\n",
      "        [102,  81,  90]],\n",
      "\n",
      "       ...,\n",
      "\n",
      "       [[ 77, 123, 103],\n",
      "        [ 60, 105,  86],\n",
      "        [ 51, 103,  82],\n",
      "        ...,\n",
      "        [ 42, 117,  91],\n",
      "        [ 42, 117,  91],\n",
      "        [ 42, 117,  91]],\n",
      "\n",
      "       [[ 47, 100,  79],\n",
      "        [ 52, 104,  83],\n",
      "        [ 52, 108,  86],\n",
      "        ...,\n",
      "        [ 42, 117,  91],\n",
      "        [ 42, 117,  91],\n",
      "        [ 42, 117,  91]],\n",
      "\n",
      "       [[ 51, 103,  82],\n",
      "        [ 53, 105,  84],\n",
      "        [ 51, 107,  84],\n",
      "        ...,\n",
      "        [ 42, 117,  91],\n",
      "        [ 42, 117,  91],\n",
      "        [ 42, 117,  91]]], dtype=uint8)\n",
      "orig_shape: (720, 1280)\n",
      "path: 'image0.jpg'\n",
      "position: 'Goal Keeper'\n",
      "probs: None\n",
      "save_dir: None\n",
      "speed: {'preprocess': None, 'inference': None, 'postprocess': None}\n",
      "team: 'Chelsea'\n",
      "tracker_id: 5\n",
      "ultralytics.engine.results.Results object with attributes:\n",
      "\n",
      "boxes: ultralytics.engine.results.Boxes object\n",
      "keypoints: None\n",
      "masks: None\n",
      "names: {0: 'player', 1: 'referee', 2: 'ball'}\n",
      "orig_img: array([[[ 86,  77,  81],\n",
      "        [ 83,  75,  79],\n",
      "        [ 81,  73,  76],\n",
      "        ...,\n",
      "        [ 68,  47,  56],\n",
      "        [ 70,  49,  59],\n",
      "        [ 72,  51,  60]],\n",
      "\n",
      "       [[ 88,  80,  83],\n",
      "        [ 87,  79,  82],\n",
      "        [ 83,  75,  79],\n",
      "        ...,\n",
      "        [ 79,  58,  67],\n",
      "        [ 79,  58,  67],\n",
      "        [ 79,  58,  67]],\n",
      "\n",
      "       [[ 94,  86,  89],\n",
      "        [ 93,  84,  88],\n",
      "        [ 89,  81,  84],\n",
      "        ...,\n",
      "        [122, 101, 110],\n",
      "        [108,  87,  96],\n",
      "        [102,  81,  90]],\n",
      "\n",
      "       ...,\n",
      "\n",
      "       [[ 77, 123, 103],\n",
      "        [ 60, 105,  86],\n",
      "        [ 51, 103,  82],\n",
      "        ...,\n",
      "        [ 42, 117,  91],\n",
      "        [ 42, 117,  91],\n",
      "        [ 42, 117,  91]],\n",
      "\n",
      "       [[ 47, 100,  79],\n",
      "        [ 52, 104,  83],\n",
      "        [ 52, 108,  86],\n",
      "        ...,\n",
      "        [ 42, 117,  91],\n",
      "        [ 42, 117,  91],\n",
      "        [ 42, 117,  91]],\n",
      "\n",
      "       [[ 51, 103,  82],\n",
      "        [ 53, 105,  84],\n",
      "        [ 51, 107,  84],\n",
      "        ...,\n",
      "        [ 42, 117,  91],\n",
      "        [ 42, 117,  91],\n",
      "        [ 42, 117,  91]]], dtype=uint8)\n",
      "orig_shape: (720, 1280)\n",
      "path: 'image0.jpg'\n",
      "position: 'Goal Keeper'\n",
      "probs: None\n",
      "save_dir: None\n",
      "speed: {'preprocess': None, 'inference': None, 'postprocess': None}\n",
      "team: 'Chelsea'\n",
      "tracker_id: 4\n",
      "ultralytics.engine.results.Results object with attributes:\n",
      "\n",
      "boxes: ultralytics.engine.results.Boxes object\n",
      "keypoints: None\n",
      "masks: None\n",
      "names: {0: 'player', 1: 'referee', 2: 'ball'}\n",
      "orig_img: array([[[ 86,  77,  81],\n",
      "        [ 83,  75,  79],\n",
      "        [ 81,  73,  76],\n",
      "        ...,\n",
      "        [ 68,  47,  56],\n",
      "        [ 70,  49,  59],\n",
      "        [ 72,  51,  60]],\n",
      "\n",
      "       [[ 88,  80,  83],\n",
      "        [ 87,  79,  82],\n",
      "        [ 83,  75,  79],\n",
      "        ...,\n",
      "        [ 79,  58,  67],\n",
      "        [ 79,  58,  67],\n",
      "        [ 79,  58,  67]],\n",
      "\n",
      "       [[ 94,  86,  89],\n",
      "        [ 93,  84,  88],\n",
      "        [ 89,  81,  84],\n",
      "        ...,\n",
      "        [122, 101, 110],\n",
      "        [108,  87,  96],\n",
      "        [102,  81,  90]],\n",
      "\n",
      "       ...,\n",
      "\n",
      "       [[ 77, 123, 103],\n",
      "        [ 60, 105,  86],\n",
      "        [ 51, 103,  82],\n",
      "        ...,\n",
      "        [ 42, 117,  91],\n",
      "        [ 42, 117,  91],\n",
      "        [ 42, 117,  91]],\n",
      "\n",
      "       [[ 47, 100,  79],\n",
      "        [ 52, 104,  83],\n",
      "        [ 52, 108,  86],\n",
      "        ...,\n",
      "        [ 42, 117,  91],\n",
      "        [ 42, 117,  91],\n",
      "        [ 42, 117,  91]],\n",
      "\n",
      "       [[ 51, 103,  82],\n",
      "        [ 53, 105,  84],\n",
      "        [ 51, 107,  84],\n",
      "        ...,\n",
      "        [ 42, 117,  91],\n",
      "        [ 42, 117,  91],\n",
      "        [ 42, 117,  91]]], dtype=uint8)\n",
      "orig_shape: (720, 1280)\n",
      "path: 'image0.jpg'\n",
      "position: 'Player'\n",
      "probs: None\n",
      "save_dir: None\n",
      "speed: {'preprocess': None, 'inference': None, 'postprocess': None}\n",
      "team: 'Chelsea'\n",
      "tracker_id: 13\n",
      "ultralytics.engine.results.Results object with attributes:\n",
      "\n",
      "boxes: ultralytics.engine.results.Boxes object\n",
      "keypoints: None\n",
      "masks: None\n",
      "names: {0: 'player', 1: 'referee', 2: 'ball'}\n",
      "orig_img: array([[[ 86,  77,  81],\n",
      "        [ 83,  75,  79],\n",
      "        [ 81,  73,  76],\n",
      "        ...,\n",
      "        [ 68,  47,  56],\n",
      "        [ 70,  49,  59],\n",
      "        [ 72,  51,  60]],\n",
      "\n",
      "       [[ 88,  80,  83],\n",
      "        [ 87,  79,  82],\n",
      "        [ 83,  75,  79],\n",
      "        ...,\n",
      "        [ 79,  58,  67],\n",
      "        [ 79,  58,  67],\n",
      "        [ 79,  58,  67]],\n",
      "\n",
      "       [[ 94,  86,  89],\n",
      "        [ 93,  84,  88],\n",
      "        [ 89,  81,  84],\n",
      "        ...,\n",
      "        [122, 101, 110],\n",
      "        [108,  87,  96],\n",
      "        [102,  81,  90]],\n",
      "\n",
      "       ...,\n",
      "\n",
      "       [[ 77, 123, 103],\n",
      "        [ 60, 105,  86],\n",
      "        [ 51, 103,  82],\n",
      "        ...,\n",
      "        [ 42, 117,  91],\n",
      "        [ 42, 117,  91],\n",
      "        [ 42, 117,  91]],\n",
      "\n",
      "       [[ 47, 100,  79],\n",
      "        [ 52, 104,  83],\n",
      "        [ 52, 108,  86],\n",
      "        ...,\n",
      "        [ 42, 117,  91],\n",
      "        [ 42, 117,  91],\n",
      "        [ 42, 117,  91]],\n",
      "\n",
      "       [[ 51, 103,  82],\n",
      "        [ 53, 105,  84],\n",
      "        [ 51, 107,  84],\n",
      "        ...,\n",
      "        [ 42, 117,  91],\n",
      "        [ 42, 117,  91],\n",
      "        [ 42, 117,  91]]], dtype=uint8)\n",
      "orig_shape: (720, 1280)\n",
      "path: 'image0.jpg'\n",
      "position: 'Player'\n",
      "probs: None\n",
      "save_dir: None\n",
      "speed: {'preprocess': None, 'inference': None, 'postprocess': None}\n",
      "team: 'Chelsea'\n",
      "tracker_id: 10\n",
      "ultralytics.engine.results.Results object with attributes:\n",
      "\n",
      "boxes: ultralytics.engine.results.Boxes object\n",
      "keypoints: None\n",
      "masks: None\n",
      "names: {0: 'player', 1: 'referee', 2: 'ball'}\n",
      "orig_img: array([[[ 86,  77,  81],\n",
      "        [ 83,  75,  79],\n",
      "        [ 81,  73,  76],\n",
      "        ...,\n",
      "        [ 68,  47,  56],\n",
      "        [ 70,  49,  59],\n",
      "        [ 72,  51,  60]],\n",
      "\n",
      "       [[ 88,  80,  83],\n",
      "        [ 87,  79,  82],\n",
      "        [ 83,  75,  79],\n",
      "        ...,\n",
      "        [ 79,  58,  67],\n",
      "        [ 79,  58,  67],\n",
      "        [ 79,  58,  67]],\n",
      "\n",
      "       [[ 94,  86,  89],\n",
      "        [ 93,  84,  88],\n",
      "        [ 89,  81,  84],\n",
      "        ...,\n",
      "        [122, 101, 110],\n",
      "        [108,  87,  96],\n",
      "        [102,  81,  90]],\n",
      "\n",
      "       ...,\n",
      "\n",
      "       [[ 77, 123, 103],\n",
      "        [ 60, 105,  86],\n",
      "        [ 51, 103,  82],\n",
      "        ...,\n",
      "        [ 42, 117,  91],\n",
      "        [ 42, 117,  91],\n",
      "        [ 42, 117,  91]],\n",
      "\n",
      "       [[ 47, 100,  79],\n",
      "        [ 52, 104,  83],\n",
      "        [ 52, 108,  86],\n",
      "        ...,\n",
      "        [ 42, 117,  91],\n",
      "        [ 42, 117,  91],\n",
      "        [ 42, 117,  91]],\n",
      "\n",
      "       [[ 51, 103,  82],\n",
      "        [ 53, 105,  84],\n",
      "        [ 51, 107,  84],\n",
      "        ...,\n",
      "        [ 42, 117,  91],\n",
      "        [ 42, 117,  91],\n",
      "        [ 42, 117,  91]]], dtype=uint8)\n",
      "orig_shape: (720, 1280)\n",
      "path: 'image0.jpg'\n",
      "position: 'Player'\n",
      "probs: None\n",
      "save_dir: None\n",
      "speed: {'preprocess': None, 'inference': None, 'postprocess': None}\n",
      "team: 'Chelsea'\n",
      "tracker_id: 12\n"
     ]
    },
    {
     "ename": "AttributeError",
     "evalue": "'Results' object has no attribute 'tracker_id'. See valid attributes below.\n\n    A class for storing and manipulating inference results.\n\n    Args:\n        orig_img (numpy.ndarray): The original image as a numpy array.\n        path (str): The path to the image file.\n        names (dict): A dictionary of class names.\n        boxes (torch.tensor, optional): A 2D tensor of bounding box coordinates for each detection.\n        masks (torch.tensor, optional): A 3D tensor of detection masks, where each mask is a binary image.\n        probs (torch.tensor, optional): A 1D tensor of probabilities of each class for classification task.\n        keypoints (List[List[float]], optional): A list of detected keypoints for each object.\n\n    Attributes:\n        orig_img (numpy.ndarray): The original image as a numpy array.\n        orig_shape (tuple): The original image shape in (height, width) format.\n        boxes (Boxes, optional): A Boxes object containing the detection bounding boxes.\n        masks (Masks, optional): A Masks object containing the detection masks.\n        probs (Probs, optional): A Probs object containing probabilities of each class for classification task.\n        keypoints (Keypoints, optional): A Keypoints object containing detected keypoints for each object.\n        speed (dict): A dictionary of preprocess, inference, and postprocess speeds in milliseconds per image.\n        names (dict): A dictionary of class names.\n        path (str): The path to the image file.\n        _keys (tuple): A tuple of attribute names for non-empty attributes.\n    ",
     "output_type": "error",
     "traceback": [
      "\u001b[0;31m---------------------------------------------------------------------------\u001b[0m",
      "\u001b[0;31mAttributeError\u001b[0m                            Traceback (most recent call last)",
      "Cell \u001b[0;32mIn[19], line 2\u001b[0m\n\u001b[1;32m      1\u001b[0m \u001b[38;5;28;01mfor\u001b[39;00m player \u001b[38;5;129;01min\u001b[39;00m player_detections:\n\u001b[0;32m----> 2\u001b[0m     \u001b[38;5;28;01mif\u001b[39;00m \u001b[43mplayer\u001b[49m\u001b[38;5;241;43m.\u001b[39;49m\u001b[43mtracker_id\u001b[49m \u001b[38;5;241m!=\u001b[39m \u001b[38;5;28;01mNone\u001b[39;00m :\n\u001b[1;32m      3\u001b[0m         \u001b[38;5;28mprint\u001b[39m(player)\n",
      "File \u001b[0;32m~/pytorch-test/env/lib/python3.9/site-packages/ultralytics/utils/__init__.py:153\u001b[0m, in \u001b[0;36mSimpleClass.__getattr__\u001b[0;34m(self, attr)\u001b[0m\n\u001b[1;32m    151\u001b[0m \u001b[38;5;250m\u001b[39m\u001b[38;5;124;03m\"\"\"Custom attribute access error message with helpful information.\"\"\"\u001b[39;00m\n\u001b[1;32m    152\u001b[0m name \u001b[38;5;241m=\u001b[39m \u001b[38;5;28mself\u001b[39m\u001b[38;5;241m.\u001b[39m\u001b[38;5;18m__class__\u001b[39m\u001b[38;5;241m.\u001b[39m\u001b[38;5;18m__name__\u001b[39m\n\u001b[0;32m--> 153\u001b[0m \u001b[38;5;28;01mraise\u001b[39;00m \u001b[38;5;167;01mAttributeError\u001b[39;00m(\u001b[38;5;124mf\u001b[39m\u001b[38;5;124m\"\u001b[39m\u001b[38;5;124m'\u001b[39m\u001b[38;5;132;01m{\u001b[39;00mname\u001b[38;5;132;01m}\u001b[39;00m\u001b[38;5;124m'\u001b[39m\u001b[38;5;124m object has no attribute \u001b[39m\u001b[38;5;124m'\u001b[39m\u001b[38;5;132;01m{\u001b[39;00mattr\u001b[38;5;132;01m}\u001b[39;00m\u001b[38;5;124m'\u001b[39m\u001b[38;5;124m. See valid attributes below.\u001b[39m\u001b[38;5;130;01m\\n\u001b[39;00m\u001b[38;5;132;01m{\u001b[39;00m\u001b[38;5;28mself\u001b[39m\u001b[38;5;241m.\u001b[39m\u001b[38;5;18m__doc__\u001b[39m\u001b[38;5;132;01m}\u001b[39;00m\u001b[38;5;124m\"\u001b[39m)\n",
      "\u001b[0;31mAttributeError\u001b[0m: 'Results' object has no attribute 'tracker_id'. See valid attributes below.\n\n    A class for storing and manipulating inference results.\n\n    Args:\n        orig_img (numpy.ndarray): The original image as a numpy array.\n        path (str): The path to the image file.\n        names (dict): A dictionary of class names.\n        boxes (torch.tensor, optional): A 2D tensor of bounding box coordinates for each detection.\n        masks (torch.tensor, optional): A 3D tensor of detection masks, where each mask is a binary image.\n        probs (torch.tensor, optional): A 1D tensor of probabilities of each class for classification task.\n        keypoints (List[List[float]], optional): A list of detected keypoints for each object.\n\n    Attributes:\n        orig_img (numpy.ndarray): The original image as a numpy array.\n        orig_shape (tuple): The original image shape in (height, width) format.\n        boxes (Boxes, optional): A Boxes object containing the detection bounding boxes.\n        masks (Masks, optional): A Masks object containing the detection masks.\n        probs (Probs, optional): A Probs object containing probabilities of each class for classification task.\n        keypoints (Keypoints, optional): A Keypoints object containing detected keypoints for each object.\n        speed (dict): A dictionary of preprocess, inference, and postprocess speeds in milliseconds per image.\n        names (dict): A dictionary of class names.\n        path (str): The path to the image file.\n        _keys (tuple): A tuple of attribute names for non-empty attributes.\n    "
     ]
    }
   ],
   "source": [
    "# Open video file\n",
    "cap = cv2.VideoCapture(video_path)\n",
    "\n",
    "# Initialize frame counter\n",
    "frame_nbr = 0\n",
    "\n",
    "# Set keypoints average displacement tolerance level (in pixels) [set to -1 to always update homography matrix]\n",
    "keypoints_displacement_mean_tol = 10\n",
    "\n",
    "# Set confidence thresholds for players and field keypoints detections\n",
    "player_model_conf_thresh = 0.60\n",
    "keypoints_model_conf_thresh = 0.70\n",
    "\n",
    "# Set variable to record the time when we processed last frame \n",
    "prev_frame_time = 0\n",
    "# Set variable to record the time at which we processed current frame \n",
    "new_frame_time = 0\n",
    "\n",
    "# Store the ball track history\n",
    "ball_track_history = {'src':[],\n",
    "                      'dst':[]\n",
    "}\n",
    "\n",
    "# Count consecutive frames with no ball detected\n",
    "nbr_frames_no_ball = 0\n",
    "# Threshold for number of frames with no ball to reset ball track (frames)\n",
    "nbr_frames_no_ball_thresh = 30\n",
    "# Distance threshold for ball tracking (pixels)\n",
    "ball_track_dist_thresh = 100\n",
    "# Maximum ball track length (detections)\n",
    "max_track_length = 35\n",
    "\n",
    "# Loop through the video frames\n",
    "while cap.isOpened():\n",
    "\n",
    "    # Update frame counter\n",
    "    frame_nbr += 1\n",
    "\n",
    "    # Read a frame from the video\n",
    "    success, frame = cap.read()\n",
    "\n",
    "    # Reset tactical map image for each new frame\n",
    "    tac_map_copy = tac_map.copy()\n",
    "\n",
    "    # Reset ball tracks\n",
    "    if nbr_frames_no_ball>nbr_frames_no_ball_thresh:\n",
    "            ball_track_history['dst'] = []\n",
    "            ball_track_history['src'] = []\n",
    "\n",
    "    # Process the frame if it was successfuly read\n",
    "    if success:\n",
    "        \n",
    "        #################### Part 1 ####################\n",
    "        # Object Detection & Coordiante Transofrmation #\n",
    "        ################################################\n",
    "\n",
    "        # Run YOLOv8 players inference on the frame\n",
    "        results_players = model_players(frame, conf=player_model_conf_thresh)\n",
    "        # Run YOLOv8 field keypoints inference on the frame\n",
    "        results_keypoints = model_keypoints(frame, conf=keypoints_model_conf_thresh)\n",
    "\n",
    "        ## Extract detections information\n",
    "        bboxes_p = results_players[0].boxes.xyxy.cpu().numpy()                          # Detected players, referees and ball (x,y,x,y) bounding boxes\n",
    "        bboxes_p_c = results_players[0].boxes.xywh.cpu().numpy()                        # Detected players, referees and ball (x,y,w,h) bounding boxes    \n",
    "        labels_p = list(results_players[0].boxes.cls.cpu().numpy())                     # Detected players, referees and ball labels list\n",
    "        confs_p = list(results_players[0].boxes.conf.cpu().numpy())                     # Detected players, referees and ball confidence level\n",
    "        \n",
    "        bboxes_k = results_keypoints[0].boxes.xyxy.cpu().numpy()                        # Detected field keypoints (x,y,w,h) bounding boxes\n",
    "        bboxes_k_c = results_keypoints[0].boxes.xywh.cpu().numpy()                        # Detected field keypoints (x,y,w,h) bounding boxes\n",
    "        labels_k = list(results_keypoints[0].boxes.cls.cpu().numpy())                   # Detected field keypoints labels list\n",
    "\n",
    "        # Convert detected numerical labels to alphabetical labels\n",
    "        detected_labels = [classes_names_dic[i] for i in labels_k]\n",
    "\n",
    "        # Extract detected field keypoints coordiantes on the current frame\n",
    "        detected_labels_src_pts = np.array([list(np.round(bboxes_k_c[i][:2]).astype(int)) for i in range(bboxes_k_c.shape[0])])\n",
    "\n",
    "        # Get the detected field keypoints coordinates on the tactical map\n",
    "        detected_labels_dst_pts = np.array([keypoints_map_pos[i] for i in detected_labels])\n",
    "\n",
    "\n",
    "        ## Calculate Homography transformation matrix when more than 4 keypoints are detected\n",
    "        if len(detected_labels) > 3:\n",
    "            # Always calculate homography matrix on the first frame\n",
    "            if frame_nbr > 1:\n",
    "                # Determine common detected field keypoints between previous and current frames\n",
    "                common_labels = set(detected_labels_prev) & set(detected_labels)\n",
    "                # When at least 4 common keypoints are detected, determine if they are displaced on average beyond a certain tolerance level\n",
    "                if len(common_labels) > 3:\n",
    "                    common_label_idx_prev = [detected_labels_prev.index(i) for i in common_labels]   # Get labels indexes of common detected keypoints from previous frame\n",
    "                    common_label_idx_curr = [detected_labels.index(i) for i in common_labels]        # Get labels indexes of common detected keypoints from current frame\n",
    "                    coor_common_label_prev = detected_labels_src_pts_prev[common_label_idx_prev]     # Get labels coordiantes of common detected keypoints from previous frame\n",
    "                    coor_common_label_curr = detected_labels_src_pts[common_label_idx_curr]          # Get labels coordiantes of common detected keypoints from current frame\n",
    "                    coor_error = mean_squared_error(coor_common_label_prev, coor_common_label_curr)  # Calculate error between previous and current common keypoints coordinates\n",
    "                    update_homography = coor_error > keypoints_displacement_mean_tol                 # Check if error surpassed the predefined tolerance level\n",
    "                else:\n",
    "                    update_homography = True                                                         \n",
    "            else:\n",
    "                update_homography = True\n",
    "\n",
    "            if  update_homography:\n",
    "                h, mask = cv2.findHomography(detected_labels_src_pts,                   # Calculate homography matrix\n",
    "                                              detected_labels_dst_pts)                  \n",
    "            \n",
    "            detected_labels_prev = detected_labels.copy()                               # Save current detected keypoint labels for next frame\n",
    "            detected_labels_src_pts_prev = detected_labels_src_pts.copy()               # Save current detected keypoint coordiantes for next frame\n",
    "\n",
    "            bboxes_p_c_0 = bboxes_p_c[[i==0 for i in labels_p],:]                       # Get bounding boxes information (x,y,w,h) of detected players (label 0)\n",
    "            bboxes_p_c_2 = bboxes_p_c[[i==2 for i in labels_p],:]                       # Get bounding boxes information (x,y,w,h) of detected ball(s) (label 2)\n",
    "\n",
    "            # Get coordinates of detected players on frame (x_cencter, y_center+h/2)\n",
    "            detected_ppos_src_pts = bboxes_p_c_0[:,:2]  + np.array([[0]*bboxes_p_c_0.shape[0], bboxes_p_c_0[:,3]/2]).transpose()\n",
    "            # Get coordinates of the first detected ball (x_center, y_center)\n",
    "            detected_ball_src_pos = bboxes_p_c_2[0,:2] if bboxes_p_c_2.shape[0]>0 else None\n",
    "\n",
    "            # Transform players coordinates from frame plane to tactical map plance using the calculated Homography matrix\n",
    "            pred_dst_pts = []                                                           # Initialize players tactical map coordiantes list\n",
    "            for pt in detected_ppos_src_pts:                                            # Loop over players frame coordiantes\n",
    "                pt = np.append(np.array(pt), np.array([1]), axis=0)                     # Covert to homogeneous coordiantes\n",
    "                dest_point = np.matmul(h, np.transpose(pt))                              # Apply homography transofrmation\n",
    "                dest_point = dest_point/dest_point[2]                                   # Revert to 2D-coordiantes\n",
    "                pred_dst_pts.append(list(np.transpose(dest_point)[:2]))                 # Update players tactical map coordiantes list\n",
    "            pred_dst_pts = np.array(pred_dst_pts)\n",
    "\n",
    "            # Transform ball coordinates from frame plane to tactical map plane using the calculated Homography matrix\n",
    "            if detected_ball_src_pos is not None:\n",
    "                pt = np.append(np.array(detected_ball_src_pos), np.array([1]), axis=0)\n",
    "                dest_point = np.matmul(h, np.transpose(pt))\n",
    "                dest_point = dest_point/dest_point[2]\n",
    "                detected_ball_dst_pos = np.transpose(dest_point)\n",
    "\n",
    "                # Update track ball position history\n",
    "                if len(ball_track_history['src'])>0 :\n",
    "                    if np.linalg.norm(detected_ball_src_pos-ball_track_history['src'][-1])<ball_track_dist_thresh:\n",
    "                        ball_track_history['src'].append((int(detected_ball_src_pos[0]), int(detected_ball_src_pos[1])))\n",
    "                        ball_track_history['dst'].append((int(detected_ball_dst_pos[0]), int(detected_ball_dst_pos[1])))\n",
    "                    else:\n",
    "                        ball_track_history['src']=[(int(detected_ball_src_pos[0]), int(detected_ball_src_pos[1]))]\n",
    "                        ball_track_history['dst']=[(int(detected_ball_dst_pos[0]), int(detected_ball_dst_pos[1]))]\n",
    "                else:\n",
    "                    ball_track_history['src'].append((int(detected_ball_src_pos[0]), int(detected_ball_src_pos[1])))\n",
    "                    ball_track_history['dst'].append((int(detected_ball_dst_pos[0]), int(detected_ball_dst_pos[1])))\n",
    "            # Remove oldest tracked ball postion if track exceedes threshold        \n",
    "            if len(ball_track_history) > max_track_length:\n",
    "                    ball_track_history['src'].pop(0)\n",
    "                    ball_track_history['dst'].pop(0)\n",
    "\n",
    "        ######### Part 2 ########## \n",
    "        # Players Team Prediction #\n",
    "        ###########################\n",
    "\n",
    "        frame_rgb = cv2.cvtColor(frame, cv2.COLOR_BGR2RGB)                                      # Convert frame to RGB\n",
    "        obj_palette_list = []                                                                   # Initialize players color palette list\n",
    "        palette_interval = (0,5)                                                                # Color interval to extract from dominant colors palette (1rd to 5th color)\n",
    "        annotated_frame = frame                                                                 # Create annotated frame \n",
    "\n",
    "        ## Loop over detected players (label 0) and extract dominant colors palette based on defined interval\n",
    "        for i, j in enumerate(list(results_players[0].boxes.cls.cpu().numpy())):\n",
    "            if int(j) == 0:\n",
    "                bbox = results_players[0].boxes.xyxy.cpu().numpy()[i,:]                         # Get bbox info (x,y,x,y)\n",
    "                obj_img = frame_rgb[int(bbox[1]):int(bbox[3]), int(bbox[0]):int(bbox[2])]       # Crop bbox out of the frame\n",
    "                obj_img_w, obj_img_h = obj_img.shape[1], obj_img.shape[0]\n",
    "                center_filter_x1 = np.max([(obj_img_w//2)-(obj_img_w//5), 1])\n",
    "                center_filter_x2 = (obj_img_w//2)+(obj_img_w//5)\n",
    "                center_filter_y1 = np.max([(obj_img_h//3)-(obj_img_h//5), 1])\n",
    "                center_filter_y2 = (obj_img_h//3)+(obj_img_h//5)\n",
    "                center_filter = obj_img[center_filter_y1:center_filter_y2, \n",
    "                                        center_filter_x1:center_filter_x2]\n",
    "                obj_pil_img = Image.fromarray(np.uint8(center_filter))                          # Convert to pillow image\n",
    "                    \n",
    "                reduced = obj_pil_img.convert(\"P\", palette=Image.Palette.WEB)                   # Convert to web palette (216 colors)\n",
    "                palette = reduced.getpalette()                                                  # Get palette as [r,g,b,r,g,b,...]\n",
    "                palette = [palette[3*n:3*n+3] for n in range(256)]                              # Group 3 by 3 = [[r,g,b],[r,g,b],...]\n",
    "                color_count = [(n, palette[m]) for n,m in reduced.getcolors()]                  # Create list of palette colors with their frequency\n",
    "                RGB_df = pd.DataFrame(color_count, columns = ['cnt', 'RGB']).sort_values(       # Create dataframe based on defined palette interval\n",
    "                                      by = 'cnt', ascending = False).iloc[\n",
    "                                          palette_interval[0]:palette_interval[1],:]\n",
    "                palette = list(RGB_df.RGB)                                                      # Convert palette to list (for faster processing)\n",
    "                annotated_frame = cv2.rectangle(annotated_frame,                                # Add center filter bbox annotations\n",
    "                                                (int(bbox[0])+center_filter_x1, \n",
    "                                                 int(bbox[1])+ center_filter_y1),  \n",
    "                                                (int(bbox[0])+center_filter_x2, \n",
    "                                                 int(bbox[1])+center_filter_y2), (0,0,0), 2)\n",
    "                \n",
    "                # Update detected players color palette list\n",
    "                obj_palette_list.append(palette)\n",
    "        \n",
    "        ## Calculate distances between each color from every detected player color palette and the predefined teams colors\n",
    "        players_distance_features = []\n",
    "        # Loop over detected players extracted color palettes\n",
    "        for palette in obj_palette_list:\n",
    "            palette_distance = []\n",
    "            palette_lab = [skimage.color.rgb2lab([i/255 for i in color]) for color in palette]  # Convert colors to L*a*b* space\n",
    "            # Loop over colors in palette\n",
    "            for color in palette_lab:\n",
    "                distance_list = []\n",
    "                # Loop over predefined list of teams colors\n",
    "                for c in color_list_lab:\n",
    "                    distance = skimage.color.deltaE_cie76(color, c)                             # Calculate Euclidean distance in Lab color space\n",
    "                    distance_list.append(distance)                                              # Update distance list for current color\n",
    "                palette_distance.append(distance_list)                                          # Update distance list for current palette\n",
    "            players_distance_features.append(palette_distance)                                  # Update distance features list\n",
    "\n",
    "        ## Predict detected players teams based on distance features\n",
    "        players_teams_list = []\n",
    "        # Loop over players distance features\n",
    "        for distance_feats in players_distance_features:\n",
    "            vote_list=[]\n",
    "            # Loop over distances for each color \n",
    "            for dist_list in distance_feats:\n",
    "                team_idx = dist_list.index(min(dist_list))//nbr_team_colors                     # Assign team index for current color based on min distance\n",
    "                vote_list.append(team_idx)                                                      # Update vote voting list with current color team prediction\n",
    "            players_teams_list.append(max(vote_list, key=vote_list.count))                      # Predict current player team by vote counting\n",
    "\n",
    "\n",
    "        #################### Part 3 #####################\n",
    "        # Updated Frame & Tactical Map With Annotations #\n",
    "        #################################################\n",
    "\n",
    "        ball_color_bgr = (0,0,255)                                                                          # Color (GBR) for ball annotation on tactical map\n",
    "        j=0                                                                                                 # Initializing counter of detected players\n",
    "        palette_box_size = 10                                                                               # Set color box size in pixels (for display)\n",
    "        \n",
    "\n",
    "        # Loop over all detected object by players detection model\n",
    "        for i in range(bboxes_p.shape[0]):\n",
    "            conf = confs_p[i]                                                                               # Get confidence of current detected object\n",
    "            if labels_p[i]==0:                                                                              # Display annotation for detected players (label 0)\n",
    "                \n",
    "                # Display extracted color palette for each detected player\n",
    "                palette = obj_palette_list[j]                                                               # Get color palette of the detected player\n",
    "                for k, c in enumerate(palette):\n",
    "                    c_bgr = c[::-1]                                                                         # Convert color to BGR\n",
    "                    annotated_frame = cv2.rectangle(annotated_frame, (int(bboxes_p[i,2])+3,                 # Add color palette annotation on frame\n",
    "                                                            int(bboxes_p[i,1])+k*palette_box_size),\n",
    "                                                            (int(bboxes_p[i,2])+palette_box_size,\n",
    "                                                            int(bboxes_p[i,1])+(palette_box_size)*(k+1)),\n",
    "                                                              c_bgr, -1)\n",
    "\n",
    "                team_name = list(colors_dic.keys())[players_teams_list[j]]                                  # Get detected player team prediction\n",
    "                color_rgb = colors_dic[team_name][0]                                                        # Get detected player team color\n",
    "                color_bgr = color_rgb[::-1]                                                                 # Convert color to bgr\n",
    "\n",
    "                annotated_frame = cv2.rectangle(annotated_frame, (int(bboxes_p[i,0]), int(bboxes_p[i,1])),  # Add bbox annotations with team colors\n",
    "                                                (int(bboxes_p[i,2]), int(bboxes_p[i,3])), color_bgr, 1)\n",
    "                \n",
    "                cv2.putText(annotated_frame, team_name + f\" {conf:.2f}\",                                    # Add team name annotations\n",
    "                             (int(bboxes_p[i,0]), int(bboxes_p[i,1])-10), cv2.FONT_HERSHEY_SIMPLEX, 0.5,\n",
    "                               color_bgr, 2)\n",
    "                \n",
    "                # Add tactical map player postion color coded annotation if more than 3 field keypoints are detected\n",
    "                if len(detected_labels_src_pts)>3:\n",
    "                    tac_map_copy = cv2.circle(tac_map_copy, (int(pred_dst_pts[j][0]),int(pred_dst_pts[j][1])),\n",
    "                                          radius=5, color=color_bgr, thickness=-1)\n",
    "\n",
    "                j+=1                                                                                        # Update players counter\n",
    "            else:                                                                                           # Display annotation for otehr detections (label 1, 2)\n",
    "                annotated_frame = cv2.rectangle(annotated_frame, (int(bboxes_p[i,0]), int(bboxes_p[i,1])),  # Add white colored bbox annotations\n",
    "                                                 (int(bboxes_p[i,2]), int(bboxes_p[i,3])), (255,255,255), 1)\n",
    "                cv2.putText(annotated_frame, labels_dic[labels_p[i]] + f\" {conf:.2f}\",                      # Add white colored label text annotations\n",
    "                            (int(bboxes_p[i,0]), int(bboxes_p[i,1])-10), cv2.FONT_HERSHEY_SIMPLEX, 0.5,\n",
    "                              (255,255,255), 2)\n",
    "\n",
    "                # Add tactical map ball postion annotation if detected\n",
    "                if detected_ball_src_pos is not None:\n",
    "                    tac_map_copy = cv2.circle(tac_map_copy, (int(detected_ball_dst_pos[0]), \n",
    "                                                   int(detected_ball_dst_pos[1])), radius=5, \n",
    "                                                   color=ball_color_bgr, thickness=3)\n",
    "        for i in range(bboxes_k.shape[0]):\n",
    "            annotated_frame = cv2.rectangle(annotated_frame, (int(bboxes_k[i,0]), int(bboxes_k[i,1])),  # Add bbox annotations with team colors\n",
    "                                        (int(bboxes_k[i,2]), int(bboxes_k[i,3])), (0,0,0), 1)\n",
    "        \n",
    "        # Plot the ball tracks on tactical map\n",
    "        if len(ball_track_history['src'])>0:\n",
    "            points = np.hstack(ball_track_history['dst']).astype(np.int32).reshape((-1, 1, 2))\n",
    "            tac_map_copy = cv2.polylines(tac_map_copy, [points], isClosed=False, color=(0, 0, 100), thickness=2)\n",
    "        \n",
    "        # Combine annotated frame and tactical map in one image with colored border separation\n",
    "        border_color = [255,255,255]                                                                        # Set border color (BGR)\n",
    "        annotated_frame=cv2.copyMakeBorder(annotated_frame, 40, 10, 10, 10,                                 # Add borders to annotated frame\n",
    "                                            cv2.BORDER_CONSTANT, value=border_color)\n",
    "        tac_map_copy = cv2.copyMakeBorder(tac_map_copy, 70, 50, 10, 10, cv2.BORDER_CONSTANT,                # Add borders to tactical map \n",
    "                                           value=border_color)      \n",
    "        tac_map_copy = cv2.resize(tac_map_copy, (tac_map_copy.shape[1], annotated_frame.shape[0]))          # Resize tactical map\n",
    "        final_img = cv2.hconcat((annotated_frame, tac_map_copy))                                            # Concatenate both images\n",
    "        ## Add info annotation\n",
    "        cv2.putText(final_img, \"Tactical Map\", (1370,60), cv2.FONT_HERSHEY_SIMPLEX, 0.9, (0,0,0), 2)\n",
    "        cv2.putText(final_img, \"Press 'p' to pause & 'q' to quit\", (820,30), cv2.FONT_HERSHEY_SIMPLEX, 0.9, (0,0,0), 2)\n",
    "\n",
    "        new_frame_time = time.time()                                                                        # Get time after finished processing current frame\n",
    "        fps = 1/(new_frame_time-prev_frame_time)                                                            # Calculate FPS as 1/(frame proceesing duration)\n",
    "        prev_frame_time = new_frame_time                                                                    # Save current time to be used in next frame\n",
    "        cv2.putText(final_img, \"FPS: \" + str(int(fps)), (20,30), cv2.FONT_HERSHEY_SIMPLEX, 0.9, (0,0,0), 2)\n",
    "        \n",
    "        # Display the final annotated frame\n",
    "        cv2.imshow(\"YOLOv8 Players and Field Keypoints Detection with Team Prediction and Tactical Map\",    \n",
    "                    final_img)\n",
    "\n",
    "        # Treat keyboard user inputs (\"p\" for pause/unpause & \"q\" for quit)\n",
    "        key = cv2.waitKey(1)\n",
    "        # Break the loop if 'q' is pressed\n",
    "        if key == ord(\"q\"):\n",
    "            break\n",
    "        if key == ord('p'):\n",
    "            cv2.waitKey(-1) #wait until any key is pressed\n",
    "    else:\n",
    "        # Break the loop if the end of the video is reached\n",
    "        break\n",
    "\n",
    "# Release the video capture object and close the display window\n",
    "cap.release()\n",
    "cv2.destroyAllWindows()"
   ]
  },
  {
   "cell_type": "code",
   "execution_count": 67,
   "metadata": {},
   "outputs": [],
   "source": [
    "players_teams_list = []\n",
    "for player in player_detections:\n",
    "    team_idx = team[player.tracker_id]\n",
    "    player.team = list(colors_dic.keys())[team_idx//2] # \"chelsea\" or \"man city\"\n",
    "    if team_idx % 2 == 0:\n",
    "        player.position = \"Player\"\n",
    "    else :\n",
    "        player.position = \"Goal Keeper\"\n",
    "    players_teams_list.append(team_idx)"
   ]
  },
  {
   "cell_type": "code",
   "execution_count": null,
   "metadata": {},
   "outputs": [],
   "source": [
    "# how about you ask about the action and let the agent answer you\n",
    "# whether it is the score , time , ball passed\n",
    "# and have a mode that is activated to commentate\n",
    "# "
   ]
  },
  {
   "cell_type": "code",
   "execution_count": null,
   "metadata": {},
   "outputs": [],
   "source": [
    "                # Display extracted color palette for each detected player\n",
    "                # palette = obj_palette_list[j]                                                               # Get color palette of the detected player\n",
    "                # for k, c in enumerate(palette):\n",
    "                #     c_bgr = c[::-1]                                                                         # Convert color to BGR\n",
    "\n",
    "                # team_name = list(colors_dic.keys())[players_teams_list[j]]                                  # Get detected player team prediction\n",
    "                # color_rgb = colors_dic[team_name][0]                                                        # Get detected player team color\n",
    "                # color_bgr = color_rgb[::-1]                                                                 # Convert color to bgr\n",
    "\n",
    "                # annotated_frame = cv2.rectangle(annotated_frame, (int(bboxes_p[i,0]), int(bboxes_p[i,1])),  # Add bbox annotations with team colors\n",
    "                #                                 (int(bboxes_p[i,2]), int(bboxes_p[i,3])), color_bgr, 1)\n",
    "                \n",
    "                # cv2.putText(annotated_frame, team_name + f\" {conf:.2f}\",                                    # Add team name annotations\n",
    "                #              (int(bboxes_p[i,0]), int(bboxes_p[i,1])-10), cv2.FONT_HERSHEY_SIMPLEX, 0.5,\n",
    "                #                color_bgr, 2)"
   ]
  }
 ],
 "metadata": {
  "kernelspec": {
   "display_name": "Python 3 (ipykernel)",
   "language": "python",
   "name": "python3"
  },
  "language_info": {
   "codemirror_mode": {
    "name": "ipython",
    "version": 3
   },
   "file_extension": ".py",
   "mimetype": "text/x-python",
   "name": "python",
   "nbconvert_exporter": "python",
   "pygments_lexer": "ipython3",
   "version": "3.9.16"
  }
 },
 "nbformat": 4,
 "nbformat_minor": 4
}
